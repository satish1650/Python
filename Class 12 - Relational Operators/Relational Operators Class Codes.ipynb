{
 "cells": [
  {
   "cell_type": "markdown",
   "id": "04c87f28-371b-43b2-b91d-01c2c0d3f21a",
   "metadata": {},
   "source": [
    "# Relational operators"
   ]
  },
  {
   "cell_type": "code",
   "execution_count": 1,
   "id": "6c7b8f43-6992-4d80-90c4-ebb804dd87ac",
   "metadata": {},
   "outputs": [
    {
     "name": "stdout",
     "output_type": "stream",
     "text": [
      "10 == 5: False\n",
      "10 != 5: True\n",
      "10 > 5: True\n",
      "10 < 5: False\n",
      "10 >= 5: True\n",
      "10 <= 5: False\n"
     ]
    }
   ],
   "source": [
    "a = 10\n",
    "b = 5\n",
    "\n",
    "print(f'{a} == {b}:', a == b)  # False\n",
    "print(f'{a} != {b}:', a != b)  # True\n",
    "print(f'{a} > {b}:', a > b)    # True\n",
    "print(f'{a} < {b}:', a < b)    # False\n",
    "print(f'{a} >= {b}:', a >= b)  # True\n",
    "print(f'{a} <= {b}:', a <= b)  # False"
   ]
  },
  {
   "cell_type": "code",
   "execution_count": 2,
   "id": "3d93528d-0d18-47b8-8e63-36c5abd1d3a0",
   "metadata": {},
   "outputs": [
    {
     "data": {
      "text/plain": [
       "True"
      ]
     },
     "execution_count": 2,
     "metadata": {},
     "output_type": "execute_result"
    }
   ],
   "source": [
    "10 > 5"
   ]
  },
  {
   "cell_type": "code",
   "execution_count": null,
   "id": "921c423a-fa51-48de-b084-2606e6d92631",
   "metadata": {},
   "outputs": [],
   "source": []
  },
  {
   "cell_type": "code",
   "execution_count": 4,
   "id": "fbe9c2d8-ef84-484c-abc2-2a57c00b6e2c",
   "metadata": {},
   "outputs": [],
   "source": [
    "s1 = \"small\"\n",
    "s2 = \"big\""
   ]
  },
  {
   "cell_type": "code",
   "execution_count": 19,
   "id": "ca85af3a-51b3-46fe-bcff-3bbc0c35cbde",
   "metadata": {},
   "outputs": [
    {
     "data": {
      "text/plain": [
       "('s', 'b')"
      ]
     },
     "execution_count": 19,
     "metadata": {},
     "output_type": "execute_result"
    }
   ],
   "source": [
    "s1[0], s2[0]"
   ]
  },
  {
   "cell_type": "code",
   "execution_count": 5,
   "id": "793f7b4e-1db1-42e0-9d30-81f0322c2933",
   "metadata": {},
   "outputs": [
    {
     "data": {
      "text/plain": [
       "115"
      ]
     },
     "execution_count": 5,
     "metadata": {},
     "output_type": "execute_result"
    }
   ],
   "source": [
    "ord('s')"
   ]
  },
  {
   "cell_type": "code",
   "execution_count": 6,
   "id": "f4b8031d-2417-4784-ac34-9f4f17a14a99",
   "metadata": {},
   "outputs": [
    {
     "data": {
      "text/plain": [
       "98"
      ]
     },
     "execution_count": 6,
     "metadata": {},
     "output_type": "execute_result"
    }
   ],
   "source": [
    "ord('b')"
   ]
  },
  {
   "cell_type": "code",
   "execution_count": 7,
   "id": "7f02bb9b-abe2-42ed-ad47-73eb25a650f6",
   "metadata": {},
   "outputs": [
    {
     "data": {
      "text/plain": [
       "True"
      ]
     },
     "execution_count": 7,
     "metadata": {},
     "output_type": "execute_result"
    }
   ],
   "source": [
    "115 > 98"
   ]
  },
  {
   "cell_type": "code",
   "execution_count": 8,
   "id": "96a422ce-c2c3-45ee-a2b0-2eec55906aac",
   "metadata": {},
   "outputs": [
    {
     "data": {
      "text/plain": [
       "True"
      ]
     },
     "execution_count": 8,
     "metadata": {},
     "output_type": "execute_result"
    }
   ],
   "source": [
    "s1 > s2"
   ]
  },
  {
   "cell_type": "code",
   "execution_count": 10,
   "id": "11c15efb-a481-407d-b21c-688b10ed020a",
   "metadata": {},
   "outputs": [],
   "source": [
    "s3 = 'sssa'\n",
    "s4 = 'sssA'"
   ]
  },
  {
   "cell_type": "code",
   "execution_count": 11,
   "id": "fbe222d2-ba28-4792-9eaf-f1dabd8d783d",
   "metadata": {},
   "outputs": [
    {
     "data": {
      "text/plain": [
       "('a', 'A')"
      ]
     },
     "execution_count": 11,
     "metadata": {},
     "output_type": "execute_result"
    }
   ],
   "source": [
    "s3[3],s4[3]"
   ]
  },
  {
   "cell_type": "code",
   "execution_count": 12,
   "id": "2914cf5c-c324-4731-bfd4-d4da9df9bbaf",
   "metadata": {},
   "outputs": [
    {
     "data": {
      "text/plain": [
       "(97, 65)"
      ]
     },
     "execution_count": 12,
     "metadata": {},
     "output_type": "execute_result"
    }
   ],
   "source": [
    "ord('a'),ord('A')"
   ]
  },
  {
   "cell_type": "code",
   "execution_count": 13,
   "id": "13b2e8d9-503b-4970-b83a-12ab33d933e0",
   "metadata": {},
   "outputs": [
    {
     "data": {
      "text/plain": [
       "False"
      ]
     },
     "execution_count": 13,
     "metadata": {},
     "output_type": "execute_result"
    }
   ],
   "source": [
    "s3==s4"
   ]
  },
  {
   "cell_type": "code",
   "execution_count": 14,
   "id": "eed881f4-8f8f-48e7-9486-c4371db0ca66",
   "metadata": {},
   "outputs": [
    {
     "data": {
      "text/plain": [
       "True"
      ]
     },
     "execution_count": 14,
     "metadata": {},
     "output_type": "execute_result"
    }
   ],
   "source": [
    "s3 > s4"
   ]
  },
  {
   "cell_type": "code",
   "execution_count": 15,
   "id": "329073eb-c779-4a9b-baf9-cbe7dd8cd856",
   "metadata": {},
   "outputs": [
    {
     "data": {
      "text/plain": [
       "122"
      ]
     },
     "execution_count": 15,
     "metadata": {},
     "output_type": "execute_result"
    }
   ],
   "source": [
    "ord('z')"
   ]
  },
  {
   "cell_type": "code",
   "execution_count": 16,
   "id": "caf116e9-f409-4a63-a7aa-30da4771567c",
   "metadata": {},
   "outputs": [
    {
     "data": {
      "text/plain": [
       "33"
      ]
     },
     "execution_count": 16,
     "metadata": {},
     "output_type": "execute_result"
    }
   ],
   "source": [
    "ord('!')"
   ]
  },
  {
   "cell_type": "code",
   "execution_count": 17,
   "id": "f644cfde-7001-4496-ba21-e222d1785391",
   "metadata": {},
   "outputs": [
    {
     "data": {
      "text/plain": [
       "True"
      ]
     },
     "execution_count": 17,
     "metadata": {},
     "output_type": "execute_result"
    }
   ],
   "source": [
    "'!zzzzzaaa' < 'a'"
   ]
  },
  {
   "cell_type": "code",
   "execution_count": 18,
   "id": "d1fb2535-9f58-4851-9cc0-acf3e6880c20",
   "metadata": {},
   "outputs": [
    {
     "data": {
      "text/plain": [
       "True"
      ]
     },
     "execution_count": 18,
     "metadata": {},
     "output_type": "execute_result"
    }
   ],
   "source": [
    "'aa'>  'a'"
   ]
  },
  {
   "cell_type": "code",
   "execution_count": null,
   "id": "f71b5822-c2f8-4df6-9aef-3ea974b9fa75",
   "metadata": {},
   "outputs": [],
   "source": []
  },
  {
   "cell_type": "code",
   "execution_count": 92,
   "id": "61a0d64d-20d9-44e7-9347-c2f32bfcf5e3",
   "metadata": {},
   "outputs": [
    {
     "name": "stdout",
     "output_type": "stream",
     "text": [
      "True\n",
      "True\n",
      "True\n"
     ]
    }
   ],
   "source": [
    "print(1 < 2 < 3)  # True\n",
    "print(1<2)\n",
    "print(2<3)"
   ]
  },
  {
   "cell_type": "code",
   "execution_count": 19,
   "id": "9b79c636-4263-46bd-9ebe-404bb39edc17",
   "metadata": {},
   "outputs": [
    {
     "name": "stdout",
     "output_type": "stream",
     "text": [
      "False\n",
      "True\n",
      "False\n"
     ]
    }
   ],
   "source": [
    "print(1 < 2 > 3)  # False\n",
    "print(1<2)\n",
    "print(2>3)"
   ]
  },
  {
   "cell_type": "code",
   "execution_count": 20,
   "id": "1eb82cdd-8049-43a5-aacb-ae9d89c3fa0f",
   "metadata": {},
   "outputs": [
    {
     "data": {
      "text/plain": [
       "True"
      ]
     },
     "execution_count": 20,
     "metadata": {},
     "output_type": "execute_result"
    }
   ],
   "source": [
    "15 == 15.0"
   ]
  },
  {
   "cell_type": "code",
   "execution_count": 21,
   "id": "01d0ef00-85ca-4515-95c9-62d5f8ac51cc",
   "metadata": {},
   "outputs": [
    {
     "data": {
      "text/plain": [
       "False"
      ]
     },
     "execution_count": 21,
     "metadata": {},
     "output_type": "execute_result"
    }
   ],
   "source": [
    "15 == '15'"
   ]
  },
  {
   "cell_type": "code",
   "execution_count": 22,
   "id": "f1debf6b-0e28-426c-b7fc-be4919864e62",
   "metadata": {},
   "outputs": [
    {
     "data": {
      "text/plain": [
       "True"
      ]
     },
     "execution_count": 22,
     "metadata": {},
     "output_type": "execute_result"
    }
   ],
   "source": [
    "True == 1"
   ]
  },
  {
   "cell_type": "code",
   "execution_count": 23,
   "id": "1b25fc4f-15e2-412b-896d-e4d721e56338",
   "metadata": {},
   "outputs": [
    {
     "data": {
      "text/plain": [
       "False"
      ]
     },
     "execution_count": 23,
     "metadata": {},
     "output_type": "execute_result"
    }
   ],
   "source": [
    "True == 0"
   ]
  },
  {
   "cell_type": "code",
   "execution_count": 24,
   "id": "a17cdfaa-6500-4e71-8c41-bf67c0d2d77c",
   "metadata": {},
   "outputs": [
    {
     "data": {
      "text/plain": [
       "True"
      ]
     },
     "execution_count": 24,
     "metadata": {},
     "output_type": "execute_result"
    }
   ],
   "source": [
    "0 == False"
   ]
  },
  {
   "cell_type": "code",
   "execution_count": 26,
   "id": "95f63d7f-c9ba-4558-8ca9-04551f3b7da4",
   "metadata": {},
   "outputs": [
    {
     "data": {
      "text/plain": [
       "True"
      ]
     },
     "execution_count": 26,
     "metadata": {},
     "output_type": "execute_result"
    }
   ],
   "source": [
    "'15' != 15"
   ]
  },
  {
   "cell_type": "code",
   "execution_count": 27,
   "id": "7772d6b2-4f78-4e12-b885-c9f9619c63a0",
   "metadata": {},
   "outputs": [
    {
     "data": {
      "text/plain": [
       "True"
      ]
     },
     "execution_count": 27,
     "metadata": {},
     "output_type": "execute_result"
    }
   ],
   "source": [
    "1.0 == 1"
   ]
  },
  {
   "cell_type": "code",
   "execution_count": 28,
   "id": "f5e65421-4b68-4286-9979-b8d754258930",
   "metadata": {},
   "outputs": [
    {
     "data": {
      "text/plain": [
       "False"
      ]
     },
     "execution_count": 28,
     "metadata": {},
     "output_type": "execute_result"
    }
   ],
   "source": [
    "1.1 == 1"
   ]
  },
  {
   "cell_type": "code",
   "execution_count": 29,
   "id": "79a4ea34-1e86-4b5a-ad7a-37ef96774dc4",
   "metadata": {},
   "outputs": [
    {
     "data": {
      "text/plain": [
       "True"
      ]
     },
     "execution_count": 29,
     "metadata": {},
     "output_type": "execute_result"
    }
   ],
   "source": [
    "'True' == str(True)"
   ]
  },
  {
   "cell_type": "code",
   "execution_count": 30,
   "id": "3f2a8c89-8a2a-43d2-a92f-5162ba96c420",
   "metadata": {},
   "outputs": [
    {
     "data": {
      "text/plain": [
       "'True'"
      ]
     },
     "execution_count": 30,
     "metadata": {},
     "output_type": "execute_result"
    }
   ],
   "source": [
    "str(True)"
   ]
  }
 ],
 "metadata": {
  "kernelspec": {
   "display_name": "base",
   "language": "python",
   "name": "python3"
  },
  "language_info": {
   "codemirror_mode": {
    "name": "ipython",
    "version": 3
   },
   "file_extension": ".py",
   "mimetype": "text/x-python",
   "name": "python",
   "nbconvert_exporter": "python",
   "pygments_lexer": "ipython3",
   "version": "3.13.2"
  }
 },
 "nbformat": 4,
 "nbformat_minor": 5
}
