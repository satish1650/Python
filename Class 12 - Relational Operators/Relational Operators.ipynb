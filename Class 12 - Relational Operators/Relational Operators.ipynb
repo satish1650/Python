{
 "cells": [
  {
   "cell_type": "markdown",
   "metadata": {},
   "source": [
    "# Relational Operators in Python\n",
    "\n",
    "Relational operators are used to compare values. They return either `True` or `False` based on the condition being evaluated. In Python, the primary relational operators are:\n",
    "\n",
    "- `==`: Equal to\n",
    "- `!=`: Not equal to\n",
    "- `>`: Greater than\n",
    "- `<`: Less than\n",
    "- `>=`: Greater than or equal to\n",
    "- `<=`: Less than or equal to\n"
   ]
  },
  {
   "cell_type": "markdown",
   "metadata": {},
   "source": [
    "## Examples with Numbers\n",
    "\n",
    "Let's see some examples of how relational operators work with numerical values."
   ]
  },
  {
   "cell_type": "code",
   "execution_count": 1,
   "metadata": {},
   "outputs": [
    {
     "name": "stdout",
     "output_type": "stream",
     "text": [
      "10 == 5: False\n",
      "10 != 5: True\n",
      "10 > 5: True\n",
      "10 < 5: False\n",
      "10 >= 5: True\n",
      "10 <= 5: False\n"
     ]
    }
   ],
   "source": [
    "# Examples with numbers\n",
    "a = 10\n",
    "b = 5\n",
    "\n",
    "print(f'{a} == {b}:', a == b)  # False\n",
    "print(f'{a} != {b}:', a != b)  # True\n",
    "print(f'{a} > {b}:', a > b)    # True\n",
    "print(f'{a} < {b}:', a < b)    # False\n",
    "print(f'{a} >= {b}:', a >= b)  # True\n",
    "print(f'{a} <= {b}:', a <= b)  # False"
   ]
  },
  {
   "cell_type": "markdown",
   "metadata": {},
   "source": [
    "## Relational Operators with Strings\n",
    "\n",
    "Relational operators can also be applied to strings. They perform lexicographical comparison, which is based on the Unicode values of individual characters."
   ]
  },
  {
   "cell_type": "markdown",
   "metadata": {},
   "source": [
    "### Lexicographical Comparison\n",
    "\n",
    "1. Loop through individual characters of the string.\n",
    "2. Get the Unicode value and compare that.\n",
    "3. If the values are the same, continue to the next character. Otherwise, the string with the higher Unicode value character is considered greater.\n"
   ]
  },
  {
   "cell_type": "code",
   "execution_count": 2,
   "metadata": {},
   "outputs": [
    {
     "name": "stdout",
     "output_type": "stream",
     "text": [
      "apple == banana: False\n",
      "apple != banana: True\n",
      "apple > banana: False\n",
      "apple < banana: True\n"
     ]
    }
   ],
   "source": [
    "# Examples with strings\n",
    "str1 = 'apple'\n",
    "str2 = 'banana'\n",
    "\n",
    "print(f'{str1} == {str2}:', str1 == str2)  # False\n",
    "print(f'{str1} != {str2}:', str1 != str2)  # True\n",
    "print(f'{str1} > {str2}:', str1 > str2)    # False\n",
    "print(f'{str1} < {str2}:', str1 < str2)    # True\n"
   ]
  },
  {
   "cell_type": "markdown",
   "metadata": {},
   "source": [
    "## Chaining Multiple Relational Operators\n",
    "\n",
    "In Python, you can chain multiple relational operators in a single line. For example, `1 < 2 < 3` is valid and returns `True` if all individual conditions are `True`. Otherwise, it returns `False`."
   ]
  },
  {
   "cell_type": "code",
   "execution_count": 3,
   "metadata": {},
   "outputs": [
    {
     "name": "stdout",
     "output_type": "stream",
     "text": [
      "True\n",
      "False\n"
     ]
    }
   ],
   "source": [
    "# Chaining relational operators\n",
    "print(1 < 2 < 3)  # True\n",
    "print(1 < 2 > 3)  # False\n"
   ]
  },
  {
   "cell_type": "markdown",
   "metadata": {},
   "source": [
    "## Special Behavior of `and` with Relational Operators\n",
    "\n",
    "When using `and` with relational operators, it checks if the operands are equal and of compatible types. If they are, it returns `True`. Otherwise, it checks for inequality and returns `True` if the types are incompatible and values are different. Otherwise, it returns `False`."
   ]
  },
  {
   "cell_type": "code",
   "execution_count": 4,
   "metadata": {},
   "outputs": [
    {
     "name": "stdout",
     "output_type": "stream",
     "text": [
      "False\n",
      "False\n"
     ]
    }
   ],
   "source": [
    "# Special behavior of 'and' with relational operators\n",
    "a = 5\n",
    "b = 5.0\n",
    "c = '5'\n",
    "\n",
    "print((a == b) and (b == c))  # False\n",
    "print((a != b) and (b != c))  # True"
   ]
  },
  {
   "cell_type": "markdown",
   "metadata": {},
   "source": [
    "## Industry Use Cases\n",
    "\n",
    "- **Data Filtering**: Relational operators are commonly used in data filtering to extract records that meet certain criteria.\n",
    "- **Conditional Logic**: Used in programming to create conditions and control the flow of programs.\n",
    "- **Authentication Systems**: Used to compare user credentials with stored data.\n",
    "- **Sorting Algorithms**: Used to compare elements during the sorting process.\n",
    "- **User Input Validation**: Used to check if the input meets specific criteria.\n"
   ]
  },
  {
   "cell_type": "markdown",
   "metadata": {},
   "source": [
    "# Questions\n",
    "\n",
    "1. What are relational operators in Python? List them.\n",
    "2. How does lexicographical comparison work with strings?\n",
    "3. Write a code snippet to compare two strings lexicographically.\n",
    "4. Can you chain multiple relational operators in Python? Provide an example.\n",
    "5. Explain the special behavior of `and` when used with relational operators.\n",
    "6. Write a code snippet to demonstrate the use of relational operators with numbers.\n",
    "7. Provide a real-life example where relational operators might be used.\n",
    "8. What would be the output of the following code snippet?\n",
    "\n",
    "    ```python\n",
    "    x = 10\n",
    "    y = 20\n",
    "    z = 10\n",
    "    print(x < y > z)\n",
    "    print(x == z >= y)\n",
    "    ```\n"
   ]
  },
  {
   "cell_type": "code",
   "execution_count": 5,
   "metadata": {},
   "outputs": [
    {
     "name": "stdout",
     "output_type": "stream",
     "text": [
      "apple < banana: True\n",
      "True\n",
      "False\n",
      "10 > 5: True\n",
      "True\n",
      "False\n"
     ]
    }
   ],
   "source": [
    "# Answers\n",
    "\n",
    "# 1. Relational operators in Python are used to compare values and they return either True or False based on the condition.\n",
    "# The relational operators in Python are:\n",
    "# - `==`: Equal to\n",
    "# - `!=`: Not equal to\n",
    "# - `>`: Greater than\n",
    "# - `<`: Less than\n",
    "# - `>=`: Greater than or equal to\n",
    "# - `<=`: Less than or equal to\n",
    "\n",
    "# 2. Lexicographical comparison works by comparing the Unicode values of individual characters in the strings, one by one. If the values are the same, it continues to the next character. Otherwise, the string with the higher Unicode value character is considered greater.\n",
    "\n",
    "# 3. Lexicographical comparison example:\n",
    "str1 = 'apple'\n",
    "str2 = 'banana'\n",
    "print(f'{str1} < {str2}:', str1 < str2)  # True\n",
    "\n",
    "# 4. Yes, you can chain multiple relational operators in Python. Example:\n",
    "print(1 < 2 < 3)  # True\n",
    "print(1 < 2 > 3)  # False\n",
    "\n",
    "# 5. The `and` operator with relational operators checks if the operands are equal and of compatible types. If they are, it returns True. Otherwise, it checks for inequality and returns True if the types are incompatible and values are different. Otherwise, it returns False.\n",
    "\n",
    "# 6. Relational operators with numbers example:\n",
    "a = 10\n",
    "b = 5\n",
    "print(f'{a} > {b}:', a > b)  # True\n",
    "\n",
    "# 7. Real-life example: Relational operators can be used in a login system to compare user input (username and password) with stored credentials.\n",
    "\n",
    "# 8. Output of the code snippet:\n",
    "x = 10\n",
    "y = 20\n",
    "z = 10\n",
    "print(x < y > z)  # True\n",
    "print(x == z >= y)  # False\n"
   ]
  }
 ],
 "metadata": {
  "kernelspec": {
   "display_name": "base",
   "language": "python",
   "name": "python3"
  },
  "language_info": {
   "codemirror_mode": {
    "name": "ipython",
    "version": 3
   },
   "file_extension": ".py",
   "mimetype": "text/x-python",
   "name": "python",
   "nbconvert_exporter": "python",
   "pygments_lexer": "ipython3",
   "version": "3.13.2"
  }
 },
 "nbformat": 4,
 "nbformat_minor": 4
}
