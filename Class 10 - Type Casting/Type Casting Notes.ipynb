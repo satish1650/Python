{
 "cells": [
  {
   "cell_type": "markdown",
   "metadata": {},
   "source": [
    "# Type Casting in Python"
   ]
  },
  {
   "cell_type": "markdown",
   "metadata": {},
   "source": [
    "Type casting refers to the process of converting a value of one data type to another. Python supports two types of type conversion:\n",
    "- Implicit Type Conversion\n",
    "- Explicit Type Conversion"
   ]
  },
  {
   "cell_type": "markdown",
   "metadata": {},
   "source": [
    "## Implicit Type Conversion\n",
    "In implicit type conversion, Python automatically converts one data type to another without any user intervention. This is usually done to prevent data loss and to ensure that operations are performed correctly.\n",
    "\n",
    "### Example\n",
    "```python\n",
    "a = 3\n",
    "b = 4.5\n",
    "c = a + b  # 'a' is implicitly converted to float\n",
    "print(c)  # Output: 7.5\n",
    "print(type(c))  # Output: <class 'float'>\n",
    "```"
   ]
  },
  {
   "cell_type": "code",
   "execution_count": 1,
   "metadata": {},
   "outputs": [
    {
     "name": "stdout",
     "output_type": "stream",
     "text": [
      "7.5\n",
      "<class 'float'>\n"
     ]
    }
   ],
   "source": [
    "# Implicit Type Conversion Example\n",
    "a = 3\n",
    "b = 4.5\n",
    "c = a + b  # 'a' is implicitly converted to float\n",
    "print(c)  # Output: 7.5\n",
    "print(type(c))  # Output: <class 'float'>"
   ]
  },
  {
   "cell_type": "markdown",
   "metadata": {},
   "source": [
    "## Explicit Type Conversion\n",
    "In explicit type conversion, also known as type casting, the programmer manually converts one data type to another using predefined functions.\n",
    "\n",
    "### Functions for Explicit Type Conversion\n",
    "- `int()`: Converts a value to an integer.\n",
    "- `float()`: Converts a value to a float.\n",
    "- `str()`: Converts a value to a string.\n",
    "- `bool()`: Converts a value to a boolean."
   ]
  },
  {
   "cell_type": "markdown",
   "metadata": {},
   "source": [
    "### `int()` Function\n",
    "The `int()` function converts a given value to an integer. It can convert floats and boolean values, but not strings that contain non-numeric characters.\n",
    "\n",
    "#### Syntax\n",
    "```python\n",
    "int(value)\n",
    "```\n",
    "#### Example\n",
    "```python\n",
    "print(int(2.5))  # Output: 2\n",
    "print(int(True))  # Output: 1\n",
    "print(int('10'))  # Output: 10\n",
    "```"
   ]
  },
  {
   "cell_type": "code",
   "execution_count": 2,
   "metadata": {},
   "outputs": [
    {
     "name": "stdout",
     "output_type": "stream",
     "text": [
      "2\n",
      "1\n",
      "10\n"
     ]
    }
   ],
   "source": [
    "# Example of int() Function\n",
    "print(int(2.5))  # Output: 2\n",
    "print(int(True))  # Output: 1\n",
    "print(int('10'))  # Output: 10\n",
    "# print(int('Python'))  # This will raise a ValueError"
   ]
  },
  {
   "cell_type": "markdown",
   "metadata": {},
   "source": [
    "### `float()` Function\n",
    "The `float()` function converts a given value to a float. It can convert integers, boolean values, and strings that represent numbers.\n",
    "\n",
    "#### Syntax\n",
    "```python\n",
    "float(value)\n",
    "```\n",
    "#### Example\n",
    "```python\n",
    "print(float(2))  # Output: 2.0\n",
    "print(float(True))  # Output: 1.0\n",
    "print(float('3.14'))  # Output: 3.14\n",
    "```"
   ]
  },
  {
   "cell_type": "code",
   "execution_count": 3,
   "metadata": {},
   "outputs": [
    {
     "name": "stdout",
     "output_type": "stream",
     "text": [
      "2.0\n",
      "1.0\n",
      "3.14\n"
     ]
    }
   ],
   "source": [
    "# Example of float() Function\n",
    "print(float(2))  # Output: 2.0\n",
    "print(float(True))  # Output: 1.0\n",
    "print(float('3.14'))  # Output: 3.14\n",
    "# print(float('Python'))  # This will raise a ValueError"
   ]
  },
  {
   "cell_type": "code",
   "execution_count": 4,
   "metadata": {},
   "outputs": [
    {
     "ename": "ValueError",
     "evalue": "could not convert string to float: 'Python'",
     "output_type": "error",
     "traceback": [
      "\u001b[31m---------------------------------------------------------------------------\u001b[39m",
      "\u001b[31mValueError\u001b[39m                                Traceback (most recent call last)",
      "\u001b[36mCell\u001b[39m\u001b[36m \u001b[39m\u001b[32mIn[4]\u001b[39m\u001b[32m, line 1\u001b[39m\n\u001b[32m----> \u001b[39m\u001b[32m1\u001b[39m \u001b[38;5;28mprint\u001b[39m(\u001b[38;5;28;43mfloat\u001b[39;49m\u001b[43m(\u001b[49m\u001b[33;43m'\u001b[39;49m\u001b[33;43mPython\u001b[39;49m\u001b[33;43m'\u001b[39;49m\u001b[43m)\u001b[49m)\n",
      "\u001b[31mValueError\u001b[39m: could not convert string to float: 'Python'"
     ]
    }
   ],
   "source": [
    "print(float('Python'))"
   ]
  },
  {
   "cell_type": "code",
   "execution_count": 5,
   "metadata": {},
   "outputs": [
    {
     "data": {
      "text/plain": [
       "4.0"
      ]
     },
     "execution_count": 5,
     "metadata": {},
     "output_type": "execute_result"
    }
   ],
   "source": [
    "float(4)"
   ]
  },
  {
   "cell_type": "markdown",
   "metadata": {},
   "source": [
    "### `str()` Function\n",
    "The `str()` function converts a given value to a string. It can convert integers, floats, boolean values, and other data types to their string representation.\n",
    "\n",
    "#### Syntax\n",
    "```python\n",
    "str(value)\n",
    "```\n",
    "#### Example\n",
    "```python\n",
    "print(str(10))  # Output: '10'\n",
    "print(str(3.14))  # Output: '3.14'\n",
    "print(str(True))  # Output: 'True'\n",
    "```"
   ]
  },
  {
   "cell_type": "code",
   "execution_count": 6,
   "metadata": {},
   "outputs": [
    {
     "name": "stdout",
     "output_type": "stream",
     "text": [
      "10\n",
      "3.14\n",
      "True\n"
     ]
    }
   ],
   "source": [
    "# Example of str() Function\n",
    "print(str(10))  # Output: '10'\n",
    "print(str(3.14))  # Output: '3.14'\n",
    "print(str(True))  # Output: 'True'"
   ]
  },
  {
   "cell_type": "markdown",
   "metadata": {},
   "source": [
    "### `bool()` Function\n",
    "The `bool()` function converts a given value to a boolean. It can convert numbers, strings, and other data types to their boolean representation.\n",
    "\n",
    "#### Syntax\n",
    "```python\n",
    "bool(value)\n",
    "```\n",
    "#### Example\n",
    "```python\n",
    "print(bool(1))  # Output: True\n",
    "print(bool(0))  # Output: False\n",
    "print(bool('Python'))  # Output: True\n",
    "print(bool(''))  # Output: False\n",
    "```"
   ]
  },
  {
   "cell_type": "code",
   "execution_count": 7,
   "metadata": {},
   "outputs": [
    {
     "name": "stdout",
     "output_type": "stream",
     "text": [
      "True\n",
      "False\n",
      "True\n",
      "False\n"
     ]
    }
   ],
   "source": [
    "# Example of bool() Function\n",
    "print(bool(1))  # Output: True\n",
    "print(bool(0))  # Output: False\n",
    "print(bool('Python'))  # Output: True\n",
    "print(bool(''))  # Output: False"
   ]
  },
  {
   "cell_type": "markdown",
   "metadata": {},
   "source": [
    "## Important Points about Type Conversion\n",
    "- Implicit type conversion is done automatically by Python.\n",
    "- Explicit type conversion is done manually by the programmer.\n",
    "- Some data types cannot be converted explicitly and will raise errors.\n",
    "- Explicit type conversion can lead to data loss in some cases."
   ]
  },
  {
   "cell_type": "markdown",
   "metadata": {},
   "source": [
    "## Industry Use Cases\n",
    "- **Data Analysis:** Converting data types for analysis and manipulation.\n",
    "- **Web Development:** Handling user input and converting it to the appropriate data type.\n",
    "- **Machine Learning:** Preprocessing data by converting it to the required format.\n",
    "- **Database Management:** Converting data types when reading from or writing to a database."
   ]
  },
  {
   "cell_type": "markdown",
   "metadata": {},
   "source": [
    "# Questions\n",
    "\n",
    "1. What are the two types of type conversion in Python?\n",
    "2. How does implicit type conversion work? Provide an example.\n",
    "3. What is explicit type conversion? List some functions used for explicit type conversion.\n",
    "4. Write a code snippet to convert a float to an integer using explicit type conversion.\n",
    "5. Write a code snippet to convert a string to a boolean using explicit type conversion.\n",
    "6. What will be the output of `bool(0)` and `bool('')`? Explain why.\n",
    "7. Explain with an example how explicit type conversion can lead to data loss.\n",
    "8. Write a code snippet to demonstrate implicit type conversion in an arithmetic operation."
   ]
  },
  {
   "cell_type": "markdown",
   "metadata": {
    "jp-MarkdownHeadingCollapsed": true
   },
   "source": [
    "# Answers\n"
   ]
  },
  {
   "cell_type": "code",
   "execution_count": 8,
   "metadata": {},
   "outputs": [
    {
     "name": "stdout",
     "output_type": "stream",
     "text": [
      "7.5\n",
      "3\n",
      "True\n",
      "9\n",
      "25.0\n"
     ]
    }
   ],
   "source": [
    "\n",
    "# 1. What are the two types of type conversion in Python?\n",
    "# Answer: Implicit Type Conversion and Explicit Type Conversion.\n",
    "\n",
    "# 2. How does implicit type conversion work? Provide an example.\n",
    "# Answer:\n",
    "a = 5\n",
    "b = 2.5\n",
    "c = a + b  # 'a' is implicitly converted to float\n",
    "print(c)  # Output: 7.5\n",
    "\n",
    "# 3. What is explicit type conversion? List some functions used for explicit type conversion.\n",
    "# Answer: Explicit type conversion is when the programmer manually converts one data type to another.\n",
    "# Functions used: int(), float(), str(), bool()\n",
    "\n",
    "# 4. Write a code snippet to convert a float to an integer using explicit type conversion.\n",
    "float_value = 3.99\n",
    "int_value = int(float_value)\n",
    "print(int_value)  # Output: 3\n",
    "\n",
    "# 5. Write a code snippet to convert a string to a boolean using explicit type conversion.\n",
    "str_value = 'True'\n",
    "bool_value = bool(str_value)\n",
    "print(bool_value)  # Output: True\n",
    "\n",
    "# 6. What will be the output of `bool(0)` and `bool('')`? Explain why.\n",
    "# Answer: bool(0) will output False, and bool('') will output False because 0 and an empty string are considered False in Python.\n",
    "\n",
    "# 7. Explain with an example how explicit type conversion can lead to data loss.\n",
    "# Answer:\n",
    "float_value = 9.99\n",
    "int_value = int(float_value)  # Conversion leads to loss of decimal part\n",
    "print(int_value)  # Output: 9\n",
    "\n",
    "# 8. Write a code snippet to demonstrate implicit type conversion in an arithmetic operation.\n",
    "x = 10\n",
    "y = 2.5\n",
    "result = x * y  # 'x' is implicitly converted to float\n",
    "print(result)  # Output: 25.0\n"
   ]
  }
 ],
 "metadata": {
  "kernelspec": {
   "display_name": "base",
   "language": "python",
   "name": "python3"
  },
  "language_info": {
   "codemirror_mode": {
    "name": "ipython",
    "version": 3
   },
   "file_extension": ".py",
   "mimetype": "text/x-python",
   "name": "python",
   "nbconvert_exporter": "python",
   "pygments_lexer": "ipython3",
   "version": "3.13.2"
  }
 },
 "nbformat": 4,
 "nbformat_minor": 4
}
