{
 "cells": [
  {
   "cell_type": "markdown",
   "metadata": {},
   "source": [
    "# Operators in Python\n",
    "\n",
    "Operators are special symbols that carry out different kinds of computations on values. They can manipulate the values of operands. Python supports various types of operators, including arithmetic, comparison (relational), logical, assignment, identity, membership, and binary operators."
   ]
  },
  {
   "cell_type": "markdown",
   "metadata": {},
   "source": [
    "## Types of Operators in Python\n",
    "\n",
    "1. **Arithmetic Operators**\n",
    "2. **Comparison (Relational) Operators**\n",
    "3. **Logical Operators**\n",
    "4. **Assignment Operators**\n",
    "5. **Identity Operators**\n",
    "6. **Membership Operators**\n",
    "7. **Binary Operators**"
   ]
  },
  {
   "cell_type": "markdown",
   "metadata": {},
   "source": [
    "## Arithmetic Operators\n",
    "\n",
    "Arithmetic operators are used to perform common mathematical operations such as addition, subtraction, multiplication, division, modulus, exponentiation, and floor division.\n",
    "\n",
    "| Operator | Description                  | Example       |\n",
    "|----------|------------------------------|---------------|\n",
    "| `+`      | Addition                     | `2 + 3 = 5`   |\n",
    "| `-`      | Subtraction                  | `5 - 2 = 3`   |\n",
    "| `*`      | Multiplication               | `2 * 3 = 6`   |\n",
    "| `/`      | Division                     | `6 / 3 = 2.0` |\n",
    "| `%`      | Modulus (remainder)          | `7 % 2 = 1`   |\n",
    "| `**`     | Exponentiation (power)       | `2 ** 3 = 8`  |\n",
    "| `//`     | Floor Division (quotient)    | `7 // 2 = 3`  |"
   ]
  },
  {
   "cell_type": "code",
   "execution_count": 1,
   "metadata": {},
   "outputs": [
    {
     "name": "stdout",
     "output_type": "stream",
     "text": [
      "Addition:  5\n",
      "Subtraction:  3\n",
      "Multiplication:  6\n",
      "Division:  2.0\n",
      "Modulus:  1\n",
      "Exponentiation:  8\n",
      "Floor Division:  3\n"
     ]
    }
   ],
   "source": [
    "# Addition\n",
    "a = 2\n",
    "b = 3\n",
    "print('Addition: ', a + b)  # Output: 5\n",
    "\n",
    "# Subtraction\n",
    "c = 5\n",
    "d = 2\n",
    "print('Subtraction: ', c - d)  # Output: 3\n",
    "\n",
    "# Multiplication\n",
    "e = 2\n",
    "f = 3\n",
    "print('Multiplication: ', e * f)  # Output: 6\n",
    "\n",
    "# Division\n",
    "g = 6\n",
    "h = 3\n",
    "print('Division: ', g / h)  # Output: 2.0\n",
    "\n",
    "# Modulus\n",
    "i = 7\n",
    "j = 2\n",
    "print('Modulus: ', i % j)  # Output: 1\n",
    "\n",
    "# Exponentiation\n",
    "k = 2\n",
    "l = 3\n",
    "print('Exponentiation: ', k ** l)  # Output: 8\n",
    "\n",
    "# Floor Division\n",
    "m = 7\n",
    "n = 2\n",
    "print('Floor Division: ', m // n)  # Output: 3"
   ]
  },
  {
   "cell_type": "markdown",
   "metadata": {},
   "source": [
    "### Modulus Operator\n",
    "\n",
    "The modulus operator (`%`) returns the remainder when one operand is divided by another. It can be useful for tasks such as checking for even or odd numbers, or performing divisibility tests.\n",
    "\n",
    "```python\n",
    "7 % 2  # Output: 1\n",
    "10 % 2  # Output: 0\n",
    "```\n",
    "\n",
    "Examples:\n",
    "\n",
    "- Checking if a number is even or odd:\n",
    "\n",
    "```python\n",
    "num = 7\n",
    "if num % 2 == 0:\n",
    "    print('Even')\n",
    "else:\n",
    "    print('Odd')  # Output: Odd\n",
    "```\n",
    "\n",
    "- Divisibility test:\n",
    "\n",
    "```python\n",
    "dividend = 10\n",
    "divisor = 2\n",
    "if dividend % divisor == 0:\n",
    "    print(f'{dividend} is divisible by {divisor}')  # Output: 10 is divisible by 2\n",
    "else:\n",
    "    print(f'{dividend} is not divisible by {divisor}')\n",
    "```"
   ]
  },
  {
   "cell_type": "code",
   "execution_count": 2,
   "metadata": {},
   "outputs": [
    {
     "name": "stdout",
     "output_type": "stream",
     "text": [
      "7 % 2 =  1\n",
      "10 % 2 =  0\n",
      "Odd\n",
      "10 is divisible by 2\n"
     ]
    }
   ],
   "source": [
    "# Example of modulus operator\n",
    "print('7 % 2 = ', 7 % 2)  # Output: 1\n",
    "print('10 % 2 = ', 10 % 2)  # Output: 0\n",
    "\n",
    "# Check if a number is even or odd\n",
    "num = 7\n",
    "if num % 2 == 0:\n",
    "    print('Even')\n",
    "else:\n",
    "    print('Odd')  # Output: Odd\n",
    "\n",
    "# Divisibility test\n",
    "dividend = 10\n",
    "divisor = 2\n",
    "if dividend % divisor == 0:\n",
    "    print(f'{dividend} is divisible by {divisor}')  # Output: 10 is divisible by 2\n",
    "else:\n",
    "    print(f'{dividend} is not divisible by {divisor}')\n"
   ]
  },
  {
   "cell_type": "markdown",
   "metadata": {},
   "source": [
    "### Floor Division Operator\n",
    "\n",
    "The floor division operator (`//`) returns the largest possible integer that is less than or equal to the result of the division (i.e., it performs integer division).\n",
    "\n",
    "Examples:\n",
    "\n",
    "```python\n",
    "7 // 2  # Output: 3\n",
    "11 // 4  # Output: 2\n",
    "```\n",
    "\n",
    "This operator is useful in scenarios where you need the quotient without the fractional part."
   ]
  },
  {
   "cell_type": "code",
   "execution_count": 3,
   "metadata": {},
   "outputs": [
    {
     "name": "stdout",
     "output_type": "stream",
     "text": [
      "7 // 2 =  3\n",
      "11 // 4 =  2\n"
     ]
    }
   ],
   "source": [
    "# Example of floor division operator\n",
    "print('7 // 2 = ', 7 // 2)  # Output: 3\n",
    "print('11 // 4 = ', 11 // 4)  # Output: 2\n"
   ]
  },
  {
   "cell_type": "markdown",
   "metadata": {},
   "source": [
    "# Industry Use Cases\n",
    "\n",
    "1. **Finance**: Calculating compound interest, mortgage payments, and loan amortization using arithmetic operators.\n",
    "2. **Game Development**: Using modulus and floor division operators to manage game mechanics such as health points, levels, and score calculations.\n",
    "3. **Data Analysis**: Performing statistical calculations, data aggregation, and summarization using arithmetic operators.\n",
    "4. **Cryptography**: Implementing algorithms that require arithmetic operations on large numbers, such as RSA encryption and decryption.\n",
    "5. **Scientific Computing**: Solving mathematical equations and simulations using arithmetic operators in fields like physics, engineering, and bioinformatics."
   ]
  },
  {
   "cell_type": "markdown",
   "metadata": {},
   "source": [
    "# Questions\n",
    "\n",
    "1. What are the different types of operators in Python?\n",
    "2. How does the modulus operator work? Provide an example.\n",
    "3. What is the difference between the division operator `/` and the floor division operator `//`?\n",
    "4. Write a code snippet to demonstrate the use of arithmetic operators in Python.\n",
    "5. Explain the use of arithmetic operators in real-life applications with examples.\n",
    "6. Write a code snippet to check if a number is divisible by another number using the modulus operator.\n",
    "7. How can you use the floor division operator in a game development scenario?\n",
    "8. Describe a scenario where using the modulus operator is beneficial."
   ]
  },
  {
   "cell_type": "markdown",
   "metadata": {},
   "source": [
    "# Answers\n",
    "\n",
    "1. The different types of operators in Python are: Arithmetic Operators, Comparison (Relational) Operators, Logical Operators, Assignment Operators, Identity Operators, Membership Operators, and Binary Operators.\n",
    "2. The modulus operator (`%`) returns the remainder when one operand is divided by another. Example: `7 % 2` results in `1`.\n",
    "3. The division operator (`/`) performs true division and returns a float, while the floor division operator (`//`) performs integer division and returns the largest possible integer that is less than or equal to the division result. Example: `7 / 2` results in `3.5`, while `7 // 2` results in `3`.\n",
    "4. \n",
    "```python\n",
    "a = 5\n",
    "b = 3\n",
    "print('Addition:', a + b)  # Output: 8\n",
    "print('Subtraction:', a - b)  # Output: 2\n",
    "print('Multiplication:', a * b)  # Output: 15\n",
    "print('Division:', a / b)  # Output: 1.6666666666666667\n",
    "print('Modulus:', a % b)  # Output: 2\n",
    "print('Exponentiation:', a ** b)  # Output: 125\n",
    "print('Floor Division:', a // b)  # Output: 1\n",
    "```\n",
    "5. Arithmetic operators are used in various real-life applications such as:\n",
    "    - Calculating discounts and taxes in e-commerce.\n",
    "    - Determining scores and levels in games.\n",
    "    - Computing statistical measures in data analysis.\n",
    "    - Performing financial calculations like interest and loan payments.\n",
    "6. \n",
    "```python\n",
    "num1 = 10\n",
    "num2 = 3\n",
    "if num1 % num2 == 0:\n",
    "    print(f'{num1} is divisible by {num2}')\n",
    "else:\n",
    "    print(f'{num1} is not divisible by {num2}')  # Output: 10 is not divisible by 3\n",
    "```\n",
    "7. In game development, the floor division operator can be used to calculate the number of complete levels or stages a player has passed. Example:\n",
    "```python\n",
    "total_points = 57\n",
    "points_per_level = 10\n",
    "levels_completed = total_points // points_per_level  # Output: 5\n",
    "print(f'Levels completed: {levels_completed}')\n",
    "```\n",
    "8. The modulus operator is beneficial in scenarios like checking if a number is even or odd, or determining if a number is divisible by another number. Example: Checking for even numbers.\n",
    "```python\n",
    "num = 4\n",
    "if num % 2 == 0:\n",
    "    print(f'{num} is even')  # Output: 4 is even\n",
    "else:\n",
    "    print(f'{num} is odd')\n",
    "```"
   ]
  }
 ],
 "metadata": {
  "kernelspec": {
   "display_name": "base",
   "language": "python",
   "name": "python3"
  },
  "language_info": {
   "codemirror_mode": {
    "name": "ipython",
    "version": 3
   },
   "file_extension": ".py",
   "mimetype": "text/x-python",
   "name": "python",
   "nbconvert_exporter": "python",
   "pygments_lexer": "ipython3",
   "version": "3.13.2"
  }
 },
 "nbformat": 4,
 "nbformat_minor": 4
}
