{
 "cells": [
  {
   "cell_type": "markdown",
   "id": "fc2d34e9-e463-4971-8b3e-085004d5b089",
   "metadata": {},
   "source": [
    "# Opearators in Python"
   ]
  },
  {
   "cell_type": "code",
   "execution_count": 1,
   "id": "f91e622c-f64d-48b9-ab16-6e2870c99a23",
   "metadata": {},
   "outputs": [
    {
     "name": "stdout",
     "output_type": "stream",
     "text": [
      "Addition:  5\n",
      "Subtraction:  3\n",
      "Multiplication:  6\n",
      "Division:  2.0\n"
     ]
    }
   ],
   "source": [
    "# Addition\n",
    "a = 2\n",
    "b = 3\n",
    "print('Addition: ', a + b)  # Output: 5\n",
    "\n",
    "# Subtraction\n",
    "c = 5\n",
    "d = 2\n",
    "print('Subtraction: ', c - d)  # Output: 3\n",
    "\n",
    "# Multiplication\n",
    "e = 2\n",
    "f = 3\n",
    "print('Multiplication: ', e * f)  # Output: 6\n",
    "\n",
    "# Division\n",
    "g = 6\n",
    "h = 3\n",
    "z =  g/h\n",
    "print('Division: ', g / h)  # Output: 2.0\n"
   ]
  },
  {
   "cell_type": "code",
   "execution_count": 2,
   "id": "6917dac2-5b7b-4172-8070-adab4719f977",
   "metadata": {},
   "outputs": [
    {
     "data": {
      "text/plain": [
       "float"
      ]
     },
     "execution_count": 2,
     "metadata": {},
     "output_type": "execute_result"
    }
   ],
   "source": [
    "type(z)"
   ]
  },
  {
   "cell_type": "code",
   "execution_count": 3,
   "id": "b9611fdb-2620-4656-8e61-201a744a4cc3",
   "metadata": {},
   "outputs": [
    {
     "name": "stdout",
     "output_type": "stream",
     "text": [
      "Exponential:  216\n"
     ]
    }
   ],
   "source": [
    "# Exponential\n",
    "g = 6\n",
    "h = 3\n",
    "# 6^3\n",
    "print('Exponential: ', g ** h)  # Output: 2.0"
   ]
  },
  {
   "cell_type": "code",
   "execution_count": null,
   "id": "5328460a-b82b-4ba2-b5f6-6b61590b4b2a",
   "metadata": {},
   "outputs": [],
   "source": []
  },
  {
   "cell_type": "code",
   "execution_count": 4,
   "id": "e00cb639-27e3-4ab0-8345-a41561b5ed4f",
   "metadata": {},
   "outputs": [
    {
     "name": "stdout",
     "output_type": "stream",
     "text": [
      "Modulus:  1\n",
      "Exponentiation:  8\n",
      "Floor Division:  2\n"
     ]
    }
   ],
   "source": [
    "\n",
    "# Modulus\n",
    "i = 7\n",
    "j = 2\n",
    "print('Modulus: ', i % j)  # Output: 1\n",
    "\n",
    "# Exponentiation\n",
    "k = 2\n",
    "l = 3\n",
    "print('Exponentiation: ', k ** l)  # Output: 8\n",
    "\n",
    "# Floor Division\n",
    "m = 7\n",
    "n = 3\n",
    "print('Floor Division: ', m // n)  # Output: 3"
   ]
  },
  {
   "cell_type": "code",
   "execution_count": 5,
   "id": "4156790b-b9bf-4e83-ae8a-6c7f90ccf0cd",
   "metadata": {},
   "outputs": [
    {
     "name": "stdout",
     "output_type": "stream",
     "text": [
      "2.3333333333333335\n",
      "Floor Division:  2\n"
     ]
    }
   ],
   "source": [
    "# Floor Division\n",
    "m = 7\n",
    "n = 3\n",
    "print(m/n)\n",
    "print('Floor Division: ', m // n)  # Output: 3"
   ]
  }
 ],
 "metadata": {
  "kernelspec": {
   "display_name": "base",
   "language": "python",
   "name": "python3"
  },
  "language_info": {
   "codemirror_mode": {
    "name": "ipython",
    "version": 3
   },
   "file_extension": ".py",
   "mimetype": "text/x-python",
   "name": "python",
   "nbconvert_exporter": "python",
   "pygments_lexer": "ipython3",
   "version": "3.13.2"
  }
 },
 "nbformat": 4,
 "nbformat_minor": 5
}
