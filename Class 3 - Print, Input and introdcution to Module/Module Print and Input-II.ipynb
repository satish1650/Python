{
 "cells": [
  {
   "cell_type": "markdown",
   "id": "45eddba6-d95e-4e7c-a86b-b2eb43643744",
   "metadata": {},
   "source": [
    "# Print Function - Built In Function"
   ]
  },
  {
   "cell_type": "code",
   "execution_count": 1,
   "id": "b739363c-4ef1-4516-9678-750e45f8f3d6",
   "metadata": {},
   "outputs": [
    {
     "name": "stdout",
     "output_type": "stream",
     "text": [
      "hello Python\n"
     ]
    }
   ],
   "source": [
    "print(\"hello Python\")"
   ]
  },
  {
   "cell_type": "code",
   "execution_count": 2,
   "id": "7240aef5-3989-48a7-bf55-ce946f5aff6a",
   "metadata": {},
   "outputs": [
    {
     "name": "stdout",
     "output_type": "stream",
     "text": [
      "hello world\n"
     ]
    }
   ],
   "source": [
    "print(\"hello\",\"world\")"
   ]
  },
  {
   "cell_type": "code",
   "execution_count": 3,
   "id": "b65729de-7471-4cf2-aaa3-20f32d54c72a",
   "metadata": {},
   "outputs": [
    {
     "name": "stdout",
     "output_type": "stream",
     "text": [
      "hello python !!\n"
     ]
    }
   ],
   "source": [
    "print(\"hello\",\"python\",\"!!\")"
   ]
  },
  {
   "cell_type": "code",
   "execution_count": null,
   "id": "35253b02-57f6-4da2-9b33-716156794d8e",
   "metadata": {},
   "outputs": [],
   "source": []
  },
  {
   "cell_type": "code",
   "execution_count": 4,
   "id": "1669c6ff-a047-4607-921f-1ec9e910048b",
   "metadata": {},
   "outputs": [
    {
     "name": "stdout",
     "output_type": "stream",
     "text": [
      "hello\n",
      "python\n"
     ]
    }
   ],
   "source": [
    "print(\"hello\")\n",
    "print(\"python\")"
   ]
  },
  {
   "cell_type": "markdown",
   "id": "a80bbf06-b146-4db3-b058-f5600fe3c036",
   "metadata": {},
   "source": [
    "# End Argument"
   ]
  },
  {
   "cell_type": "code",
   "execution_count": 5,
   "id": "1a55cdb9-47e7-460b-a05c-7b41ed5569b2",
   "metadata": {},
   "outputs": [
    {
     "name": "stdout",
     "output_type": "stream",
     "text": [
      "hello python\n"
     ]
    }
   ],
   "source": [
    "print(\"hello\", end = \" \" )\n",
    "print(\"python\")"
   ]
  },
  {
   "cell_type": "code",
   "execution_count": 7,
   "id": "8f68d9ce",
   "metadata": {},
   "outputs": [
    {
     "name": "stdout",
     "output_type": "stream",
     "text": [
      "hellopython\n"
     ]
    }
   ],
   "source": [
    "print(\"hello\", end = \"\" )\n",
    "print(\"python\")"
   ]
  },
  {
   "cell_type": "code",
   "execution_count": 8,
   "id": "9d47dfaa",
   "metadata": {},
   "outputs": [
    {
     "name": "stdout",
     "output_type": "stream",
     "text": [
      "hello->python\n"
     ]
    }
   ],
   "source": [
    "print(\"hello\", end = \"->\" )\n",
    "print(\"python\")"
   ]
  },
  {
   "cell_type": "code",
   "execution_count": null,
   "id": "b0c08eff",
   "metadata": {},
   "outputs": [],
   "source": []
  },
  {
   "cell_type": "markdown",
   "id": "b0507264",
   "metadata": {},
   "source": [
    "# Sep Argument"
   ]
  },
  {
   "cell_type": "code",
   "execution_count": 11,
   "id": "4b6e261d",
   "metadata": {},
   "outputs": [
    {
     "name": "stdout",
     "output_type": "stream",
     "text": [
      "hello python !!\n"
     ]
    }
   ],
   "source": [
    "print(\"hello\",\"python\",\"!!\") # By Default sep is space between words"
   ]
  },
  {
   "cell_type": "code",
   "execution_count": 12,
   "id": "d4a60196-605b-441f-8f0e-2fa8436f9fc8",
   "metadata": {},
   "outputs": [
    {
     "name": "stdout",
     "output_type": "stream",
     "text": [
      "hello@@python@@!!\n"
     ]
    }
   ],
   "source": [
    "print(\"hello\",\"python\",\"!!\" , sep = \"@@\")"
   ]
  },
  {
   "cell_type": "code",
   "execution_count": 13,
   "id": "2295d4d2-2166-4684-83a1-4ff8ce03ecc5",
   "metadata": {},
   "outputs": [
    {
     "name": "stdout",
     "output_type": "stream",
     "text": [
      "hello**python**!!\n"
     ]
    }
   ],
   "source": [
    "print(\"hello\",\"python\",\"!!\" , sep = \"**\")"
   ]
  },
  {
   "cell_type": "code",
   "execution_count": 18,
   "id": "6fb54963",
   "metadata": {},
   "outputs": [
    {
     "name": "stdout",
     "output_type": "stream",
     "text": [
      "I Love Python Programming Language\n"
     ]
    }
   ],
   "source": [
    "print(\"I\", \"Love\", \"Python\", \"Programming\", \"Language\")"
   ]
  },
  {
   "cell_type": "code",
   "execution_count": 19,
   "id": "858ef140",
   "metadata": {},
   "outputs": [
    {
     "name": "stdout",
     "output_type": "stream",
     "text": [
      "I*Love*Python*Programming*Language\n"
     ]
    }
   ],
   "source": [
    "print(\"I\", \"Love\", \"Python\", \"Programming\", \"Language\", sep='*')"
   ]
  },
  {
   "cell_type": "code",
   "execution_count": 20,
   "id": "8536ee97",
   "metadata": {},
   "outputs": [
    {
     "name": "stdout",
     "output_type": "stream",
     "text": [
      "I^Love^Python^Programming^Language\n"
     ]
    }
   ],
   "source": [
    "print(\"I\", \"Love\", \"Python\", \"Programming\", \"Language\", sep='^')"
   ]
  },
  {
   "cell_type": "code",
   "execution_count": null,
   "id": "8e7960a8-91ef-434e-b753-dfe00686fe73",
   "metadata": {},
   "outputs": [],
   "source": []
  },
  {
   "cell_type": "markdown",
   "id": "b0070207",
   "metadata": {},
   "source": [
    "# Input Function"
   ]
  },
  {
   "cell_type": "code",
   "execution_count": 21,
   "id": "c5f1f21c-9548-4ea3-a38b-a540b2eea251",
   "metadata": {},
   "outputs": [],
   "source": [
    "name = input()"
   ]
  },
  {
   "cell_type": "code",
   "execution_count": 22,
   "id": "abe9db38-99d3-4ab1-b8dc-500e3c76e175",
   "metadata": {},
   "outputs": [
    {
     "data": {
      "text/plain": [
       "'Satish Kumar Tiwari'"
      ]
     },
     "execution_count": 22,
     "metadata": {},
     "output_type": "execute_result"
    }
   ],
   "source": [
    "name"
   ]
  },
  {
   "cell_type": "code",
   "execution_count": 23,
   "id": "1c21f20c-7c0a-4e4e-ae0f-99424e658c56",
   "metadata": {},
   "outputs": [],
   "source": [
    "num = input('enter a number')"
   ]
  },
  {
   "cell_type": "code",
   "execution_count": 24,
   "id": "da85df39-a124-439b-9057-0ce9bd44b75e",
   "metadata": {},
   "outputs": [
    {
     "data": {
      "text/plain": [
       "'10'"
      ]
     },
     "execution_count": 24,
     "metadata": {},
     "output_type": "execute_result"
    }
   ],
   "source": [
    "num"
   ]
  },
  {
   "cell_type": "code",
   "execution_count": null,
   "id": "370e853d-864a-407b-97da-b9c5e0828572",
   "metadata": {},
   "outputs": [],
   "source": []
  },
  {
   "cell_type": "markdown",
   "id": "49f512f6",
   "metadata": {},
   "source": [
    "# Module in Python"
   ]
  },
  {
   "cell_type": "code",
   "execution_count": 25,
   "id": "f9d1c0cb-424d-4bc0-844e-abe2633f93ef",
   "metadata": {},
   "outputs": [],
   "source": [
    "import math"
   ]
  },
  {
   "cell_type": "code",
   "execution_count": 26,
   "id": "d8aa1849-f696-48c1-956a-36f252ca2a19",
   "metadata": {},
   "outputs": [
    {
     "data": {
      "text/plain": [
       "2.23606797749979"
      ]
     },
     "execution_count": 26,
     "metadata": {},
     "output_type": "execute_result"
    }
   ],
   "source": [
    "math.sqrt(5)"
   ]
  },
  {
   "cell_type": "code",
   "execution_count": 27,
   "id": "09ffe51e-3507-49de-90fc-177e7a172775",
   "metadata": {},
   "outputs": [
    {
     "ename": "NameError",
     "evalue": "name 'sqrt' is not defined",
     "output_type": "error",
     "traceback": [
      "\u001b[31m---------------------------------------------------------------------------\u001b[39m",
      "\u001b[31mNameError\u001b[39m                                 Traceback (most recent call last)",
      "\u001b[36mCell\u001b[39m\u001b[36m \u001b[39m\u001b[32mIn[27]\u001b[39m\u001b[32m, line 1\u001b[39m\n\u001b[32m----> \u001b[39m\u001b[32m1\u001b[39m \u001b[43msqrt\u001b[49m(\u001b[32m5\u001b[39m)\n",
      "\u001b[31mNameError\u001b[39m: name 'sqrt' is not defined"
     ]
    }
   ],
   "source": [
    "sqrt(5)"
   ]
  },
  {
   "cell_type": "code",
   "execution_count": 28,
   "id": "506b2ff6-8b18-4076-8d91-452a3e547c30",
   "metadata": {},
   "outputs": [
    {
     "data": {
      "text/plain": [
       "120"
      ]
     },
     "execution_count": 28,
     "metadata": {},
     "output_type": "execute_result"
    }
   ],
   "source": [
    "math.factorial(5)"
   ]
  },
  {
   "cell_type": "code",
   "execution_count": null,
   "id": "414f4ed5-f31e-4a8a-aa3b-937e17ff4d70",
   "metadata": {},
   "outputs": [],
   "source": []
  },
  {
   "cell_type": "markdown",
   "id": "b2ffe346-8be0-4149-ae0a-c7c825c08db9",
   "metadata": {},
   "source": [
    "# Errors"
   ]
  },
  {
   "cell_type": "markdown",
   "id": "6f81b11e-fbd1-4c10-8026-882336384434",
   "metadata": {},
   "source": [
    "# Syntax Error"
   ]
  },
  {
   "cell_type": "code",
   "execution_count": 30,
   "id": "a4d5cac7-ed98-4bbe-b39a-3bc4ab2285bf",
   "metadata": {},
   "outputs": [
    {
     "ename": "_IncompleteInputError",
     "evalue": "incomplete input (4227803888.py, line 1)",
     "output_type": "error",
     "traceback": [
      "  \u001b[36mCell\u001b[39m\u001b[36m \u001b[39m\u001b[32mIn[30]\u001b[39m\u001b[32m, line 1\u001b[39m\n\u001b[31m    \u001b[39m\u001b[31mprint(\"hello\"\u001b[39m\n                 ^\n\u001b[31m_IncompleteInputError\u001b[39m\u001b[31m:\u001b[39m incomplete input\n"
     ]
    }
   ],
   "source": [
    "print(\"hello\""
   ]
  },
  {
   "cell_type": "code",
   "execution_count": 31,
   "id": "73b4df4d-464f-4945-a692-f7b1ed5697e6",
   "metadata": {},
   "outputs": [
    {
     "ename": "NameError",
     "evalue": "name 'prin' is not defined",
     "output_type": "error",
     "traceback": [
      "\u001b[31m---------------------------------------------------------------------------\u001b[39m",
      "\u001b[31mNameError\u001b[39m                                 Traceback (most recent call last)",
      "\u001b[36mCell\u001b[39m\u001b[36m \u001b[39m\u001b[32mIn[31]\u001b[39m\u001b[32m, line 1\u001b[39m\n\u001b[32m----> \u001b[39m\u001b[32m1\u001b[39m \u001b[43mprin\u001b[49m(\u001b[33m\"\u001b[39m\u001b[33mpython\u001b[39m\u001b[33m\"\u001b[39m)\n",
      "\u001b[31mNameError\u001b[39m: name 'prin' is not defined"
     ]
    }
   ],
   "source": [
    "prin(\"python\")"
   ]
  },
  {
   "cell_type": "code",
   "execution_count": 32,
   "id": "3a20d628-837d-4c9c-b907-479f7498f21e",
   "metadata": {},
   "outputs": [
    {
     "ename": "SyntaxError",
     "evalue": "invalid syntax (608914663.py, line 1)",
     "output_type": "error",
     "traceback": [
      "  \u001b[36mCell\u001b[39m\u001b[36m \u001b[39m\u001b[32mIn[32]\u001b[39m\u001b[32m, line 1\u001b[39m\n\u001b[31m    \u001b[39m\u001b[31mfol i\u001b[39m\n        ^\n\u001b[31mSyntaxError\u001b[39m\u001b[31m:\u001b[39m invalid syntax\n"
     ]
    }
   ],
   "source": [
    "fol i "
   ]
  },
  {
   "cell_type": "code",
   "execution_count": null,
   "id": "45050149-6277-40da-99b1-42ff062f9043",
   "metadata": {},
   "outputs": [],
   "source": []
  },
  {
   "cell_type": "code",
   "execution_count": null,
   "id": "e84ff90c-b49f-4cce-beff-119c72693caf",
   "metadata": {},
   "outputs": [],
   "source": []
  },
  {
   "cell_type": "markdown",
   "id": "8f58cb19-6d39-4346-8363-459ec5a54e29",
   "metadata": {},
   "source": [
    "# Runtime Error"
   ]
  },
  {
   "cell_type": "code",
   "execution_count": 33,
   "id": "3f0d4d1d-48f7-435f-8165-9db7c7023cab",
   "metadata": {},
   "outputs": [
    {
     "ename": "ZeroDivisionError",
     "evalue": "division by zero",
     "output_type": "error",
     "traceback": [
      "\u001b[31m---------------------------------------------------------------------------\u001b[39m",
      "\u001b[31mZeroDivisionError\u001b[39m                         Traceback (most recent call last)",
      "\u001b[36mCell\u001b[39m\u001b[36m \u001b[39m\u001b[32mIn[33]\u001b[39m\u001b[32m, line 4\u001b[39m\n\u001b[32m      1\u001b[39m a = \u001b[32m5\u001b[39m\n\u001b[32m      2\u001b[39m b = \u001b[32m0\u001b[39m\n\u001b[32m----> \u001b[39m\u001b[32m4\u001b[39m \u001b[38;5;28mprint\u001b[39m(\u001b[43ma\u001b[49m\u001b[43m/\u001b[49m\u001b[43mb\u001b[49m)\n\u001b[32m      7\u001b[39m \u001b[38;5;28mprint\u001b[39m(\u001b[33m\"\u001b[39m\u001b[33mI am the last line\u001b[39m\u001b[33m\"\u001b[39m)\n",
      "\u001b[31mZeroDivisionError\u001b[39m: division by zero"
     ]
    }
   ],
   "source": [
    "a = 5\n",
    "b = 0\n",
    "\n",
    "print(a/b)\n",
    "\n",
    "\n",
    "print(\"I am the last line\")"
   ]
  },
  {
   "cell_type": "code",
   "execution_count": null,
   "id": "be43d27b-a94c-4034-aedc-6e6abcab53d8",
   "metadata": {},
   "outputs": [],
   "source": []
  },
  {
   "cell_type": "code",
   "execution_count": null,
   "id": "c12883b6-9c8f-45f1-809d-79e268646668",
   "metadata": {},
   "outputs": [],
   "source": []
  },
  {
   "cell_type": "markdown",
   "id": "1d8c233d-22a2-49fd-b810-e3abd41e2220",
   "metadata": {},
   "source": [
    "# Identifiers"
   ]
  },
  {
   "cell_type": "code",
   "execution_count": 34,
   "id": "b677dc87-c73f-4585-9f1b-e79c9ecf58f3",
   "metadata": {},
   "outputs": [],
   "source": [
    "rais = 5"
   ]
  },
  {
   "cell_type": "code",
   "execution_count": 35,
   "id": "87639be3",
   "metadata": {},
   "outputs": [
    {
     "data": {
      "text/plain": [
       "5"
      ]
     },
     "execution_count": 35,
     "metadata": {},
     "output_type": "execute_result"
    }
   ],
   "source": [
    "rais"
   ]
  },
  {
   "cell_type": "code",
   "execution_count": 36,
   "id": "0299e4bf-4d8c-4e10-af84-d46d3211f333",
   "metadata": {},
   "outputs": [
    {
     "ename": "SyntaxError",
     "evalue": "invalid syntax (3610027446.py, line 1)",
     "output_type": "error",
     "traceback": [
      "  \u001b[36mCell\u001b[39m\u001b[36m \u001b[39m\u001b[32mIn[36]\u001b[39m\u001b[32m, line 1\u001b[39m\n\u001b[31m    \u001b[39m\u001b[31mas = 10\u001b[39m\n    ^\n\u001b[31mSyntaxError\u001b[39m\u001b[31m:\u001b[39m invalid syntax\n"
     ]
    }
   ],
   "source": [
    "as = 10"
   ]
  },
  {
   "cell_type": "code",
   "execution_count": 37,
   "id": "88225a19-5bc4-46f2-8a38-581c0c5781b1",
   "metadata": {},
   "outputs": [
    {
     "ename": "SyntaxError",
     "evalue": "invalid decimal literal (1795708237.py, line 1)",
     "output_type": "error",
     "traceback": [
      "  \u001b[36mCell\u001b[39m\u001b[36m \u001b[39m\u001b[32mIn[37]\u001b[39m\u001b[32m, line 1\u001b[39m\n\u001b[31m    \u001b[39m\u001b[31m0abc =10\u001b[39m\n    ^\n\u001b[31mSyntaxError\u001b[39m\u001b[31m:\u001b[39m invalid decimal literal\n"
     ]
    }
   ],
   "source": [
    "0abc =10 "
   ]
  },
  {
   "cell_type": "code",
   "execution_count": 38,
   "id": "3984c252-82ba-4697-8239-dfff52b72dae",
   "metadata": {},
   "outputs": [
    {
     "ename": "SyntaxError",
     "evalue": "invalid decimal literal (638180417.py, line 1)",
     "output_type": "error",
     "traceback": [
      "  \u001b[36mCell\u001b[39m\u001b[36m \u001b[39m\u001b[32mIn[38]\u001b[39m\u001b[32m, line 1\u001b[39m\n\u001b[31m    \u001b[39m\u001b[31m1c = 13\u001b[39m\n    ^\n\u001b[31mSyntaxError\u001b[39m\u001b[31m:\u001b[39m invalid decimal literal\n"
     ]
    }
   ],
   "source": [
    "1c = 13"
   ]
  },
  {
   "cell_type": "code",
   "execution_count": 39,
   "id": "b14c8f6b-8758-40cc-be14-8061f1ba4016",
   "metadata": {},
   "outputs": [],
   "source": [
    "c1 = 10\n",
    "c2 = 20"
   ]
  },
  {
   "cell_type": "code",
   "execution_count": 40,
   "id": "dd4e242d-373d-4a10-81c1-3d08dafbf78b",
   "metadata": {},
   "outputs": [
    {
     "data": {
      "text/plain": [
       "10"
      ]
     },
     "execution_count": 40,
     "metadata": {},
     "output_type": "execute_result"
    }
   ],
   "source": [
    "c1"
   ]
  },
  {
   "cell_type": "code",
   "execution_count": 41,
   "id": "3e4f5183-5547-4bb8-bc94-b65c157e10b4",
   "metadata": {},
   "outputs": [
    {
     "data": {
      "text/plain": [
       "25"
      ]
     },
     "execution_count": 41,
     "metadata": {},
     "output_type": "execute_result"
    }
   ],
   "source": [
    "c1 = 25\n",
    "c1"
   ]
  },
  {
   "cell_type": "code",
   "execution_count": null,
   "id": "8a3bd835-e447-4ffe-8832-b85f986c2203",
   "metadata": {},
   "outputs": [],
   "source": []
  },
  {
   "cell_type": "code",
   "execution_count": null,
   "id": "aee690d9-b33a-4c12-a626-b71cbaeabb46",
   "metadata": {},
   "outputs": [],
   "source": []
  },
  {
   "cell_type": "code",
   "execution_count": 42,
   "id": "39ce0dce-639f-47bd-b40b-db513c789eae",
   "metadata": {},
   "outputs": [
    {
     "ename": "SyntaxError",
     "evalue": "invalid syntax (1856161259.py, line 1)",
     "output_type": "error",
     "traceback": [
      "  \u001b[36mCell\u001b[39m\u001b[36m \u001b[39m\u001b[32mIn[42]\u001b[39m\u001b[32m, line 1\u001b[39m\n\u001b[31m    \u001b[39m\u001b[31m- = 4\u001b[39m\n      ^\n\u001b[31mSyntaxError\u001b[39m\u001b[31m:\u001b[39m invalid syntax\n"
     ]
    }
   ],
   "source": [
    "- = 4"
   ]
  },
  {
   "cell_type": "code",
   "execution_count": 44,
   "id": "57028ec7-9388-4ac3-8aa5-76b4ada53937",
   "metadata": {},
   "outputs": [
    {
     "ename": "SyntaxError",
     "evalue": "invalid syntax (3214057347.py, line 1)",
     "output_type": "error",
     "traceback": [
      "  \u001b[36mCell\u001b[39m\u001b[36m \u001b[39m\u001b[32mIn[44]\u001b[39m\u001b[32m, line 1\u001b[39m\n\u001b[31m    \u001b[39m\u001b[31ma@ = 5\u001b[39m\n       ^\n\u001b[31mSyntaxError\u001b[39m\u001b[31m:\u001b[39m invalid syntax\n"
     ]
    }
   ],
   "source": [
    "a@ = 5"
   ]
  },
  {
   "cell_type": "code",
   "execution_count": 45,
   "id": "b17dc66a-7e2e-4baf-b874-8ecfc6e0b52c",
   "metadata": {},
   "outputs": [],
   "source": [
    "a_ = 40"
   ]
  },
  {
   "cell_type": "code",
   "execution_count": 46,
   "id": "b6cdbcd4",
   "metadata": {},
   "outputs": [
    {
     "data": {
      "text/plain": [
       "40"
      ]
     },
     "execution_count": 46,
     "metadata": {},
     "output_type": "execute_result"
    }
   ],
   "source": [
    "a_"
   ]
  },
  {
   "cell_type": "code",
   "execution_count": 47,
   "id": "5be0b604-ca13-4d64-bdfd-81f75f31c4dc",
   "metadata": {},
   "outputs": [],
   "source": [
    "b_ = 50"
   ]
  },
  {
   "cell_type": "code",
   "execution_count": 48,
   "id": "b64131c4",
   "metadata": {},
   "outputs": [
    {
     "data": {
      "text/plain": [
       "50"
      ]
     },
     "execution_count": 48,
     "metadata": {},
     "output_type": "execute_result"
    }
   ],
   "source": [
    "b_"
   ]
  },
  {
   "cell_type": "code",
   "execution_count": 49,
   "id": "e9bad4ee-bd86-4544-afc9-fae87e34b56d",
   "metadata": {},
   "outputs": [
    {
     "data": {
      "text/plain": [
       "10"
      ]
     },
     "execution_count": 49,
     "metadata": {},
     "output_type": "execute_result"
    }
   ],
   "source": [
    "_c = 10\n",
    "_c"
   ]
  },
  {
   "cell_type": "code",
   "execution_count": 50,
   "id": "c83b4b75-7e12-4f1b-a3d3-0468ac569387",
   "metadata": {},
   "outputs": [
    {
     "data": {
      "text/plain": [
       "25"
      ]
     },
     "execution_count": 50,
     "metadata": {},
     "output_type": "execute_result"
    }
   ],
   "source": [
    "_ = 25\n",
    "_\n"
   ]
  },
  {
   "cell_type": "markdown",
   "id": "6983a887-02b1-40d1-8526-2536d006914f",
   "metadata": {},
   "source": [
    "## Rules for Naming Identifiers\n",
    "1. Cannot be a reserved word. The reserved word in python are as follows. (https://docs.python.org/3/reference/lexical_analysis.html#keywords)\n",
    "2. Cannot begin with a number.\n",
    "3. Cannot contain special characters except for `_`.\n",
    "4. Can have alphanumeric characters and underscores.\n",
    "5. Are case-sensitive."
   ]
  },
  {
   "cell_type": "code",
   "execution_count": 51,
   "id": "99a139af-23db-446a-8260-150feaf444e7",
   "metadata": {},
   "outputs": [],
   "source": [
    "a123 = 0\n",
    "b123=  1\n",
    "_abc =1"
   ]
  },
  {
   "cell_type": "code",
   "execution_count": 52,
   "id": "da5b0f95-fb22-4cc7-8b2d-7f30a69cb05d",
   "metadata": {},
   "outputs": [
    {
     "name": "stdout",
     "output_type": "stream",
     "text": [
      "a123 ->  0\n",
      "b123 ->  1\n",
      "_abc ->  1\n"
     ]
    }
   ],
   "source": [
    "print(\"a123 -> \", a123)\n",
    "print(\"b123 -> \", b123)\n",
    "print(\"_abc -> \", _abc)"
   ]
  },
  {
   "cell_type": "code",
   "execution_count": null,
   "id": "9f9848ac",
   "metadata": {},
   "outputs": [],
   "source": []
  },
  {
   "cell_type": "code",
   "execution_count": 53,
   "id": "0140909e-7b11-4ad0-8a4d-3b3401076d1c",
   "metadata": {},
   "outputs": [],
   "source": [
    "a = 5\n",
    "A=10"
   ]
  },
  {
   "cell_type": "code",
   "execution_count": 55,
   "id": "3f3075da-4da2-4e63-9a7e-ed9b873c0387",
   "metadata": {},
   "outputs": [
    {
     "name": "stdout",
     "output_type": "stream",
     "text": [
      "a:  5\n",
      "A= 10\n"
     ]
    }
   ],
   "source": [
    "print(\"a: \", a)\n",
    "print(\"A=\", A)"
   ]
  },
  {
   "cell_type": "code",
   "execution_count": 56,
   "id": "fad4d6c5-53bc-4c88-b6ee-afbc772b5517",
   "metadata": {},
   "outputs": [],
   "source": [
    "abc= 10\n",
    "Abc = 20"
   ]
  },
  {
   "cell_type": "code",
   "execution_count": 57,
   "id": "2f35809b-04c9-4818-bc11-ae052b62881e",
   "metadata": {},
   "outputs": [
    {
     "data": {
      "text/plain": [
       "(10, 20)"
      ]
     },
     "execution_count": 57,
     "metadata": {},
     "output_type": "execute_result"
    }
   ],
   "source": [
    "abc,Abc"
   ]
  },
  {
   "cell_type": "code",
   "execution_count": 58,
   "id": "441e5dfa",
   "metadata": {},
   "outputs": [],
   "source": [
    "a,b,c=10,20,30"
   ]
  },
  {
   "cell_type": "code",
   "execution_count": 60,
   "id": "791b553c",
   "metadata": {},
   "outputs": [
    {
     "name": "stdout",
     "output_type": "stream",
     "text": [
      "a= 10\n",
      "b= 20\n",
      "c= 30\n"
     ]
    }
   ],
   "source": [
    "print(\"a=\",a);print(\"b=\",b);print(\"c=\",c)"
   ]
  }
 ],
 "metadata": {
  "kernelspec": {
   "display_name": "base",
   "language": "python",
   "name": "python3"
  },
  "language_info": {
   "codemirror_mode": {
    "name": "ipython",
    "version": 3
   },
   "file_extension": ".py",
   "mimetype": "text/x-python",
   "name": "python",
   "nbconvert_exporter": "python",
   "pygments_lexer": "ipython3",
   "version": "3.13.2"
  }
 },
 "nbformat": 4,
 "nbformat_minor": 5
}
