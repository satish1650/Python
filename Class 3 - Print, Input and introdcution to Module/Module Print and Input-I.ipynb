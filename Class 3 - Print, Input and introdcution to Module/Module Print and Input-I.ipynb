{
 "cells": [
  {
   "cell_type": "markdown",
   "id": "afc5107a",
   "metadata": {},
   "source": [
    "# Predefined Functions in Python\n",
    "\n",
    "Python has a rich set of predefined functions divided into two categories:\n",
    "\n",
    "1. Built-In Functions\n",
    "2. Functions Defined in Modules"
   ]
  },
  {
   "cell_type": "markdown",
   "id": "b2f09706",
   "metadata": {},
   "source": [
    "## Built-In Functions\n",
    "\n",
    "### `print` Function\n",
    "The `print` function is used to output text to the console.\n",
    "\n",
    "#### Example:\n",
    "```python\n",
    "print('Hello Python')\n",
    "```\n",
    "This will print the words `Hello Python` to the console."
   ]
  },
  {
   "cell_type": "code",
   "execution_count": 1,
   "id": "c3ac34e1",
   "metadata": {},
   "outputs": [
    {
     "name": "stdout",
     "output_type": "stream",
     "text": [
      "Hello Python\n"
     ]
    }
   ],
   "source": [
    "# Using the print function\n",
    "print('Hello Python')  # This will print: Hello Python"
   ]
  },
  {
   "cell_type": "markdown",
   "id": "46a1820f",
   "metadata": {},
   "source": [
    "### Modifying the `print` Function's Behavior\n",
    "\n",
    "The `print` function has two useful arguments: `end` and `sep`.\n",
    "\n",
    "- **`end` argument**: By default, `print` ends with a newline character. This can be changed.\n",
    "\n",
    "#### Example:\n",
    "```python\n",
    "print('Hello', end=' ')\n",
    "print('Python')\n",
    "```\n",
    "This will print: `Hello Python` on the same line."
   ]
  },
  {
   "cell_type": "code",
   "execution_count": 9,
   "id": "b71ea40c",
   "metadata": {},
   "outputs": [
    {
     "name": "stdout",
     "output_type": "stream",
     "text": [
      "Hello\n",
      "Python\n"
     ]
    }
   ],
   "source": [
    "print('Hello') # By deafault, ends with a newline.\n",
    "print('Python')"
   ]
  },
  {
   "cell_type": "code",
   "execution_count": 10,
   "id": "7da884fa",
   "metadata": {},
   "outputs": [
    {
     "name": "stdout",
     "output_type": "stream",
     "text": [
      "HelloPython\n"
     ]
    }
   ],
   "source": [
    "print('Hello', end='') # Here, We have defined end so there will not be any newline.\n",
    "print(\"Python\")"
   ]
  },
  {
   "cell_type": "code",
   "execution_count": 12,
   "id": "15cf2a4d",
   "metadata": {},
   "outputs": [
    {
     "name": "stdout",
     "output_type": "stream",
     "text": [
      "Hello Python\n"
     ]
    }
   ],
   "source": [
    "# Using the end argument in print\n",
    "print('Hello', end=' ') # end with sapce\n",
    "print('Python')  # This will print: Hello Python"
   ]
  },
  {
   "cell_type": "markdown",
   "id": "26f41198",
   "metadata": {},
   "source": [
    "- **`sep` argument**: By default, `print` separates arguments with a space. This can be changed.\n",
    "\n",
    "#### Example:\n",
    "```python\n",
    "print('Hello', 'Python', sep='-')\n",
    "```\n",
    "This will print: `Hello-Python`."
   ]
  },
  {
   "cell_type": "code",
   "execution_count": 16,
   "id": "7e9336d4",
   "metadata": {},
   "outputs": [
    {
     "name": "stdout",
     "output_type": "stream",
     "text": [
      "Hello Python\n"
     ]
    }
   ],
   "source": [
    "print('Hello','Python') # Here Not defined sep, by default is taking sapce between 'Hello' and 'Python'."
   ]
  },
  {
   "cell_type": "code",
   "execution_count": 17,
   "id": "d3d16a59",
   "metadata": {},
   "outputs": [
    {
     "name": "stdout",
     "output_type": "stream",
     "text": [
      "Hello-Python\n"
     ]
    }
   ],
   "source": [
    "# Using the sep argument in print\n",
    "print('Hello', 'Python', sep='-')  # This will print: Hello-Python"
   ]
  },
  {
   "cell_type": "code",
   "execution_count": 19,
   "id": "130c053b",
   "metadata": {},
   "outputs": [
    {
     "name": "stdout",
     "output_type": "stream",
     "text": [
      "Hello---->Python\n"
     ]
    }
   ],
   "source": [
    "print('Hello', 'Python', sep='---->')"
   ]
  },
  {
   "cell_type": "code",
   "execution_count": 20,
   "id": "55201bf6",
   "metadata": {},
   "outputs": [
    {
     "name": "stdout",
     "output_type": "stream",
     "text": [
      "Hello****Python\n"
     ]
    }
   ],
   "source": [
    "print('Hello', 'Python', sep='****')"
   ]
  },
  {
   "cell_type": "code",
   "execution_count": 29,
   "id": "3b9b23bb",
   "metadata": {},
   "outputs": [
    {
     "name": "stdout",
     "output_type": "stream",
     "text": [
      "Hello-.,+=./,;:+-Python\n"
     ]
    }
   ],
   "source": [
    "print('Hello', 'Python', sep='-.,+=./,;:+-')"
   ]
  },
  {
   "cell_type": "markdown",
   "id": "732668c4",
   "metadata": {},
   "source": [
    "## Functions Defined in Modules\n",
    "\n",
    "A module in Python is a collection of functions and statements that provide additional functionality compared to built-in functions.\n",
    "\n",
    "Python has hundreds of built-in modules like `math`, `sys`, `platform`, etc., which are very useful to programmers.\n",
    "\n",
    "### Example: `math` Module\n",
    "\n",
    "The `math` module provides mathematical functions.\n",
    "\n",
    "#### Example:\n",
    "```python\n",
    "import math\n",
    "print(math.sqrt(16))\n",
    "```\n",
    "This will print: `4.0`."
   ]
  },
  {
   "cell_type": "code",
   "execution_count": 30,
   "id": "fd9da3ff",
   "metadata": {},
   "outputs": [
    {
     "name": "stdout",
     "output_type": "stream",
     "text": [
      "4.0\n"
     ]
    }
   ],
   "source": [
    "# Using the math module\n",
    "import math\n",
    "print(math.sqrt(16))  # This will print: 4.0"
   ]
  },
  {
   "cell_type": "code",
   "execution_count": 31,
   "id": "0b59a8e2",
   "metadata": {},
   "outputs": [
    {
     "name": "stdout",
     "output_type": "stream",
     "text": [
      "3.141592653589793\n"
     ]
    }
   ],
   "source": [
    "import math\n",
    "print(math.pi)"
   ]
  },
  {
   "cell_type": "markdown",
   "id": "a37999ca",
   "metadata": {},
   "source": [
    "# Errors in Python\n",
    "\n",
    "Python has two kinds of errors:\n",
    "1. Syntax Errors\n",
    "2. Runtime Errors\n",
    "\n",
    "## Syntax Errors\n",
    "Syntax errors occur when the rules of the language are broken.\n",
    "\n",
    "#### Examples:\n",
    "- Misspelled keywords\n",
    "- Incorrect use of operators\n",
    "- Missing parentheses\n",
    "\n",
    "#### Example:\n",
    "```python\n",
    "prin('Hello')  # This will cause a syntax error because 'print' is misspelled\n",
    "```\n"
   ]
  },
  {
   "cell_type": "code",
   "execution_count": 33,
   "id": "a470a339",
   "metadata": {},
   "outputs": [
    {
     "ename": "NameError",
     "evalue": "name 'prin' is not defined",
     "output_type": "error",
     "traceback": [
      "\u001b[31m---------------------------------------------------------------------------\u001b[39m",
      "\u001b[31mNameError\u001b[39m                                 Traceback (most recent call last)",
      "\u001b[36mCell\u001b[39m\u001b[36m \u001b[39m\u001b[32mIn[33]\u001b[39m\u001b[32m, line 2\u001b[39m\n\u001b[32m      1\u001b[39m \u001b[38;5;66;03m# Syntax error example\u001b[39;00m\n\u001b[32m----> \u001b[39m\u001b[32m2\u001b[39m \u001b[43mprin\u001b[49m(\u001b[33m'\u001b[39m\u001b[33mHello\u001b[39m\u001b[33m'\u001b[39m)  \u001b[38;5;66;03m# Uncommenting this line will cause a syntax error\u001b[39;00m\n",
      "\u001b[31mNameError\u001b[39m: name 'prin' is not defined"
     ]
    }
   ],
   "source": [
    "# Syntax error example\n",
    "prin('Hello')  # Uncommenting this line will cause a syntax error"
   ]
  },
  {
   "cell_type": "markdown",
   "id": "88912854",
   "metadata": {},
   "source": [
    "## Runtime Errors (Exceptions)\n",
    "Runtime errors occur while the program is running.\n",
    "When Python encounters a runtime error, it halts the execution of the program and displays an error message.\n",
    "\n",
    "#### Example: Zero Division Error\n",
    "```python\n",
    "print(10 / 0)  # This will cause a runtime error because division by zero is not allowed\n",
    "```\n"
   ]
  },
  {
   "cell_type": "code",
   "execution_count": 34,
   "id": "2f9aec73",
   "metadata": {},
   "outputs": [
    {
     "ename": "ZeroDivisionError",
     "evalue": "division by zero",
     "output_type": "error",
     "traceback": [
      "\u001b[31m---------------------------------------------------------------------------\u001b[39m",
      "\u001b[31mZeroDivisionError\u001b[39m                         Traceback (most recent call last)",
      "\u001b[36mCell\u001b[39m\u001b[36m \u001b[39m\u001b[32mIn[34]\u001b[39m\u001b[32m, line 2\u001b[39m\n\u001b[32m      1\u001b[39m \u001b[38;5;66;03m# Runtime error example\u001b[39;00m\n\u001b[32m----> \u001b[39m\u001b[32m2\u001b[39m \u001b[38;5;28mprint\u001b[39m(\u001b[32;43m10\u001b[39;49m\u001b[43m \u001b[49m\u001b[43m/\u001b[49m\u001b[43m \u001b[49m\u001b[32;43m0\u001b[39;49m)  \u001b[38;5;66;03m# Uncommenting this line will cause a ZeroDivisionError\u001b[39;00m\n",
      "\u001b[31mZeroDivisionError\u001b[39m: division by zero"
     ]
    }
   ],
   "source": [
    "# Runtime error example\n",
    "print(10 / 0)  # Uncommenting this line will cause a ZeroDivisionError"
   ]
  },
  {
   "cell_type": "markdown",
   "id": "2bf4f879",
   "metadata": {},
   "source": [
    "# Identifiers in Python\n",
    "\n",
    "Identifiers are names given to entities like variables, classes, functions, modules, etc.\n",
    "\n",
    "## Rules for Naming Identifiers\n",
    "1. Cannot be a reserved word. The reserved word in python are as follows. (https://docs.python.org/3/reference/lexical_analysis.html#keywords)\n",
    "2. Cannot begin with a number.\n",
    "3. Cannot contain special characters except for `_`.\n",
    "4. Can have alphanumeric characters and underscores.\n",
    "5. Are case-sensitive.\n",
    "\n",
    "#### Examples:\n",
    "- Valid: `variable1`, `_variable`, `variable_name`\n",
    "- Invalid: `1variable`, `variable-name`, `variable!`\n"
   ]
  },
  {
   "cell_type": "code",
   "execution_count": 49,
   "id": "d5fc544e",
   "metadata": {},
   "outputs": [
    {
     "name": "stdout",
     "output_type": "stream",
     "text": [
      "variable1= 10\n",
      "_variable= 20\n",
      "variable_name= 30\n"
     ]
    }
   ],
   "source": [
    "# Valid and invalid identifiers\n",
    "# Valid identifiers\n",
    "variable1 = 10\n",
    "_variable = 20\n",
    "variable_name = 30\n",
    "\n",
    "print('variable1=', variable1)\n",
    "print('_variable=', _variable)\n",
    "print('variable_name=', variable_name)"
   ]
  },
  {
   "cell_type": "code",
   "execution_count": 45,
   "id": "bc8c9f3d",
   "metadata": {},
   "outputs": [],
   "source": [
    "# Invalid identifiers (Uncomment to see errors)\n",
    "# 1variable = 10  # SyntaxError\n",
    "# variable-name = 20  # SyntaxError\n",
    "# variable! = 30  # SyntaxError"
   ]
  },
  {
   "cell_type": "code",
   "execution_count": 41,
   "id": "59d18a40",
   "metadata": {},
   "outputs": [
    {
     "ename": "SyntaxError",
     "evalue": "invalid decimal literal (1552046550.py, line 1)",
     "output_type": "error",
     "traceback": [
      "  \u001b[36mCell\u001b[39m\u001b[36m \u001b[39m\u001b[32mIn[41]\u001b[39m\u001b[32m, line 1\u001b[39m\n\u001b[31m    \u001b[39m\u001b[31m1variable = 10  # SyntaxError\u001b[39m\n    ^\n\u001b[31mSyntaxError\u001b[39m\u001b[31m:\u001b[39m invalid decimal literal\n"
     ]
    }
   ],
   "source": [
    "1variable = 10  # SyntaxError"
   ]
  },
  {
   "cell_type": "code",
   "execution_count": 47,
   "id": "bba91bdc",
   "metadata": {},
   "outputs": [
    {
     "ename": "SyntaxError",
     "evalue": "cannot assign to expression here. Maybe you meant '==' instead of '='? (4234512868.py, line 1)",
     "output_type": "error",
     "traceback": [
      "  \u001b[36mCell\u001b[39m\u001b[36m \u001b[39m\u001b[32mIn[47]\u001b[39m\u001b[32m, line 1\u001b[39m\n\u001b[31m    \u001b[39m\u001b[31mvariable-name = 20  # SyntaxError\u001b[39m\n    ^\n\u001b[31mSyntaxError\u001b[39m\u001b[31m:\u001b[39m cannot assign to expression here. Maybe you meant '==' instead of '='?\n"
     ]
    }
   ],
   "source": [
    "variable-name = 20  # SyntaxError"
   ]
  },
  {
   "cell_type": "code",
   "execution_count": 43,
   "id": "888d61f0",
   "metadata": {},
   "outputs": [
    {
     "ename": "SyntaxError",
     "evalue": "invalid syntax (2983661651.py, line 1)",
     "output_type": "error",
     "traceback": [
      "  \u001b[36mCell\u001b[39m\u001b[36m \u001b[39m\u001b[32mIn[43]\u001b[39m\u001b[32m, line 1\u001b[39m\n\u001b[31m    \u001b[39m\u001b[31mvariable! = 30  # SyntaxError\u001b[39m\n            ^\n\u001b[31mSyntaxError\u001b[39m\u001b[31m:\u001b[39m invalid syntax\n"
     ]
    }
   ],
   "source": [
    "variable! = 30  # SyntaxError"
   ]
  },
  {
   "cell_type": "markdown",
   "id": "4a16ec05",
   "metadata": {},
   "source": [
    "# Industry Use Case\n",
    "\n",
    "## Real-World Application of Python Functions and Error Handling\n",
    "\n",
    "1. **Scientific Computing**: The `math` module is used for performing complex mathematical calculations in scientific research and engineering.\n",
    "2. **Web Development**: Functions like `print` are used for debugging and displaying outputs during web application development.\n",
    "3. **Data Analysis**: Handling errors gracefully is crucial in data analysis pipelines to ensure robustness and reliability.\n",
    "4. **Automation**: Modules and functions are used extensively in automation scripts to handle repetitive tasks efficiently.\n",
    "5. **Software Development**: Proper error handling ensures that software applications can handle unexpected situations without crashing, improving user experience."
   ]
  },
  {
   "cell_type": "code",
   "execution_count": null,
   "id": "60e080a0-7dfb-492d-8502-27492abb3dc4",
   "metadata": {},
   "outputs": [],
   "source": []
  },
  {
   "cell_type": "code",
   "execution_count": null,
   "id": "1071b9ef-0bb3-44dc-be36-a3890b0b84fc",
   "metadata": {},
   "outputs": [],
   "source": []
  },
  {
   "cell_type": "markdown",
   "id": "f6fe3925",
   "metadata": {},
   "source": [
    "# Questions\n",
    "\n",
    "1. What are the two types of predefined functions in Python?\n",
    "2. How can you modify the default behavior of the `print` function?\n",
    "3. What is a module in Python? Give an example.\n",
    "4. What are syntax errors? Provide an example.\n",
    "5. What are runtime errors? Provide an example.\n",
    "6. What are identifiers in Python? List the rules for naming identifiers.\n",
    "7. Write a code snippet to demonstrate a `ZeroDivisionError`.\n",
    "8. Write a code snippet to demonstrate the use of `end` and `sep` arguments in the `print` function.\n"
   ]
  },
  {
   "cell_type": "markdown",
   "id": "38d7b6b6",
   "metadata": {
    "jp-MarkdownHeadingCollapsed": true
   },
   "source": [
    "# Answers\n"
   ]
  },
  {
   "cell_type": "markdown",
   "id": "b22674ec-0ce6-4538-88e0-c414708c564f",
   "metadata": {},
   "source": [
    "\n",
    "1. Built-in functions and functions defined in modules.\n",
    "2. By using the `end` and `sep` arguments.\n",
    "3. A collection of functions and statements. Example: `math` module.\n",
    "4. Errors due to breaking language rules. Example: `prin('Hello')`.\n",
    "5. Errors that occur while the program is running. Example: `print(10 / 0)`.\n",
    "6. Names for entities like variables, classes, functions, etc. Rules: Cannot be reserved words, cannot begin with a number, cannot contain special characters except `_`, can have alphanumeric characters and underscores, are case-sensitive.\n",
    "7. \n",
    "```python\n",
    "try:\n",
    "    print(10 / 0)\n",
    "except ZeroDivisionError as e:\n",
    "    print(f\"Error occurred: {e}\")\n",
    "```\n",
    "8. \n",
    "```python\n",
    "print('Hello', end=' ')\n",
    "print('Python')\n",
    "print('A', 'B', 'C', sep='-')\n",
    "```"
   ]
  },
  {
   "cell_type": "markdown",
   "id": "16dd249a",
   "metadata": {},
   "source": [
    "print(\"Hello Word\")"
   ]
  },
  {
   "cell_type": "markdown",
   "id": "96b84f0d",
   "metadata": {},
   "source": [
    "```\n",
    "print(\"Hello Word\")\n",
    "```"
   ]
  },
  {
   "cell_type": "markdown",
   "id": "885411b2",
   "metadata": {},
   "source": [
    "```python\n",
    "print(\"Hello Word\")\n",
    "```"
   ]
  }
 ],
 "metadata": {
  "kernelspec": {
   "display_name": "base",
   "language": "python",
   "name": "python3"
  },
  "language_info": {
   "codemirror_mode": {
    "name": "ipython",
    "version": 3
   },
   "file_extension": ".py",
   "mimetype": "text/x-python",
   "name": "python",
   "nbconvert_exporter": "python",
   "pygments_lexer": "ipython3",
   "version": "3.13.2"
  }
 },
 "nbformat": 4,
 "nbformat_minor": 5
}
