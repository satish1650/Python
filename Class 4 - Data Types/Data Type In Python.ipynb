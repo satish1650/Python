{
 "cells": [
  {
   "cell_type": "markdown",
   "id": "34cc1feb-8f31-4331-a916-1022c12261ff",
   "metadata": {},
   "source": [
    "# Data Types In Python"
   ]
  },
  {
   "cell_type": "code",
   "execution_count": 1,
   "id": "eb1ad6d9-abb7-4f0e-a646-26afff66ab61",
   "metadata": {},
   "outputs": [],
   "source": [
    "a = 10\n",
    "b = \"python\""
   ]
  },
  {
   "cell_type": "markdown",
   "id": "4148d9f4-5267-4f7c-9138-1529c131c457",
   "metadata": {},
   "source": [
    "# Type Function"
   ]
  },
  {
   "cell_type": "code",
   "execution_count": 2,
   "id": "f0c49ce3-2a59-4187-a135-3e4ad8dd3cb5",
   "metadata": {},
   "outputs": [
    {
     "data": {
      "text/plain": [
       "int"
      ]
     },
     "execution_count": 2,
     "metadata": {},
     "output_type": "execute_result"
    }
   ],
   "source": [
    "type(a)"
   ]
  },
  {
   "cell_type": "code",
   "execution_count": 3,
   "id": "c44c5541-f868-4b8f-a43b-fd3543c6325b",
   "metadata": {},
   "outputs": [
    {
     "data": {
      "text/plain": [
       "str"
      ]
     },
     "execution_count": 3,
     "metadata": {},
     "output_type": "execute_result"
    }
   ],
   "source": [
    "type(b)\n"
   ]
  },
  {
   "cell_type": "code",
   "execution_count": null,
   "id": "b5d42df8-6aee-4757-8c35-4321298a4b7a",
   "metadata": {},
   "outputs": [],
   "source": []
  },
  {
   "cell_type": "code",
   "execution_count": 4,
   "id": "fc31cb01-3b62-46e2-bb8d-899d8540313c",
   "metadata": {},
   "outputs": [
    {
     "data": {
      "text/plain": [
       "10"
      ]
     },
     "execution_count": 4,
     "metadata": {},
     "output_type": "execute_result"
    }
   ],
   "source": [
    "a "
   ]
  },
  {
   "cell_type": "code",
   "execution_count": 5,
   "id": "19b0b309-d071-490b-8588-305b1be3a93f",
   "metadata": {},
   "outputs": [],
   "source": [
    "a = \"python\""
   ]
  },
  {
   "cell_type": "code",
   "execution_count": 6,
   "id": "590016b9-6a87-4585-91b2-128e568d2850",
   "metadata": {},
   "outputs": [
    {
     "data": {
      "text/plain": [
       "'python'"
      ]
     },
     "execution_count": 6,
     "metadata": {},
     "output_type": "execute_result"
    }
   ],
   "source": [
    "a"
   ]
  },
  {
   "cell_type": "code",
   "execution_count": null,
   "id": "ce78c06b-de27-41a5-93c4-9114f221536d",
   "metadata": {},
   "outputs": [],
   "source": []
  },
  {
   "cell_type": "code",
   "execution_count": 7,
   "id": "2a8e8dbe-0b23-4b3e-b1c9-a07096440ac8",
   "metadata": {},
   "outputs": [],
   "source": [
    "import sys"
   ]
  },
  {
   "cell_type": "code",
   "execution_count": 8,
   "id": "2d2279a3-0c4f-4435-94b7-b9a4d4dff8c6",
   "metadata": {},
   "outputs": [],
   "source": [
    "c = 500"
   ]
  },
  {
   "cell_type": "markdown",
   "id": "760c3ece",
   "metadata": {},
   "source": [
    "To determine the memory occupied by an object in bytes, you can use: \n",
    "```python\n",
    "import sys\n",
    "sys.getsizeof(c)\n",
    "```\n",
    "\n",
    "`sys.getsizeof()`: This function, from the sys module, returns the size of an object in bytes, including any garbage collection overhead."
   ]
  },
  {
   "cell_type": "code",
   "execution_count": 9,
   "id": "fd45bd7d-7126-4664-a679-413810a5d7e9",
   "metadata": {},
   "outputs": [
    {
     "data": {
      "text/plain": [
       "28"
      ]
     },
     "execution_count": 9,
     "metadata": {},
     "output_type": "execute_result"
    }
   ],
   "source": [
    "sys.getsizeof(c)"
   ]
  },
  {
   "cell_type": "code",
   "execution_count": 10,
   "id": "3198f186-50cb-4da0-a204-8fb1d43d9e42",
   "metadata": {},
   "outputs": [],
   "source": [
    "c = 500000000"
   ]
  },
  {
   "cell_type": "code",
   "execution_count": 11,
   "id": "68203e24-e6c4-45a0-b907-0ec2191c22f4",
   "metadata": {},
   "outputs": [
    {
     "data": {
      "text/plain": [
       "28"
      ]
     },
     "execution_count": 11,
     "metadata": {},
     "output_type": "execute_result"
    }
   ],
   "source": [
    "sys.getsizeof(c)"
   ]
  },
  {
   "cell_type": "code",
   "execution_count": 12,
   "id": "3f649607-b324-40de-a61e-ee1ea26ab982",
   "metadata": {},
   "outputs": [],
   "source": [
    "c = 500000000 * 10000000"
   ]
  },
  {
   "cell_type": "code",
   "execution_count": 13,
   "id": "9270197f-9c6c-4ab5-9483-eafb43eb7f7a",
   "metadata": {},
   "outputs": [
    {
     "data": {
      "text/plain": [
       "5000000000000000"
      ]
     },
     "execution_count": 13,
     "metadata": {},
     "output_type": "execute_result"
    }
   ],
   "source": [
    "c"
   ]
  },
  {
   "cell_type": "code",
   "execution_count": 14,
   "id": "37befb28-87ff-45e9-adbe-96ac8678619d",
   "metadata": {},
   "outputs": [
    {
     "data": {
      "text/plain": [
       "32"
      ]
     },
     "execution_count": 14,
     "metadata": {},
     "output_type": "execute_result"
    }
   ],
   "source": [
    "sys.getsizeof(c)"
   ]
  },
  {
   "cell_type": "code",
   "execution_count": 15,
   "id": "3f45d94f-3a07-41f2-9996-fadc0a89f728",
   "metadata": {},
   "outputs": [],
   "source": [
    "c = c*c"
   ]
  },
  {
   "cell_type": "code",
   "execution_count": 16,
   "id": "482088e8-5387-410b-8f7b-29f6685861c0",
   "metadata": {},
   "outputs": [
    {
     "data": {
      "text/plain": [
       "40"
      ]
     },
     "execution_count": 16,
     "metadata": {},
     "output_type": "execute_result"
    }
   ],
   "source": [
    "sys.getsizeof(c)"
   ]
  },
  {
   "cell_type": "code",
   "execution_count": 17,
   "id": "a40b05ec-ac97-4686-84a6-d3f9d804aa7d",
   "metadata": {},
   "outputs": [],
   "source": [
    "c = 10"
   ]
  },
  {
   "cell_type": "code",
   "execution_count": 18,
   "id": "0173d6fa-d658-40d1-a3fa-f941f536e93c",
   "metadata": {},
   "outputs": [
    {
     "data": {
      "text/plain": [
       "28"
      ]
     },
     "execution_count": 18,
     "metadata": {},
     "output_type": "execute_result"
    }
   ],
   "source": [
    "sys.getsizeof(c)\n"
   ]
  },
  {
   "cell_type": "code",
   "execution_count": 19,
   "id": "98147350-1d60-4b62-b99e-73f8c40c246f",
   "metadata": {},
   "outputs": [],
   "source": [
    "c = 5000000000000000500000000000000050000000000000005000000000000000500000000000000050000000000000005000000000000000"
   ]
  },
  {
   "cell_type": "code",
   "execution_count": 20,
   "id": "bd88f14e-8443-4bb5-9edf-d126dc094bfe",
   "metadata": {},
   "outputs": [
    {
     "data": {
      "text/plain": [
       "76"
      ]
     },
     "execution_count": 20,
     "metadata": {},
     "output_type": "execute_result"
    }
   ],
   "source": [
    "sys.getsizeof(c)"
   ]
  }
 ],
 "metadata": {
  "kernelspec": {
   "display_name": "base",
   "language": "python",
   "name": "python3"
  },
  "language_info": {
   "codemirror_mode": {
    "name": "ipython",
    "version": 3
   },
   "file_extension": ".py",
   "mimetype": "text/x-python",
   "name": "python",
   "nbconvert_exporter": "python",
   "pygments_lexer": "ipython3",
   "version": "3.13.2"
  }
 },
 "nbformat": 4,
 "nbformat_minor": 5
}
