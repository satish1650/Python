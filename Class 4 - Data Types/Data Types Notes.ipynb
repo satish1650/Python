{
 "cells": [
  {
   "cell_type": "markdown",
   "metadata": {},
   "source": [
    "# Data Types in Python\n",
    "\n",
    "In this lesson, we will master the various data types in Python. Although a programmer does not explicitly mention the type while creating a variable in a Python program, Python internally allocates a data type based on the declaration style and value."
   ]
  },
  {
   "cell_type": "markdown",
   "metadata": {},
   "source": [
    "## Key Points about Python Data Types\n",
    "\n",
    "1. **Dynamic Typing**: Data types in Python are dynamic. This means we can assign different values to the same variable at different points in time, and Python will dynamically change the type of the variable as per the value given.\n",
    "\n",
    "    ```python\n",
    "    a = 5\n",
    "    print(type(a))  # Output: <class 'int'>\n",
    "    a = 'Python'\n",
    "    print(type(a))  # Output: <class 'str'>\n",
    "    a = 3.5\n",
    "    print(type(a))  # Output: <class 'float'>\n",
    "    ```\n",
    "\n",
    "2. **Dynamic Size Management**: The size of data types in Python is dynamically managed. Unlike C/C++/Java, variables in Python are not of fixed size. Python makes variables as big as required on demand.\n",
    "\n",
    "    ```python\n",
    "    import sys\n",
    "    a = 5\n",
    "    print(sys.getsizeof(a))  # Output: size in bytes\n",
    "    a = 'Python'\n",
    "    print(sys.getsizeof(a))  # Output: size in bytes\n",
    "    ```\n",
    "\n",
    "3. **Unbounded Data Types**: Python data types like integers do not have any range, i.e., they are unbounded. Unlike C/C++, they do not have a min or max value. An `int` type can store as many digits as needed.\n",
    "\n",
    "    ```python\n",
    "    a = 10**1000  # a very large number\n",
    "    print(a)\n",
    "    print(type(a))  # Output: <class 'int'>\n",
    "    ```"
   ]
  },
  {
   "cell_type": "code",
   "execution_count": null,
   "metadata": {},
   "outputs": [
    {
     "name": "stdout",
     "output_type": "stream",
     "text": [
      "<class 'int'>\n",
      "<class 'str'>\n",
      "<class 'float'>\n"
     ]
    }
   ],
   "source": [
    "# Example of dynamic typing\n",
    "\n",
    "a = 5\n",
    "print(type(a))  # Output: <class 'int'>\n",
    "\n",
    "a = 'Python'\n",
    "print(type(a))  # Output: <class 'str'>\n",
    "\n",
    "a = 3.5\n",
    "print(type(a))  # Output: <class 'float'>"
   ]
  },
  {
   "cell_type": "code",
   "execution_count": null,
   "metadata": {},
   "outputs": [
    {
     "name": "stdout",
     "output_type": "stream",
     "text": [
      "28\n",
      "47\n",
      "24\n"
     ]
    }
   ],
   "source": [
    "# Example of dynamic size management\n",
    "\n",
    "import sys\n",
    "\n",
    "a = 5\n",
    "print(sys.getsizeof(a))  # Output: size in bytes\n",
    "\n",
    "a = 'Python'\n",
    "print(sys.getsizeof(a))  # Output: size in bytes\n",
    "\n",
    "a = 3.5\n",
    "print(sys.getsizeof(a))  # Output: size in bytes"
   ]
  },
  {
   "cell_type": "code",
   "execution_count": 5,
   "metadata": {},
   "outputs": [
    {
     "name": "stdout",
     "output_type": "stream",
     "text": [
      "10000000000000000000000000000000000000000000000000000000000000000000000000000000000000000000000000000000000000000000000000000000000000000000000000000000000000000000000000000000000000000000000000000000000000000000000000000000000000000000000000000000000000000000000000000000000000000000000000000000000000000000000000000000000000000000000000000000000000000000000000000000000000000000000000000000000000000000000000000000000000000000000000000000000000000000000000000000000000000000000000000000000000000000000000000000000000000000000000000000000000000000000000000000000000000000000000000000000000000000000000000000000000000000000000000000000000000000000000000000000000000000000000000000000000000000000000000000000000000000000000000000000000000000000000000000000000000000000000000000000000000000000000000000000000000000000000000000000000000000000000000000000000000000000000000000000000000000000000000000000000000000000000000000000000000000000000000000000000000000000000000000000000000000000000000000000000000\n",
      "<class 'int'>\n"
     ]
    }
   ],
   "source": [
    "# Example of unbounded data types\n",
    "\n",
    "a = 10**1000  # a very large number\n",
    "print(a)\n",
    "print(type(a))  # Output: <class 'int'>"
   ]
  },
  {
   "cell_type": "markdown",
   "metadata": {},
   "source": [
    "# Industry Use Cases\n",
    "\n",
    "1. **Scientific Computing**: Dynamic typing and unbounded integers make Python ideal for scientific computing, where calculations with very large numbers and dynamic data structures are common.\n",
    "2. **Web Development**: Dynamic size management allows for flexible handling of various data types, making it easier to manage web content and user inputs.\n",
    "3. **Data Analysis**: Python's dynamic typing and size management are beneficial for data analysis, where data types can vary greatly and large datasets need efficient handling.\n",
    "4. **Machine Learning**: In machine learning, Python's ability to handle large datasets and perform complex calculations with dynamic typing and size management is crucial.\n",
    "5. **Automation**: Python's flexible data types and dynamic typing simplify automation scripts, allowing them to handle different data inputs seamlessly."
   ]
  },
  {
   "cell_type": "markdown",
   "metadata": {},
   "source": [
    "# Questions\n",
    "\n",
    "1. What does dynamic typing mean in Python? Provide an example.\n",
    "2. How does Python manage the size of data types dynamically? Give an example using the `sys` module.\n",
    "3. Explain unbounded data types in Python with an example.\n",
    "4. Write a code snippet to demonstrate assigning different types of values to the same variable.\n",
    "5. Why is dynamic typing useful in scientific computing?\n"
   ]
  },
  {
   "cell_type": "markdown",
   "metadata": {
    "jp-MarkdownHeadingCollapsed": true
   },
   "source": [
    "# Answers\n"
   ]
  },
  {
   "cell_type": "markdown",
   "metadata": {},
   "source": [
    "\n",
    "1. **Dynamic Typing**: It means that the type of a variable can change during runtime based on the value assigned to it.\n",
    "    \n",
    "    ```python\n",
    "    a = 5\n",
    "    print(type(a))  # Output: <class 'int'>\n",
    "    a = 'Python'\n",
    "    print(type(a))  # Output: <class 'str'>\n",
    "    a = 3.5\n",
    "    print(type(a))  # Output: <class 'float'>\n",
    "    ```\n",
    "\n",
    "2. **Dynamic Size Management**: Python adjusts the size of the variable as needed. The `sys` module's `getsizeof` function can be used to check the size.\n",
    "    \n",
    "    ```python\n",
    "    import sys\n",
    "    a = 5\n",
    "    print(sys.getsizeof(a))  # Output: size in bytes\n",
    "    a = 'Python'\n",
    "    print(sys.getsizeof(a))  # Output: size in bytes\n",
    "    ```\n",
    "\n",
    "3. **Unbounded Data Types**: Python integers do not have a min or max value limit.\n",
    "    \n",
    "    ```python\n",
    "    a = 10**1000  # a very large number\n",
    "    print(a)\n",
    "    print(type(a))  # Output: <class 'int'>\n",
    "    ```\n",
    "\n",
    "4. **Assigning Different Types**:\n",
    "    \n",
    "    ```python\n",
    "    a = 5\n",
    "    print(type(a))  # Output: <class 'int'>\n",
    "    a = 'Python'\n",
    "    print(type(a))  # Output: <class 'str'>\n",
    "    a = 3.5\n",
    "    print(type(a))  # Output: <class 'float'>\n",
    "    ```\n",
    "\n",
    "5. **Dynamic Typing in Scientific Computing**: It allows handling various types of data efficiently without needing to declare types explicitly, which is useful for large and complex scientific computations."
   ]
  },
  {
   "cell_type": "code",
   "execution_count": null,
   "metadata": {},
   "outputs": [],
   "source": []
  }
 ],
 "metadata": {
  "kernelspec": {
   "display_name": "base",
   "language": "python",
   "name": "python3"
  },
  "language_info": {
   "codemirror_mode": {
    "name": "ipython",
    "version": 3
   },
   "file_extension": ".py",
   "mimetype": "text/x-python",
   "name": "python",
   "nbconvert_exporter": "python",
   "pygments_lexer": "ipython3",
   "version": "3.13.2"
  }
 },
 "nbformat": 4,
 "nbformat_minor": 4
}
