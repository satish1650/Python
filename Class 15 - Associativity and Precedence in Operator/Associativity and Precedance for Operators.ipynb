{
 "cells": [
  {
   "cell_type": "markdown",
   "id": "785dc6e1-3e38-418e-994a-92189c18e220",
   "metadata": {},
   "source": [
    "# Precedance and Associativity of Operators"
   ]
  },
  {
   "cell_type": "markdown",
   "id": "49ab25b4-39a4-47f2-8f85-5155694925c4",
   "metadata": {},
   "source": [
    "10 + 20 * 30 is calculated as 10 + (20 * 30)\n",
    "and not as (10 + 20) * 30"
   ]
  },
  {
   "cell_type": "code",
   "execution_count": 1,
   "id": "6f6df7b3-027e-4ce3-8a57-d5ba29029913",
   "metadata": {},
   "outputs": [
    {
     "data": {
      "text/plain": [
       "84.0"
      ]
     },
     "execution_count": 1,
     "metadata": {},
     "output_type": "execute_result"
    }
   ],
   "source": [
    "6/2 + 3**4"
   ]
  },
  {
   "cell_type": "code",
   "execution_count": null,
   "id": "9961cf52-6205-41cf-a21e-f8758812eae7",
   "metadata": {},
   "outputs": [],
   "source": []
  },
  {
   "cell_type": "code",
   "execution_count": 2,
   "id": "c64553cc-b88f-4796-8220-8e76d635c80f",
   "metadata": {},
   "outputs": [
    {
     "data": {
      "text/plain": [
       "512"
      ]
     },
     "execution_count": 2,
     "metadata": {},
     "output_type": "execute_result"
    }
   ],
   "source": [
    "2 ** 3 ** 2"
   ]
  },
  {
   "cell_type": "code",
   "execution_count": 3,
   "id": "162902d8-b77e-47ec-ba5c-a95191ab97fc",
   "metadata": {},
   "outputs": [
    {
     "data": {
      "text/plain": [
       "3"
      ]
     },
     "execution_count": 3,
     "metadata": {},
     "output_type": "execute_result"
    }
   ],
   "source": [
    "5*2//3"
   ]
  }
 ],
 "metadata": {
  "kernelspec": {
   "display_name": "base",
   "language": "python",
   "name": "python3"
  },
  "language_info": {
   "codemirror_mode": {
    "name": "ipython",
    "version": 3
   },
   "file_extension": ".py",
   "mimetype": "text/x-python",
   "name": "python",
   "nbconvert_exporter": "python",
   "pygments_lexer": "ipython3",
   "version": "3.13.2"
  }
 },
 "nbformat": 4,
 "nbformat_minor": 5
}
