{
 "cells": [
  {
   "cell_type": "markdown",
   "metadata": {},
   "source": [
    "# Boolean Data Type in Python\n",
    "\n",
    "In this lesson, we will master the Boolean data type in Python. Booleans are used to represent truth values, which can either be `True` or `False`. Booleans are essential in controlling the flow of a program and making comparisons."
   ]
  },
  {
   "cell_type": "markdown",
   "metadata": {},
   "source": [
    "## Boolean Values\n",
    "\n",
    "In Python, the Boolean data type is denoted by the keywords `True` and `False`. These values are case-sensitive and must be written with a capital 'T' and 'F' respectively.\n",
    "\n",
    "Examples:\n",
    "```python\n",
    "a = True\n",
    "b = False\n",
    "print(a)  # Output: True\n",
    "print(b)  # Output: False\n",
    "print(type(a))  # Output: <class 'bool'>\n",
    "print(type(b))  # Output: <class 'bool'>\n",
    "```\n",
    "\n",
    "Booleans are commonly used in conditions and loops to control the flow of the program."
   ]
  },
  {
   "cell_type": "code",
   "execution_count": 1,
   "metadata": {},
   "outputs": [
    {
     "name": "stdout",
     "output_type": "stream",
     "text": [
      "True\n",
      "False\n",
      "<class 'bool'>\n",
      "<class 'bool'>\n"
     ]
    }
   ],
   "source": [
    "a = True\n",
    "b = False\n",
    "print(a)  # Output: True\n",
    "print(b)  # Output: False\n",
    "print(type(a))  # Output: <class 'bool'>\n",
    "print(type(b))  # Output: <class 'bool'>"
   ]
  },
  {
   "cell_type": "markdown",
   "metadata": {},
   "source": [
    "## Comparison Operations\n",
    "\n",
    "Boolean values are often the result of comparison operations. Python provides several comparison operators, such as `==`, `!=`, `<`, `>`, `<=`, and `>=`.\n",
    "\n",
    "Examples:\n",
    "```python\n",
    "x = 10\n",
    "y = 20\n",
    "print(x == y)  # Output: False\n",
    "print(x != y)  # Output: True\n",
    "print(x < y)   # Output: True\n",
    "print(x > y)   # Output: False\n",
    "```\n",
    "\n",
    "These comparisons yield Boolean values and can be used to control the flow of the program, such as in if statements."
   ]
  },
  {
   "cell_type": "code",
   "execution_count": 2,
   "metadata": {},
   "outputs": [
    {
     "name": "stdout",
     "output_type": "stream",
     "text": [
      "False\n",
      "True\n",
      "True\n",
      "False\n"
     ]
    }
   ],
   "source": [
    "x = 10\n",
    "y = 20\n",
    "print(x == y)  # Output: False\n",
    "print(x != y)  # Output: True\n",
    "print(x < y)   # Output: True\n",
    "print(x > y)   # Output: False"
   ]
  },
  {
   "cell_type": "markdown",
   "metadata": {},
   "source": [
    "## Boolean in Control Flow\n",
    "\n",
    "Booleans are heavily used in controlling the flow of programs using `if`, `elif`, and `else` statements.\n",
    "\n",
    "Examples:\n",
    "```python\n",
    "is_raining = True\n",
    "if is_raining:\n",
    "    print(\"Take an umbrella.\")\n",
    "else:\n",
    "    print(\"Enjoy the sunshine!\")\n",
    "```\n",
    "\n",
    "This example demonstrates how a Boolean value can determine which block of code is executed."
   ]
  },
  {
   "cell_type": "code",
   "execution_count": 3,
   "metadata": {},
   "outputs": [
    {
     "name": "stdout",
     "output_type": "stream",
     "text": [
      "Take an umbrella.\n"
     ]
    }
   ],
   "source": [
    "is_raining = True\n",
    "if is_raining:\n",
    "    print(\"Take an umbrella.\")\n",
    "else:\n",
    "    print(\"Enjoy the sunshine!\")"
   ]
  },
  {
   "cell_type": "markdown",
   "metadata": {},
   "source": [
    "## Boolean Operators\n",
    "\n",
    "Python provides three Boolean operators: `and`, `or`, and `not`.\n",
    "\n",
    "- `and`: Returns `True` if both operands are `True`.\n",
    "- `or`: Returns `True` if at least one operand is `True`.\n",
    "- `not`: Returns `True` if the operand is `False`.\n",
    "\n",
    "Examples:\n",
    "```python\n",
    "a = True\n",
    "b = False\n",
    "print(a and b)  # Output: False\n",
    "print(a or b)   # Output: True\n",
    "print(not a)    # Output: False\n",
    "```\n",
    "\n",
    "These operators are often used in complex conditions to combine multiple comparisons."
   ]
  },
  {
   "cell_type": "code",
   "execution_count": 4,
   "metadata": {},
   "outputs": [
    {
     "name": "stdout",
     "output_type": "stream",
     "text": [
      "False\n",
      "True\n",
      "False\n"
     ]
    }
   ],
   "source": [
    "a = True\n",
    "b = False\n",
    "print(a and b)  # Output: False\n",
    "print(a or b)   # Output: True\n",
    "print(not a)    # Output: False"
   ]
  },
  {
   "cell_type": "markdown",
   "metadata": {},
   "source": [
    "## Boolean Type Conversion\n",
    "\n",
    "Any value in Python can be converted to a Boolean using the `bool()` function. The following values are considered `False`:\n",
    "\n",
    "- `None`\n",
    "- `False`\n",
    "- Zero of any numeric type: `0`, `0.0`, `0j`\n",
    "- Empty sequences and collections: `''`, `()`, `[]`, `{}`\n",
    "\n",
    "All other values are considered `True`.\n",
    "\n",
    "Examples:\n",
    "```python\n",
    "print(bool(0))  # Output: False\n",
    "print(bool(1))  # Output: True\n",
    "print(bool([]))  # Output: False\n",
    "print(bool([1, 2, 3]))  # Output: True\n",
    "```\n",
    "\n",
    "This can be useful when you need to evaluate a value in a Boolean context."
   ]
  },
  {
   "cell_type": "code",
   "execution_count": 5,
   "metadata": {},
   "outputs": [
    {
     "name": "stdout",
     "output_type": "stream",
     "text": [
      "False\n",
      "True\n",
      "False\n",
      "True\n"
     ]
    }
   ],
   "source": [
    "print(bool(0))  # Output: False\n",
    "print(bool(1))  # Output: True\n",
    "print(bool([]))  # Output: False\n",
    "print(bool([1, 2, 3]))  # Output: True"
   ]
  },
  {
   "cell_type": "markdown",
   "metadata": {},
   "source": [
    "# Industry Use Cases\n",
    "\n",
    "1. **Conditional Logic**: Booleans are used to implement conditional logic in programs, allowing different code paths based on conditions.\n",
    "2. **Validation**: Boolean values are used to validate inputs and ensure that the correct conditions are met before executing certain operations.\n",
    "3. **Error Handling**: Booleans can be used to handle errors and exceptions by checking conditions and returning appropriate responses.\n",
    "4. **Flags**: Boolean flags are used to control the execution of loops and other control structures in a program.\n",
    "5. **Configuration Settings**: Booleans are often used to store configuration settings that can enable or disable certain features."
   ]
  },
  {
   "cell_type": "markdown",
   "metadata": {},
   "source": [
    "# Questions\n",
    "\n",
    "1. What are the Boolean values in Python?\n",
    "2. How are comparison operators used with Boolean values? Give examples.\n",
    "3. Write a code snippet to demonstrate the use of `and`, `or`, and `not` operators.\n",
    "4. Explain how Boolean values can control the flow of a program with an example.\n",
    "5. Write a code snippet to convert different data types to Boolean using the `bool()` function.\n",
    "6. How can Boolean values be used in error handling? Provide an example.\n",
    "7. Create a code snippet that checks if a list is empty and prints a message accordingly."
   ]
  },
  {
   "cell_type": "markdown",
   "metadata": {
    "jp-MarkdownHeadingCollapsed": true
   },
   "source": [
    "# Solutions:"
   ]
  },
  {
   "cell_type": "code",
   "execution_count": 6,
   "metadata": {},
   "outputs": [
    {
     "name": "stdout",
     "output_type": "stream",
     "text": [
      "(True, False)\n",
      "True\n",
      "False\n",
      "False\n",
      "True\n",
      "False\n",
      "Take an umbrella.\n",
      "False\n",
      "True\n",
      "False\n",
      "True\n",
      "False Cannot divide by zero\n",
      "The list is empty.\n"
     ]
    }
   ],
   "source": [
    "\n",
    "\n",
    "# 1. What are the Boolean values in Python?\n",
    "boolean_values = True, False\n",
    "print(boolean_values)  # Output: (True, False)\n",
    "\n",
    "# 2. How are comparison operators used with Boolean values? Give examples.\n",
    "x = 5\n",
    "y = 10\n",
    "print(x < y)  # Output: True\n",
    "print(x == y)  # Output: False\n",
    "\n",
    "# 3. Write a code snippet to demonstrate the use of `and`, `or`, and `not` operators.\n",
    "a = True\n",
    "b = False\n",
    "print(a and b)  # Output: False\n",
    "print(a or b)   # Output: True\n",
    "print(not a)    # Output: False\n",
    "\n",
    "# 4. Explain how Boolean values can control the flow of a program with an example.\n",
    "is_raining = True\n",
    "if is_raining:\n",
    "    print(\"Take an umbrella.\")\n",
    "else:\n",
    "    print(\"Enjoy the sunshine!\")\n",
    "\n",
    "# 5. Write a code snippet to convert different data types to Boolean using the `bool()` function.\n",
    "print(bool(0))  # Output: False\n",
    "print(bool(1))  # Output: True\n",
    "print(bool([]))  # Output: False\n",
    "print(bool([1, 2, 3]))  # Output: True\n",
    "\n",
    "# 6. How can Boolean values be used in error handling? Provide an example.\n",
    "def divide(a, b):\n",
    "    if b == 0:\n",
    "        return False, \"Cannot divide by zero\"\n",
    "    else:\n",
    "        return True, a / b\n",
    "\n",
    "success, result = divide(10, 0)\n",
    "print(success, result)  # Output: False Cannot divide by zero\n",
    "\n",
    "# 7. Create a code snippet that checks if a list is empty and prints a message accordingly.\n",
    "my_list = []\n",
    "if not my_list:\n",
    "    print(\"The list is empty.\")\n",
    "else:\n",
    "    print(\"The list is not empty.\")\n"
   ]
  }
 ],
 "metadata": {
  "kernelspec": {
   "display_name": "base",
   "language": "python",
   "name": "python3"
  },
  "language_info": {
   "codemirror_mode": {
    "name": "ipython",
    "version": 3
   },
   "file_extension": ".py",
   "mimetype": "text/x-python",
   "name": "python",
   "nbconvert_exporter": "python",
   "pygments_lexer": "ipython3",
   "version": "3.13.2"
  }
 },
 "nbformat": 4,
 "nbformat_minor": 4
}
