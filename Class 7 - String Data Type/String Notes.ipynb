{
 "cells": [
  {
   "cell_type": "markdown",
   "metadata": {},
   "source": [
    "# String Data Type in Python\n",
    "\n",
    "A string (`str`) in Python is a sequence of characters. Unlike C/C++ or Java, Python does not have a `char` data type. Strings can be defined using single or double quotes.\n"
   ]
  },
  {
   "cell_type": "code",
   "execution_count": 1,
   "metadata": {},
   "outputs": [
    {
     "name": "stdout",
     "output_type": "stream",
     "text": [
      "Hello, World!\n",
      "Hello, World!\n"
     ]
    }
   ],
   "source": [
    "# Defining strings with single and double quotes\n",
    "single_quote_str = 'Hello, World!'\n",
    "double_quote_str = \"Hello, World!\"\n",
    "print(single_quote_str)\n",
    "print(double_quote_str)"
   ]
  },
  {
   "cell_type": "markdown",
   "metadata": {},
   "source": [
    "For multi-line strings, triple quotes are used."
   ]
  },
  {
   "cell_type": "code",
   "execution_count": 2,
   "metadata": {},
   "outputs": [
    {
     "name": "stdout",
     "output_type": "stream",
     "text": [
      "\n",
      "This is a multi-line string.\n",
      "It spans across multiple lines.\n",
      "\n"
     ]
    }
   ],
   "source": [
    "# Defining a multi-line string\n",
    "multi_line_str = '''\n",
    "This is a multi-line string.\n",
    "It spans across multiple lines.\n",
    "'''\n",
    "print(multi_line_str)"
   ]
  },
  {
   "cell_type": "markdown",
   "metadata": {},
   "source": [
    "# How Python Stores Strings\n",
    "\n",
    "Python uses the UNICODE number system to store strings, unlike C which uses ASCII. UNICODE supports a much wider range of characters compared to ASCII and also supports multiple languages."
   ]
  },
  {
   "cell_type": "markdown",
   "metadata": {},
   "source": [
    "# Questions\n",
    "\n",
    "1. What is a string in Python?\n",
    "2. How do you define a multi-line string in Python?\n",
    "3. What is the difference between ASCII and UNICODE?\n",
    "4. Write a code snippet to define a string using single quotes and double quotes.\n",
    "5. Why does Python use UNICODE instead of ASCII?\n",
    "\n"
   ]
  },
  {
   "cell_type": "markdown",
   "metadata": {
    "jp-MarkdownHeadingCollapsed": true
   },
   "source": [
    "# Answers"
   ]
  },
  {
   "cell_type": "markdown",
   "metadata": {},
   "source": [
    "#\n",
    "\n",
    "1. A string (`str`) in Python is a sequence of characters.\n",
    "2. You can define a multi-line string in Python using triple quotes (`'''` or `\"\"\"`).\n",
    "3. ASCII is a character encoding standard for English characters, while UNICODE is a character encoding standard that supports a wider range of characters and multiple languages.\n",
    "4. \n",
    "    ```python\n",
    "    single_quote_str = 'Hello, World!'\n",
    "    double_quote_str = \"Hello, World!\"\n",
    "    print(single_quote_str)\n",
    "    print(double_quote_str)\n",
    "    ```\n",
    "5. Python uses UNICODE because it supports a much wider range of characters and multiple languages compared to ASCII."
   ]
  }
 ],
 "metadata": {
  "kernelspec": {
   "display_name": "base",
   "language": "python",
   "name": "python3"
  },
  "language_info": {
   "codemirror_mode": {
    "name": "ipython",
    "version": 3
   },
   "file_extension": ".py",
   "mimetype": "text/x-python",
   "name": "python",
   "nbconvert_exporter": "python",
   "pygments_lexer": "ipython3",
   "version": "3.13.2"
  }
 },
 "nbformat": 4,
 "nbformat_minor": 4
}
