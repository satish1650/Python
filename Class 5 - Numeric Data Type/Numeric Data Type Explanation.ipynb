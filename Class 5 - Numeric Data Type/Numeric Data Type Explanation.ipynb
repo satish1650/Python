{
 "cells": [
  {
   "cell_type": "markdown",
   "metadata": {},
   "source": [
    "# Numeric Data Types in Python\n",
    "\n",
    "In this lesson, we will master the various numeric data types in Python. Python supports integers, floating-point numbers, and complex numbers, which are commonly used in mathematical computations."
   ]
  },
  {
   "cell_type": "markdown",
   "metadata": {},
   "source": [
    "## Integer (int)\n",
    "\n",
    "Integers in Python are used for storing whole numbers, both negative and positive, without any fractional part.\n",
    "\n",
    "```python\n",
    "a = 10\n",
    "b = -5\n",
    "print(type(a))  # Output: <class 'int'>\n",
    "print(type(b))  # Output: <class 'int'>\n",
    "```\n",
    "\n",
    "## Float (float)\n",
    "\n",
    "Floats in Python are used for storing real numbers with a fractional part. They are specified with a decimal point.\n",
    "\n",
    "```python\n",
    "c = 3.14\n",
    "d = -2.7\n",
    "print(type(c))  # Output: <class 'float'>\n",
    "print(type(d))  # Output: <class 'float'>\n",
    "```\n",
    "\n",
    "Python's float has a precision of 16 digits, similar to the `double` data type in C or Java. Floats can also be represented in exponential form.\n",
    "\n",
    "```python\n",
    "e = 1.05e3  # equivalent to 1050.0\n",
    "print(e)  # Output: 1050.0\n",
    "print(type(e))  # Output: <class 'float'>\n",
    "```\n",
    "\n",
    "## Complex (complex)\n",
    "\n",
    "Complex numbers in Python are written with a real part and an imaginary part, using the letter `j` as the imaginary unit.\n",
    "\n",
    "```python\n",
    "f = 3 + 4j\n",
    "g = 2.5 - 1.5j\n",
    "print(type(f))  # Output: <class 'complex'>\n",
    "print(type(g))  # Output: <class 'complex'>\n",
    "```\n",
    "\n",
    "In complex numbers, both the real and imaginary parts can be floats as well as integers."
   ]
  },
  {
   "cell_type": "code",
   "execution_count": 1,
   "metadata": {},
   "outputs": [
    {
     "name": "stdout",
     "output_type": "stream",
     "text": [
      "<class 'int'>\n",
      "<class 'int'>\n"
     ]
    }
   ],
   "source": [
    "# Example of integer\n",
    "\n",
    "a = 10\n",
    "b = -5\n",
    "\n",
    "print(type(a))  # Output: <class 'int'>\n",
    "print(type(b))  # Output: <class 'int'>"
   ]
  },
  {
   "cell_type": "code",
   "execution_count": 2,
   "metadata": {},
   "outputs": [
    {
     "name": "stdout",
     "output_type": "stream",
     "text": [
      "<class 'float'>\n",
      "<class 'float'>\n",
      "1050.0\n",
      "<class 'float'>\n"
     ]
    }
   ],
   "source": [
    "# Example of float\n",
    "\n",
    "c = 3.14\n",
    "d = -2.7\n",
    "print(type(c))  # Output: <class 'float'>\n",
    "print(type(d))  # Output: <class 'float'>\n",
    "\n",
    "# Example of float in exponential form\n",
    "\n",
    "e = 1.05e3  # equivalent to 1050.0\n",
    "print(e)  # Output: 1050.0\n",
    "print(type(e))  # Output: <class 'float'>"
   ]
  },
  {
   "cell_type": "code",
   "execution_count": 3,
   "metadata": {},
   "outputs": [
    {
     "name": "stdout",
     "output_type": "stream",
     "text": [
      "<class 'complex'>\n",
      "<class 'complex'>\n"
     ]
    }
   ],
   "source": [
    "# Example of complex number\n",
    "\n",
    "f = 3 + 4j\n",
    "g = 2.5 - 1.5j\n",
    "print(type(f))  # Output: <class 'complex'>\n",
    "print(type(g))  # Output: <class 'complex'>"
   ]
  },
  {
   "cell_type": "code",
   "execution_count": 6,
   "metadata": {},
   "outputs": [
    {
     "data": {
      "text/plain": [
       "(3+4j)"
      ]
     },
     "execution_count": 6,
     "metadata": {},
     "output_type": "execute_result"
    }
   ],
   "source": [
    "f = 3 + 4j\n",
    "f"
   ]
  },
  {
   "cell_type": "code",
   "execution_count": 7,
   "metadata": {},
   "outputs": [
    {
     "ename": "SyntaxError",
     "evalue": "invalid decimal literal (2405791764.py, line 1)",
     "output_type": "error",
     "traceback": [
      "  \u001b[36mCell\u001b[39m\u001b[36m \u001b[39m\u001b[32mIn[7]\u001b[39m\u001b[32m, line 1\u001b[39m\n\u001b[31m    \u001b[39m\u001b[31mf = 3 + 4i\u001b[39m\n            ^\n\u001b[31mSyntaxError\u001b[39m\u001b[31m:\u001b[39m invalid decimal literal\n"
     ]
    }
   ],
   "source": [
    "f = 3 + 4i\n",
    "f"
   ]
  },
  {
   "cell_type": "markdown",
   "metadata": {},
   "source": [
    "# Industry Use Cases\n",
    "\n",
    "1. **Scientific Computing**: Python's support for floats and complex numbers is essential for scientific computing tasks involving calculations with real and imaginary numbers.\n",
    "2. **Data Analysis**: In data analysis, numeric data types are used to store and process large datasets of numerical information.\n",
    "3. **Finance**: Financial applications use floats for precise calculations involving currency and interest rates, and integers for counting discrete items like stocks.\n",
    "4. **Machine Learning**: In machine learning, numeric data types are used to represent and manipulate features and weights in algorithms.\n",
    "5. **Graphics**: Complex numbers can be used in graphics programming to represent points and transformations in the complex plane."
   ]
  },
  {
   "cell_type": "markdown",
   "metadata": {},
   "source": [
    "# Questions\n",
    "\n",
    "1. What are the three numeric data types in Python? Provide examples for each.\n",
    "2. How are floating-point numbers represented in Python? Explain with an example.\n",
    "3. Write a code snippet to demonstrate the creation of a complex number and how to access its real and imaginary parts.\n",
    "4. Explain the concept of precision in Python floats. How is it similar to the `double` data type in C or Java?\n",
    "5. Why are numeric data types important in scientific computing?"
   ]
  },
  {
   "cell_type": "markdown",
   "metadata": {
    "jp-MarkdownHeadingCollapsed": true
   },
   "source": [
    "# Answers\n"
   ]
  },
  {
   "cell_type": "markdown",
   "metadata": {},
   "source": [
    "\n",
    "1. **Numeric Data Types**: Integers (`int`), Floats (`float`), and Complex numbers (`complex`).\n",
    "    \n",
    "    ```python\n",
    "    a = 10  # int\n",
    "    b = 3.14  # float\n",
    "    c = 1 + 2j  # complex\n",
    "    print(type(a))  # Output: <class 'int'>\n",
    "    print(type(b))  # Output: <class 'float'>\n",
    "    print(type(c))  # Output: <class 'complex'>\n",
    "    ```\n",
    "\n",
    "2. **Floating-Point Numbers**: Represented with a decimal point or in exponential form.\n",
    "    \n",
    "    ```python\n",
    "    d = 2.5\n",
    "    e = 1.05e3  # equivalent to 1050.0\n",
    "    print(d)  # Output: 2.5\n",
    "    print(e)  # Output: 1050.0\n",
    "    ```\n",
    "\n",
    "3. **Complex Numbers**:\n",
    "    \n",
    "    ```python\n",
    "    f = 3 + 4j\n",
    "    print(f.real)  # Output: 3.0\n",
    "    print(f.imag)  # Output: 4.0\n",
    "    ```\n",
    "\n",
    "4. **Precision in Floats**: Python's floats have a precision of 16 digits, similar to `double` in C or Java.\n",
    "    \n",
    "    ```python\n",
    "    g = 3.141592653589793\n",
    "    print(g)  # Output: 3.141592653589793\n",
    "    ```\n",
    "\n",
    "5. **Numeric Data Types in Scientific Computing**: They allow for accurate representation and manipulation of numerical data, which is crucial for scientific experiments and calculations."
   ]
  }
 ],
 "metadata": {
  "kernelspec": {
   "display_name": "base",
   "language": "python",
   "name": "python3"
  },
  "language_info": {
   "codemirror_mode": {
    "name": "ipython",
    "version": 3
   },
   "file_extension": ".py",
   "mimetype": "text/x-python",
   "name": "python",
   "nbconvert_exporter": "python",
   "pygments_lexer": "ipython3",
   "version": "3.13.2"
  }
 },
 "nbformat": 4,
 "nbformat_minor": 4
}
