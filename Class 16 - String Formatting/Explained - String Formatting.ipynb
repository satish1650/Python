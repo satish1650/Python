{
 "cells": [
  {
   "cell_type": "markdown",
   "metadata": {},
   "source": [
    "# Print Formatting in Python\n",
    "\n",
    "Print formatting allows us to create dynamic strings by combining and plugging in values and variables into them. It is widely used in print statements where we pass strings."
   ]
  },
  {
   "cell_type": "markdown",
   "metadata": {},
   "source": [
    "## 1. Formatting with Operator `%`\n",
    "\n",
    "The `%` operator is one of the older ways to format strings in Python. Here, we use `%` followed by a format specifier and the values to be formatted."
   ]
  },
  {
   "cell_type": "code",
   "execution_count": 1,
   "metadata": {},
   "outputs": [
    {
     "name": "stdout",
     "output_type": "stream",
     "text": [
      "My name is Alice and I am 30 years old.\n"
     ]
    }
   ],
   "source": [
    "# Example\n",
    "name = \"Alice\"\n",
    "age = 30\n",
    "print(\"My name is %s and I am %d years old.\" % (name, age))"
   ]
  },
  {
   "cell_type": "markdown",
   "metadata": {},
   "source": [
    "## 2. Formatting with `format` Method\n",
    "\n",
    "The `format` method was introduced in Python 3. It provides a more powerful way to format strings. We use curly braces `{}` as placeholders within the string and call the `format` method on it, passing the values to be formatted."
   ]
  },
  {
   "cell_type": "code",
   "execution_count": 2,
   "metadata": {},
   "outputs": [
    {
     "name": "stdout",
     "output_type": "stream",
     "text": [
      "My name is Alice and I am 30 years old.\n"
     ]
    }
   ],
   "source": [
    "# Example\n",
    "print(\"My name is {} and I am {} years old.\".format(name, age))"
   ]
  },
  {
   "cell_type": "markdown",
   "metadata": {},
   "source": [
    "### Using Index-Based and Keyword-Based Formatting\n",
    "\n",
    "We can use positional arguments or named arguments in the `format` method."
   ]
  },
  {
   "cell_type": "code",
   "execution_count": 3,
   "metadata": {},
   "outputs": [
    {
     "name": "stdout",
     "output_type": "stream",
     "text": [
      "Hello Alice, you are 30 years old.\n",
      "Hello Alice, you are 30 years old.\n"
     ]
    }
   ],
   "source": [
    "# Positional Arguments\n",
    "print(\"Hello {0}, you are {1} years old.\".format(name, age))\n",
    "\n",
    "# Named Arguments\n",
    "print(\"Hello {name}, you are {age} years old.\".format(name=name, age=age))"
   ]
  },
  {
   "cell_type": "markdown",
   "metadata": {},
   "source": [
    "## 3. f-Strings (Formatted String Literals)\n",
    "\n",
    "Introduced in Python 3.6, f-strings provide a concise and convenient way to embed expressions inside string literals using curly braces `{}` prefixed with an `f` or `F`."
   ]
  },
  {
   "cell_type": "code",
   "execution_count": 4,
   "metadata": {},
   "outputs": [
    {
     "name": "stdout",
     "output_type": "stream",
     "text": [
      "My name is Alice and I am 30 years old.\n"
     ]
    }
   ],
   "source": [
    "# Example\n",
    "print(f\"My name is {name} and I am {age} years old.\")"
   ]
  },
  {
   "cell_type": "markdown",
   "metadata": {},
   "source": [
    "## Precision Handling\n",
    "\n",
    "When formatting floating-point numbers, we often need to control the number of decimal places. We can specify the width and precision using the format specifier."
   ]
  },
  {
   "cell_type": "code",
   "execution_count": 5,
   "metadata": {},
   "outputs": [
    {
     "name": "stdout",
     "output_type": "stream",
     "text": [
      "The value of pi rounded to 2 decimal places is 3.14\n",
      "The value of pi rounded to 3 decimal places is 3.142\n",
      "The value of pi rounded to 4 decimal places is 3.1416\n"
     ]
    }
   ],
   "source": [
    "# Example\n",
    "pi = 3.141592653589793\n",
    "print(\"The value of pi rounded to 2 decimal places is %.2f\" % pi)\n",
    "print(\"The value of pi rounded to 3 decimal places is {:.3f}\".format(pi))\n",
    "print(f\"The value of pi rounded to 4 decimal places is {pi:.4f}\")"
   ]
  },
  {
   "cell_type": "markdown",
   "metadata": {},
   "source": [
    "## Width and Alignment\n",
    "\n",
    "We can also control the width and alignment of the formatted output. This is useful for creating tables or aligned text."
   ]
  },
  {
   "cell_type": "code",
   "execution_count": 6,
   "metadata": {},
   "outputs": [
    {
     "name": "stdout",
     "output_type": "stream",
     "text": [
      "|Left      |  Center  |     Right|\n",
      "|Left      |  Center  |     Right|\n"
     ]
    }
   ],
   "source": [
    "# Example\n",
    "print(\"|{:<10}|{:^10}|{:>10}|\".format(\"Left\", \"Center\", \"Right\"))\n",
    "print(f\"|{'Left':<10}|{'Center':^10}|{'Right':>10}|\")"
   ]
  },
  {
   "cell_type": "markdown",
   "metadata": {},
   "source": [
    "## String Formatting Expressions\n",
    "\n",
    "We can include expressions inside the placeholders to perform calculations or call functions."
   ]
  },
  {
   "cell_type": "code",
   "execution_count": 7,
   "metadata": {},
   "outputs": [
    {
     "name": "stdout",
     "output_type": "stream",
     "text": [
      "The total price with tax is: 53.49\n"
     ]
    }
   ],
   "source": [
    "# Example\n",
    "price = 49.99\n",
    "tax = 0.07\n",
    "print(f\"The total price with tax is: {price + price * tax:.2f}\")"
   ]
  },
  {
   "cell_type": "markdown",
   "metadata": {},
   "source": [
    "## Industry Use Cases\n",
    "\n",
    "1. **Reporting**: Creating formatted reports by embedding values and expressions in strings.\n",
    "2. **Logging**: Formatting log messages with variable data.\n",
    "3. **Web Development**: Displaying dynamic content on web pages.\n",
    "4. **Data Analysis**: Presenting analysis results in a readable format.\n",
    "5. **Configuration Files**: Generating configuration files with variable content."
   ]
  },
  {
   "cell_type": "markdown",
   "metadata": {},
   "source": [
    "# Questions\n",
    "\n",
    "1. What are the three ways to format strings in Python?\n",
    "2. Write a code snippet to format the string using the `%` operator.\n",
    "3. How can you specify the width and precision when formatting a floating-point number?\n",
    "4. Demonstrate index-based and keyword-based formatting using the `format` method.\n",
    "5. Explain the use of f-strings in Python with an example.\n",
    "6. Write a code snippet to format a number with 3 decimal places using the `format` method.\n",
    "7. How can you align text to the left, center, and right using string formatting?\n",
    "8. Provide an example of including expressions inside placeholders with f-strings.\n",
    "9. Describe a scenario in web development where string formatting can be used.\n",
    "10. Write a code snippet to generate a formatted log message including the current date and time."
   ]
  },
  {
   "cell_type": "markdown",
   "metadata": {},
   "source": [
    "# "
   ]
  },
  {
   "cell_type": "code",
   "execution_count": null,
   "metadata": {},
   "outputs": [],
   "source": []
  },
  {
   "cell_type": "code",
   "execution_count": 8,
   "metadata": {},
   "outputs": [
    {
     "name": "stdout",
     "output_type": "stream",
     "text": [
      "My name is Alice and I am 30 years old.\n",
      "The value of pi rounded to 2 decimal places is 3.14\n",
      "The value of pi rounded to 3 decimal places is 3.142\n",
      "The value of pi rounded to 4 decimal places is 3.1416\n",
      "Hello Alice, you are 30 years old.\n",
      "Hello Alice, you are 30 years old.\n",
      "My name is Alice and I am 30 years old.\n",
      "The value of pi rounded to 3 decimal places is 3.142\n",
      "|Left      |  Center  |     Right|\n",
      "|Left      |  Center  |     Right|\n",
      "The total price with tax is: 53.49\n",
      "[2025-07-07 10:40:50.348775] - User logged in.\n"
     ]
    }
   ],
   "source": [
    "### Answers\n",
    "\n",
    "# 1. What are the three ways to format strings in Python?\n",
    "# - Using the `%` operator\n",
    "# - Using the `format` method\n",
    "# - Using f-strings (formatted string literals)\n",
    "\n",
    "# 2. Write a code snippet to format the string using the `%` operator.\n",
    "name = \"Alice\"\n",
    "age = 30\n",
    "print(\"My name is %s and I am %d years old.\" % (name, age))\n",
    "\n",
    "# 3. How can you specify the width and precision when formatting a floating-point number?\n",
    "pi = 3.141592653589793\n",
    "print(\"The value of pi rounded to 2 decimal places is %.2f\" % pi)\n",
    "print(\"The value of pi rounded to 3 decimal places is {:.3f}\".format(pi))\n",
    "print(f\"The value of pi rounded to 4 decimal places is {pi:.4f}\")\n",
    "\n",
    "# 4. Demonstrate index-based and keyword-based formatting using the `format` method.\n",
    "print(\"Hello {0}, you are {1} years old.\".format(name, age))\n",
    "print(\"Hello {name}, you are {age} years old.\".format(name=name, age=age))\n",
    "\n",
    "# 5. Explain the use of f-strings in Python with an example.\n",
    "print(f\"My name is {name} and I am {age} years old.\")\n",
    "\n",
    "# 6. Write a code snippet to format a number with 3 decimal places using the `format` method.\n",
    "print(\"The value of pi rounded to 3 decimal places is {:.3f}\".format(pi))\n",
    "\n",
    "# 7. How can you align text to the left, center, and right using string formatting?\n",
    "print(\"|{:<10}|{:^10}|{:>10}|\".format(\"Left\", \"Center\", \"Right\"))\n",
    "print(f\"|{'Left':<10}|{'Center':^10}|{'Right':>10}|\")\n",
    "\n",
    "# 8. Provide an example of including expressions inside placeholders with f-strings.\n",
    "price = 49.99\n",
    "tax = 0.07\n",
    "print(f\"The total price with tax is: {price + price * tax:.2f}\")\n",
    "\n",
    "# 9. Describe a scenario in web development where string formatting can be used.\n",
    "# - In web development, string formatting can be used to display dynamic content on web pages.\n",
    "#   For example, generating HTML content with user-specific information like names and preferences.\n",
    "\n",
    "# 10. Write a code snippet to generate a formatted log message including the current date and time.\n",
    "from datetime import datetime\n",
    "current_time = datetime.now()\n",
    "log_message = f\"[{current_time}] - User logged in.\"\n",
    "print(log_message)"
   ]
  },
  {
   "cell_type": "markdown",
   "metadata": {
    "jp-MarkdownHeadingCollapsed": true
   },
   "source": [
    "### Answers\n",
    "\n",
    "# 1. What are the three ways to format strings in Python?\n",
    "# - Using the `%` operator\n",
    "# - Using the `format` method\n",
    "# - Using f-strings (formatted string literals)\n",
    "\n",
    "# 2. Write a code snippet to format the string using the `%` operator.\n",
    "name = \"Alice\"\n",
    "age = 30\n",
    "print(\"My name is %s and I am %d years old.\" % (name, age))\n",
    "\n",
    "# 3. How can you specify the width and precision when formatting a floating-point number?\n",
    "pi = 3.141592653589793\n",
    "print(\"The value of pi rounded to 2 decimal places is %.2f\" % pi)\n",
    "print(\"The value of pi rounded to 3 decimal places is {:.3f}\".format(pi))\n",
    "print(f\"The value of pi rounded to 4 decimal places is {pi:.4f}\")\n",
    "\n",
    "# 4. Demonstrate index-based and keyword-based formatting using the `format` method.\n",
    "print(\"Hello {0}, you are {1} years old.\".format(name, age))\n",
    "print(\"Hello {name}, you are {age} years old.\".format(name=name, age=age))\n",
    "\n",
    "# 5. Explain the use of f-strings in Python with an example.\n",
    "print(f\"My name is {name} and I am {age} years old.\")\n",
    "\n",
    "# 6. Write a code snippet to format a number with 3 decimal places using the `format` method.\n",
    "print(\"The value of pi rounded to 3 decimal places is {:.3f}\".format(pi))\n",
    "\n",
    "# 7. How can you align text to the left, center, and right using string formatting?\n",
    "print(\"|{:<10}|{:^10}|{:>10}|\".format(\"Left\", \"Center\", \"Right\"))\n",
    "print(f\"|{'Left':<10}|{'Center':^10}|{'Right':>10}|\")\n",
    "\n",
    "# 8. Provide an example of including expressions inside placeholders with f-strings.\n",
    "price = 49.99\n",
    "tax = 0.07\n",
    "print(f\"The total price with tax is: {price + price * tax:.2f}\")\n",
    "\n",
    "# 9. Describe a scenario in web development where string formatting can be used.\n",
    "# - In web development, string formatting can be used to display dynamic content on web pages.\n",
    "#   For example, generating HTML content with user-specific information like names and preferences.\n",
    "\n",
    "# 10. Write a code snippet to generate a formatted log message including the current date and time.\n",
    "from datetime import datetime\n",
    "current_time = datetime.now()\n",
    "log_message = f\"[{current_time}] - User logged in.\"\n",
    "print(log_message)"
   ]
  }
 ],
 "metadata": {
  "kernelspec": {
   "display_name": "base",
   "language": "python",
   "name": "python3"
  },
  "language_info": {
   "codemirror_mode": {
    "name": "ipython",
    "version": 3
   },
   "file_extension": ".py",
   "mimetype": "text/x-python",
   "name": "python",
   "nbconvert_exporter": "python",
   "pygments_lexer": "ipython3",
   "version": "3.13.2"
  }
 },
 "nbformat": 4,
 "nbformat_minor": 4
}
