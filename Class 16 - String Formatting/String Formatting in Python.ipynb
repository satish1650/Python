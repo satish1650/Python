{
 "cells": [
  {
   "cell_type": "markdown",
   "id": "3e5beb1e-4528-4912-9722-74de328908ec",
   "metadata": {},
   "source": [
    "# String Formatting"
   ]
  },
  {
   "cell_type": "code",
   "execution_count": 1,
   "id": "dc307c66-e81e-495d-8536-a46b577e5d1b",
   "metadata": {},
   "outputs": [],
   "source": [
    "a = \"Hello\"\n",
    "b = \"Python\""
   ]
  },
  {
   "cell_type": "code",
   "execution_count": 2,
   "id": "cfb550e0-b5f0-44a9-93f4-2c0baaae5032",
   "metadata": {},
   "outputs": [
    {
     "data": {
      "text/plain": [
       "'Hi Welcome to my Hello Python Series'"
      ]
     },
     "execution_count": 2,
     "metadata": {},
     "output_type": "execute_result"
    }
   ],
   "source": [
    "msg = \"Hi Welcome to my Hello Python Series\"\n",
    "msg"
   ]
  },
  {
   "cell_type": "code",
   "execution_count": null,
   "id": "c851be06-b0af-440c-a06b-b6b58ac108d3",
   "metadata": {},
   "outputs": [],
   "source": []
  },
  {
   "cell_type": "code",
   "execution_count": 3,
   "id": "035f5bd1-73be-4f35-885a-5145e13af786",
   "metadata": {},
   "outputs": [
    {
     "name": "stdout",
     "output_type": "stream",
     "text": [
      "Hi I am an awesome Python Series names Hello Mayank \n"
     ]
    }
   ],
   "source": [
    "print(\"Hi I am an awesome Python Series names %s %s \" %(a,\"Mayank\"))"
   ]
  },
  {
   "cell_type": "code",
   "execution_count": null,
   "id": "fad2bb8f-a8e3-4e60-8146-f8000895ed78",
   "metadata": {},
   "outputs": [],
   "source": []
  },
  {
   "cell_type": "code",
   "execution_count": null,
   "id": "890758f2-cde1-4d83-bfb2-03b31b9c97a0",
   "metadata": {},
   "outputs": [],
   "source": []
  },
  {
   "cell_type": "code",
   "execution_count": 4,
   "id": "004ad2f3-1637-4811-b2db-97a475915c29",
   "metadata": {},
   "outputs": [],
   "source": [
    "res = 10/8"
   ]
  },
  {
   "cell_type": "code",
   "execution_count": 5,
   "id": "f53bba2b-0b4f-40bc-93bb-6c6a60ea4888",
   "metadata": {},
   "outputs": [
    {
     "data": {
      "text/plain": [
       "1.25"
      ]
     },
     "execution_count": 5,
     "metadata": {},
     "output_type": "execute_result"
    }
   ],
   "source": [
    "res"
   ]
  },
  {
   "cell_type": "code",
   "execution_count": 6,
   "id": "18b2fd56-4c94-4721-8842-cc70f92ebf11",
   "metadata": {},
   "outputs": [],
   "source": [
    "res = 3.1299999"
   ]
  },
  {
   "cell_type": "code",
   "execution_count": 7,
   "id": "247f10da-6582-4cbc-ac00-68b89a2110da",
   "metadata": {},
   "outputs": [
    {
     "name": "stdout",
     "output_type": "stream",
     "text": [
      "The result is 3.1\n"
     ]
    }
   ],
   "source": [
    "print(\"The result is %2.1f\" %(res))"
   ]
  },
  {
   "cell_type": "code",
   "execution_count": null,
   "id": "0a909164-0bd0-41ac-b285-7ba51753070b",
   "metadata": {},
   "outputs": [],
   "source": []
  },
  {
   "cell_type": "code",
   "execution_count": null,
   "id": "bbcf2325-0db7-498d-9c0a-f29bd56f0347",
   "metadata": {},
   "outputs": [],
   "source": []
  },
  {
   "cell_type": "code",
   "execution_count": null,
   "id": "2b70bbdd-f615-4e88-9ec2-42c67b3d3d70",
   "metadata": {},
   "outputs": [],
   "source": []
  },
  {
   "cell_type": "code",
   "execution_count": 8,
   "id": "2ba44852-1eac-4b3e-a6a9-328c25056fe6",
   "metadata": {},
   "outputs": [
    {
     "name": "stdout",
     "output_type": "stream",
     "text": [
      "My name is python and I am 30 years old.\n"
     ]
    }
   ],
   "source": [
    "name = \"python\"\n",
    "age = 30\n",
    "# Example\n",
    "print(\"My name is {} and I am {} years old.\".format(name, age))"
   ]
  },
  {
   "cell_type": "code",
   "execution_count": null,
   "id": "eb4992e6-ef22-4047-8213-facf3f9eab49",
   "metadata": {},
   "outputs": [],
   "source": []
  },
  {
   "cell_type": "code",
   "execution_count": 9,
   "id": "960635bf-1d37-4193-9b80-66deeea43a59",
   "metadata": {},
   "outputs": [
    {
     "name": "stdout",
     "output_type": "stream",
     "text": [
      "Hello python, you are 30 years old.\n"
     ]
    }
   ],
   "source": [
    "# Positional Arguments\n",
    "print(\"Hello {0}, you are {1} years old.\".format(name, age))\n"
   ]
  },
  {
   "cell_type": "code",
   "execution_count": 10,
   "id": "aec602ae-6ce2-43b7-8bd2-bfa515360b24",
   "metadata": {},
   "outputs": [
    {
     "name": "stdout",
     "output_type": "stream",
     "text": [
      "Hello python, I am are 30 years old. The best way to learn me is Hello python Series\n"
     ]
    }
   ],
   "source": [
    "# Named Arguments\n",
    "print(\"Hello {firstName}, I am are {age} years old. The best way to learn me is Hello {firstName} Series\".format(firstName=name, age=age))"
   ]
  },
  {
   "cell_type": "code",
   "execution_count": 11,
   "id": "e0da5e54-1da4-4ef1-b82b-cf44fc75e25c",
   "metadata": {},
   "outputs": [],
   "source": [
    "name = \"python\"\n",
    "age = 30"
   ]
  },
  {
   "cell_type": "code",
   "execution_count": 12,
   "id": "e2748899-df1a-47fd-8be9-8fcacf01d986",
   "metadata": {},
   "outputs": [],
   "source": [
    "str1 = f\"Hello my name is {name} and my age is {age}\""
   ]
  },
  {
   "cell_type": "code",
   "execution_count": 13,
   "id": "f8adc9d0-3db3-410d-884f-96194e604a6b",
   "metadata": {},
   "outputs": [
    {
     "data": {
      "text/plain": [
       "'Hello my name is python and my age is 30'"
      ]
     },
     "execution_count": 13,
     "metadata": {},
     "output_type": "execute_result"
    }
   ],
   "source": [
    "str1"
   ]
  },
  {
   "cell_type": "code",
   "execution_count": 14,
   "id": "b6a15cae-9e34-42a2-a1c9-f423cbd2af0e",
   "metadata": {},
   "outputs": [
    {
     "name": "stdout",
     "output_type": "stream",
     "text": [
      "The value of pi rounded to 2 decimal places is 3.14\n",
      "The value of pi rounded to 3 decimal places is 3.142\n",
      "The value of pi rounded to 4 decimal places is 3.1416\n"
     ]
    }
   ],
   "source": [
    "pi = 3.141592653589793\n",
    "print(\"The value of pi rounded to 2 decimal places is %.2f\" % pi)\n",
    "print(\"The value of pi rounded to 3 decimal places is {:.3f}\".format(pi))\n",
    "print(f\"The value of pi rounded to 4 decimal places is {pi:.4f}\")"
   ]
  },
  {
   "cell_type": "code",
   "execution_count": 15,
   "id": "2dff0c0f-9ce4-4688-810a-bf3290f32a13",
   "metadata": {},
   "outputs": [],
   "source": [
    "income = 100\n",
    "tax = 30"
   ]
  },
  {
   "cell_type": "code",
   "execution_count": 16,
   "id": "4d286ae9-58a9-4b54-a1ef-3148c2ab0cba",
   "metadata": {},
   "outputs": [
    {
     "data": {
      "text/plain": [
       "'My final income is 70'"
      ]
     },
     "execution_count": 16,
     "metadata": {},
     "output_type": "execute_result"
    }
   ],
   "source": [
    "\n",
    "str2 = f\"My final income is {income - tax}\"\n",
    "str2"
   ]
  }
 ],
 "metadata": {
  "kernelspec": {
   "display_name": "base",
   "language": "python",
   "name": "python3"
  },
  "language_info": {
   "codemirror_mode": {
    "name": "ipython",
    "version": 3
   },
   "file_extension": ".py",
   "mimetype": "text/x-python",
   "name": "python",
   "nbconvert_exporter": "python",
   "pygments_lexer": "ipython3",
   "version": "3.13.2"
  }
 },
 "nbformat": 4,
 "nbformat_minor": 5
}
