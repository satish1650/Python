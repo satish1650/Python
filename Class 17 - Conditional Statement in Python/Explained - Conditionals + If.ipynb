{
 "cells": [
  {
   "cell_type": "markdown",
   "id": "7d34438e",
   "metadata": {},
   "source": [
    "# Conditionals in Python\n",
    "## Introduction to Conditionals\n",
    "\n",
    "Conditional statements are used to execute a block of code only if a specified condition is met. They help in decision-making in a program, allowing for different actions based on different conditions. In Python, the main types of conditional statements are:\n",
    "\n",
    "1. `if` statement\n",
    "2. `if-else` statement\n",
    "3. `if-elif-else` statement\n",
    "4. Nested `if` statements\n"
   ]
  },
  {
   "cell_type": "markdown",
   "id": "7758a409",
   "metadata": {},
   "source": [
    "## The `if` Statement\n",
    "\n",
    "The `if` statement in Python is used to decide whether a certain block of code should be executed or not. It is similar to the `if` statements found in languages like C or Java. If the condition specified in the `if` statement is `True`, then the block of code inside the `if` statement is executed.\n",
    "\n",
    "### Syntax\n",
    "```python\n",
    "if condition:\n",
    "    # block of code\n",
    "```\n",
    "### Example\n",
    "Let's write a simple program to check if a number is even.\n"
   ]
  },
  {
   "cell_type": "code",
   "execution_count": 1,
   "id": "87fab8de",
   "metadata": {},
   "outputs": [
    {
     "name": "stdout",
     "output_type": "stream",
     "text": [
      "10 is even.\n"
     ]
    }
   ],
   "source": [
    "# Checking if a number is even\n",
    "num = int(input(\"Enter a number: \"))\n",
    "if num % 2 == 0:\n",
    "    print(f\"{num} is even.\")\n",
    "if num % 2 != 0:\n",
    "    print(f\"{num} is odd.\")"
   ]
  },
  {
   "cell_type": "markdown",
   "id": "9d0604c6",
   "metadata": {},
   "source": [
    "### Indentation in Python\n",
    "Indentation is very important in Python. It defines the scope of the conditional statement. The block of code that needs to be executed if the condition is true should be indented.\n",
    "\n",
    "### More Examples\n",
    "Here are a few more examples to illustrate the use of `if` statements."
   ]
  },
  {
   "cell_type": "code",
   "execution_count": 2,
   "id": "c8b8ae8e",
   "metadata": {},
   "outputs": [
    {
     "name": "stdout",
     "output_type": "stream",
     "text": [
      "The number is positive.\n"
     ]
    }
   ],
   "source": [
    "# Example 1: Checking if a number is positive\n",
    "num = 10\n",
    "if num > 0:\n",
    "    print(\"The number is positive.\")"
   ]
  },
  {
   "cell_type": "code",
   "execution_count": 3,
   "id": "8b50d455",
   "metadata": {},
   "outputs": [
    {
     "name": "stdout",
     "output_type": "stream",
     "text": [
      "The number is negative.\n"
     ]
    }
   ],
   "source": [
    "# Example 2: Checking if a number is negative\n",
    "num = -5\n",
    "if num < 0:\n",
    "    print(\"The number is negative.\")"
   ]
  },
  {
   "cell_type": "code",
   "execution_count": 4,
   "id": "26d2fc5b",
   "metadata": {},
   "outputs": [
    {
     "name": "stdout",
     "output_type": "stream",
     "text": [
      "The number is zero.\n"
     ]
    }
   ],
   "source": [
    "# Example 3: Checking if a number is zero\n",
    "num = 0\n",
    "if num == 0:\n",
    "    print(\"The number is zero.\")"
   ]
  },
  {
   "cell_type": "markdown",
   "id": "dfe41aa5",
   "metadata": {},
   "source": [
    "# Industry Use Case\n",
    "\n",
    "Conditional statements are widely used in various industries for different purposes. Here are a few examples:\n",
    "\n",
    "1. **Web Development**: Conditional statements are used to display different content based on user input or roles. For example, displaying a different user interface for admins and regular users.\n",
    "2. **Data Analysis**: Conditional statements help in filtering data. For example, selecting rows from a dataset that meet certain criteria.\n",
    "3. **Automation**: Used in scripts to perform different actions based on the results of a previous command. For example, running a backup script only if there is enough disk space.\n",
    "4. **Game Development**: Conditional statements are crucial in game logic, such as determining if a player has won or lost a game.\n",
    "5. **Finance**: Used to make decisions based on financial data, such as approving or rejecting loan applications based on credit scores.\n"
   ]
  },
  {
   "cell_type": "markdown",
   "id": "d26237e1",
   "metadata": {},
   "source": [
    "# Questions\n",
    "\n",
    "1. What is a conditional statement in Python?\n",
    "2. Write a code snippet to check if a number is positive, negative, or zero.\n",
    "3. Explain the importance of indentation in Python with an example.\n",
    "4. How would you use a conditional statement to check if a user is an admin?\n",
    "5. Provide an example of a nested `if` statement.\n",
    "6. Write a code snippet to check if a number is divisible by both 3 and 5.\n",
    "7. Explain how conditional statements can be used in web development.\n",
    "8. Write a code snippet to find the largest of three numbers using `if` statements.\n",
    "9. Describe a scenario in automation where conditional statements are used.\n",
    "10. How can you handle multiple conditions in a single `if` statement?\n"
   ]
  },
  {
   "cell_type": "code",
   "execution_count": 7,
   "id": "10a3f10e",
   "metadata": {},
   "outputs": [
    {
     "name": "stdout",
     "output_type": "stream",
     "text": [
      "The number is negative.\n",
      "This is inside the if block.\n",
      "This is outside the if block.\n",
      "User is an admin.\n",
      "The number is positive and even.\n",
      "The number is divisible by both 3 and 5.\n",
      "c is the largest.\n",
      "The number is positive and even.\n"
     ]
    }
   ],
   "source": [
    "# Solutions\n",
    "\n",
    "# 1. What is a conditional statement in Python?\n",
    "# A conditional statement is used to execute a block of code only if a specified condition is met.\n",
    "\n",
    "# 2. Write a code snippet to check if a number is positive, negative, or zero.\n",
    "num = int(input(\"Enter a number: \"))\n",
    "if num > 0:\n",
    "    print(\"The number is positive.\")\n",
    "elif num < 0:\n",
    "    print(\"The number is negative.\")\n",
    "else:\n",
    "    print(\"The number is zero.\")\n",
    "\n",
    "# 3. Explain the importance of indentation in Python with an example.\n",
    "# Indentation is important because it defines the scope of the code block inside the conditional statement.\n",
    "if True:\n",
    "    print(\"This is inside the if block.\")\n",
    "print(\"This is outside the if block.\")\n",
    "\n",
    "# 4. How would you use a conditional statement to check if a user is an admin?\n",
    "user_role = \"admin\"\n",
    "if user_role == \"admin\":\n",
    "    print(\"User is an admin.\")\n",
    "\n",
    "# 5. Provide an example of a nested `if` statement.\n",
    "num = 10\n",
    "if num > 0:\n",
    "    if num % 2 == 0:\n",
    "        print(\"The number is positive and even.\")\n",
    "    else:\n",
    "        print(\"The number is positive and odd.\")\n",
    "\n",
    "# 6. Write a code snippet to check if a number is divisible by both 3 and 5.\n",
    "num = 15\n",
    "if num % 3 == 0 and num % 5 == 0:\n",
    "    print(\"The number is divisible by both 3 and 5.\")\n",
    "\n",
    "# 7. Explain how conditional statements can be used in web development.\n",
    "# Conditional statements can be used to display different content based on user input or roles.\n",
    "# For example, displaying a different user interface for admins and regular users.\n",
    "\n",
    "# 8. Write a code snippet to find the largest of three numbers using `if` statements.\n",
    "a = 10\n",
    "b = 20\n",
    "c = 30\n",
    "if a > b and a > c:\n",
    "    print(\"a is the largest.\")\n",
    "elif b > a and b > c:\n",
    "    print(\"b is the largest.\")\n",
    "else:\n",
    "    print(\"c is the largest.\")\n",
    "\n",
    "# 9. Describe a scenario in automation where conditional statements are used.\n",
    "# Conditional statements are used in scripts to perform different actions based on the results of a previous command.\n",
    "# For example, running a backup script only if there is enough disk space.\n",
    "\n",
    "# 10. How can you handle multiple conditions in a single `if` statement?\n",
    "# Multiple conditions can be handled using logical operators such as `and`, `or`, and `not`.\n",
    "num = 10\n",
    "if num > 0 and num % 2 == 0:\n",
    "    print(\"The number is positive and even.\")"
   ]
  },
  {
   "cell_type": "code",
   "execution_count": null,
   "id": "5ca0cb18",
   "metadata": {},
   "outputs": [],
   "source": [
    "Enter a number:10\n",
    "\n",
    "Output:\n",
    "The number is positive.\n",
    "This is inside the if block.\n",
    "This is outside the if block.\n",
    "User is an admin.\n",
    "The number is positive and even.\n",
    "The number is divisible by both 3 and 5.\n",
    "c is the largest.\n",
    "The number is positive and even.\n",
    "\n",
    "Enter a number:25\n",
    "\n",
    "Output:\n",
    "The number is positive.\n",
    "This is inside the if block.\n",
    "This is outside the if block.\n",
    "User is an admin.\n",
    "The number is positive and even.\n",
    "The number is divisible by both 3 and 5.\n",
    "c is the largest.\n",
    "The number is positive and even.\n",
    "\n",
    "Enter a number:-10\n",
    "\n",
    "Output:\n",
    "The number is negative.\n",
    "This is inside the if block.\n",
    "This is outside the if block.\n",
    "User is an admin.\n",
    "The number is positive and even.\n",
    "The number is divisible by both 3 and 5.\n",
    "c is the largest.\n",
    "The number is positive and even."
   ]
  }
 ],
 "metadata": {
  "kernelspec": {
   "display_name": "Python 3",
   "language": "python",
   "name": "python3"
  },
  "language_info": {
   "codemirror_mode": {
    "name": "ipython",
    "version": 3
   },
   "file_extension": ".py",
   "mimetype": "text/x-python",
   "name": "python",
   "nbconvert_exporter": "python",
   "pygments_lexer": "ipython3",
   "version": "3.12.11"
  }
 },
 "nbformat": 4,
 "nbformat_minor": 5
}
