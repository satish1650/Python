{
 "cells": [
  {
   "cell_type": "markdown",
   "id": "002edd58-4af0-4a05-aa2c-c3cf187de00e",
   "metadata": {},
   "source": [
    "# Conditionals In Python"
   ]
  },
  {
   "cell_type": "code",
   "execution_count": null,
   "id": "30f135e5-5733-412d-8f71-ae0ba487bab2",
   "metadata": {},
   "outputs": [],
   "source": []
  },
  {
   "cell_type": "code",
   "execution_count": null,
   "id": "2a6705c0-a0d6-4cb9-ba7c-9670959683db",
   "metadata": {},
   "outputs": [],
   "source": []
  },
  {
   "cell_type": "code",
   "execution_count": null,
   "id": "60e53aad-a280-42b1-af0f-029c45cfe71f",
   "metadata": {},
   "outputs": [],
   "source": []
  },
  {
   "cell_type": "code",
   "execution_count": 3,
   "id": "3ebc04fb-dbe8-4480-9fee-2148676902d8",
   "metadata": {},
   "outputs": [
    {
     "data": {
      "text/plain": [
       "'+91-9999999999'"
      ]
     },
     "execution_count": 3,
     "metadata": {},
     "output_type": "execute_result"
    }
   ],
   "source": [
    "Number = \"+91-9999999999\"\n",
    "\n",
    "Number"
   ]
  },
  {
   "cell_type": "code",
   "execution_count": 4,
   "id": "8d2c0614-4e92-43e1-957c-57c8389e9e5d",
   "metadata": {},
   "outputs": [],
   "source": [
    "msg1 = \"You are from India\"\n",
    "msg2 = \"Outside India Scam\""
   ]
  },
  {
   "cell_type": "code",
   "execution_count": 5,
   "id": "42484d96-6b2e-49a3-be46-2de7825b3ae6",
   "metadata": {},
   "outputs": [
    {
     "name": "stdout",
     "output_type": "stream",
     "text": [
      "You are from India\n",
      "Hello Python\n"
     ]
    }
   ],
   "source": [
    "if (\"+91\" in Number ):\n",
    "    print(msg1)      # after 4 spaces or 1 tab\n",
    "    msg1 = \"Hello Python\"\n",
    "    print(msg1)\n",
    "\n",
    "if (\"+91\" not in Number):\n",
    "    print(msg2)"
   ]
  },
  {
   "cell_type": "code",
   "execution_count": 10,
   "id": "2943f22f-e4b6-46fe-95eb-448b39aa161c",
   "metadata": {},
   "outputs": [],
   "source": [
    "inp = int(input(\"Enter a number\"))"
   ]
  },
  {
   "cell_type": "markdown",
   "id": "868d893b",
   "metadata": {},
   "source": [
    "Enter a number 10"
   ]
  },
  {
   "cell_type": "code",
   "execution_count": 11,
   "id": "392082f9-c451-4df6-97c0-ef1758f55250",
   "metadata": {},
   "outputs": [
    {
     "name": "stdout",
     "output_type": "stream",
     "text": [
      "even\n"
     ]
    }
   ],
   "source": [
    "if (inp %2 ==0):\n",
    "    print(\"even\")\n",
    "if(inp%2!=0):\n",
    "    print(\"odd\")"
   ]
  },
  {
   "cell_type": "code",
   "execution_count": null,
   "id": "f0e30568-ac89-4036-a115-0ebed4067687",
   "metadata": {},
   "outputs": [],
   "source": []
  },
  {
   "cell_type": "code",
   "execution_count": 12,
   "id": "afe347a8-9c4a-48f8-823b-5b97f947bd02",
   "metadata": {},
   "outputs": [
    {
     "name": "stdout",
     "output_type": "stream",
     "text": [
      "num is even\n"
     ]
    }
   ],
   "source": [
    "if (inp%2==0): \n",
    "    print(\"num is even\")"
   ]
  },
  {
   "cell_type": "code",
   "execution_count": null,
   "id": "b5ee5187-62ec-4e30-9b88-79cb8a55a6fe",
   "metadata": {},
   "outputs": [],
   "source": []
  },
  {
   "cell_type": "code",
   "execution_count": null,
   "id": "7219659e-7992-4dce-a688-398ae27050de",
   "metadata": {},
   "outputs": [],
   "source": []
  },
  {
   "cell_type": "code",
   "execution_count": null,
   "id": "357c41c0-2f28-4e90-a710-46bb4097de65",
   "metadata": {},
   "outputs": [],
   "source": []
  },
  {
   "cell_type": "code",
   "execution_count": 13,
   "id": "5d101f61-92c7-48c9-8f83-a40a7d2d7203",
   "metadata": {},
   "outputs": [],
   "source": [
    "loggedIn = False\n",
    "\n",
    "msg1 = \"Welcome to Netflix\"\n",
    "msg2 = \"Please buy Netflix and don't use your friend's Account \""
   ]
  },
  {
   "cell_type": "code",
   "execution_count": 15,
   "id": "9156732c",
   "metadata": {},
   "outputs": [
    {
     "data": {
      "text/plain": [
       "False"
      ]
     },
     "execution_count": 15,
     "metadata": {},
     "output_type": "execute_result"
    }
   ],
   "source": [
    "loggedIn"
   ]
  },
  {
   "cell_type": "code",
   "execution_count": 16,
   "id": "0d9f57f6",
   "metadata": {},
   "outputs": [
    {
     "data": {
      "text/plain": [
       "'Welcome to Netflix'"
      ]
     },
     "execution_count": 16,
     "metadata": {},
     "output_type": "execute_result"
    }
   ],
   "source": [
    "msg1"
   ]
  },
  {
   "cell_type": "code",
   "execution_count": 17,
   "id": "10e74bc0",
   "metadata": {},
   "outputs": [
    {
     "data": {
      "text/plain": [
       "\"Please buy Netflix and don't use your friend's Account \""
      ]
     },
     "execution_count": 17,
     "metadata": {},
     "output_type": "execute_result"
    }
   ],
   "source": [
    "msg2"
   ]
  },
  {
   "cell_type": "code",
   "execution_count": 14,
   "id": "c01e7497-e457-4677-b1c8-c3e22758572e",
   "metadata": {},
   "outputs": [
    {
     "ename": "IndentationError",
     "evalue": "expected an indented block after 'if' statement on line 1 (1699491420.py, line 4)",
     "output_type": "error",
     "traceback": [
      "  \u001b[36mCell\u001b[39m\u001b[36m \u001b[39m\u001b[32mIn[14]\u001b[39m\u001b[32m, line 4\u001b[39m\n\u001b[31m    \u001b[39m\u001b[31mif(loggedIn == False)\u001b[39m\n    ^\n\u001b[31mIndentationError\u001b[39m\u001b[31m:\u001b[39m expected an indented block after 'if' statement on line 1\n"
     ]
    }
   ],
   "source": [
    "if(loggedIn == True):\n",
    "\n",
    "\n",
    "if(loggedIn == False)"
   ]
  }
 ],
 "metadata": {
  "kernelspec": {
   "display_name": "Python 3",
   "language": "python",
   "name": "python3"
  },
  "language_info": {
   "codemirror_mode": {
    "name": "ipython",
    "version": 3
   },
   "file_extension": ".py",
   "mimetype": "text/x-python",
   "name": "python",
   "nbconvert_exporter": "python",
   "pygments_lexer": "ipython3",
   "version": "3.12.11"
  }
 },
 "nbformat": 4,
 "nbformat_minor": 5
}
