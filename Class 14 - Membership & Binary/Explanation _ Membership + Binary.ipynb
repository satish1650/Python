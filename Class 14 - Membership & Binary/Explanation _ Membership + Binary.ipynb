{
 "cells": [
  {
   "cell_type": "markdown",
   "id": "61fc3677",
   "metadata": {},
   "source": [
    "# Membership Operators\n",
    "\n",
    "Membership operators are used to test if a value or variable is found in a sequence (string, list, tuple, set, etc.).\n",
    "There are two membership operators in Python:\n",
    "\n",
    "1. `in`\n",
    "2. `not in`\n"
   ]
  },
  {
   "cell_type": "markdown",
   "id": "31ce2d0d",
   "metadata": {},
   "source": [
    "## `in` Operator\n",
    "\n",
    "The `in` operator is used to check if a value exists in a sequence. It returns `True` if the value is found, otherwise it returns `False`."
   ]
  },
  {
   "cell_type": "code",
   "execution_count": 1,
   "id": "27e75874",
   "metadata": {},
   "outputs": [
    {
     "name": "stdout",
     "output_type": "stream",
     "text": [
      "True\n",
      "False\n",
      "True\n",
      "False\n"
     ]
    }
   ],
   "source": [
    "# Example of 'in' operator\n",
    "a = 'Mayank'\n",
    "print('aya' in a)  # True\n",
    "print('may' in a)  # False (case-sensitive)\n",
    "\n",
    "numbers = [2, 3, 5, 7]\n",
    "print(2 in numbers)  # True\n",
    "print(11 in numbers)  # False\n"
   ]
  },
  {
   "cell_type": "markdown",
   "id": "fe1da35b",
   "metadata": {},
   "source": [
    "## `not in` Operator\n",
    "\n",
    "The `not in` operator is used to check if a value does not exist in a sequence. It returns `True` if the value is not found, otherwise it returns `False`."
   ]
  },
  {
   "cell_type": "code",
   "execution_count": 2,
   "id": "f65ffb64",
   "metadata": {},
   "outputs": [
    {
     "name": "stdout",
     "output_type": "stream",
     "text": [
      "True\n",
      "True\n",
      "False\n"
     ]
    }
   ],
   "source": [
    "# Example of 'not in' operator\n",
    "a = 'Mayank'\n",
    "print('may' not in a)  # True (case-sensitive)\n",
    "\n",
    "numbers = [1, 2, 3]\n",
    "print(11 not in numbers)  # True\n",
    "print(2 not in numbers)   # False\n"
   ]
  },
  {
   "cell_type": "markdown",
   "id": "fc93cddb",
   "metadata": {},
   "source": [
    "# Binary (Bitwise) Operators\n",
    "\n",
    "Binary (bitwise) operators are used to perform operations on binary numbers. These operators work on bits and perform bit-by-bit operations. The binary representations of integers are used to perform these operations.\n",
    "\n",
    "Here are the common binary operators in Python:\n",
    "\n",
    "1. Bitwise AND (`&`)\n",
    "2. Bitwise OR (`|`)\n",
    "3. Bitwise XOR (`^`)\n",
    "4. Bitwise NOT (`~`)\n",
    "5. Bitwise Left Shift (`<<`)\n",
    "6. Bitwise Right Shift (`>>`)\n"
   ]
  },
  {
   "cell_type": "markdown",
   "id": "bb0727a7",
   "metadata": {},
   "source": [
    "## Bitwise AND (`&`)\n",
    "\n",
    "The bitwise AND operator compares each bit of the first operand to the corresponding bit of the second operand. If both bits are 1, the corresponding result bit is set to 1. Otherwise, it is set to 0."
   ]
  },
  {
   "cell_type": "code",
   "execution_count": 3,
   "id": "3acc40be",
   "metadata": {},
   "outputs": [
    {
     "name": "stdout",
     "output_type": "stream",
     "text": [
      "4\n"
     ]
    }
   ],
   "source": [
    "# Example of Bitwise AND\n",
    "a = 5  # binary: 0101\n",
    "b = 4  # binary: 0100\n",
    "\n",
    "print(a & b)  # result: 0100 (4 in decimal)\n"
   ]
  },
  {
   "cell_type": "markdown",
   "id": "292dc2f9",
   "metadata": {},
   "source": [
    "## Bitwise OR (`|`)\n",
    "\n",
    "The bitwise OR operator compares each bit of the first operand to the corresponding bit of the second operand. If either bit is 1, the corresponding result bit is set to 1. Otherwise, it is set to 0."
   ]
  },
  {
   "cell_type": "code",
   "execution_count": 4,
   "id": "637dbb38",
   "metadata": {},
   "outputs": [
    {
     "name": "stdout",
     "output_type": "stream",
     "text": [
      "5\n"
     ]
    }
   ],
   "source": [
    "# Example of Bitwise OR\n",
    "a = 5  # binary: 0101\n",
    "b = 4  # binary: 0100\n",
    "\n",
    "print(a | b)  # result: 0101 (5 in decimal)\n"
   ]
  },
  {
   "cell_type": "markdown",
   "id": "9f7b238b",
   "metadata": {},
   "source": [
    "## Bitwise XOR (`^`)\n",
    "\n",
    "The bitwise XOR operator compares each bit of the first operand to the corresponding bit of the second operand. If the bits are different, the corresponding result bit is set to 1. Otherwise, it is set to 0."
   ]
  },
  {
   "cell_type": "code",
   "execution_count": 5,
   "id": "81d3a3cc",
   "metadata": {},
   "outputs": [
    {
     "name": "stdout",
     "output_type": "stream",
     "text": [
      "1\n"
     ]
    }
   ],
   "source": [
    "# Example of Bitwise XOR\n",
    "a = 5  # binary: 0101\n",
    "b = 4  # binary: 0100\n",
    "\n",
    "print(a ^ b)  # result: 0001 (1 in decimal)\n"
   ]
  },
  {
   "cell_type": "markdown",
   "id": "1da5cd72",
   "metadata": {},
   "source": [
    "## Bitwise NOT (`~`)\n",
    "\n",
    "The bitwise NOT operator inverts all the bits of its operand. The result is the 1's complement of the number."
   ]
  },
  {
   "cell_type": "code",
   "execution_count": 6,
   "id": "908c4e73",
   "metadata": {},
   "outputs": [
    {
     "name": "stdout",
     "output_type": "stream",
     "text": [
      "-6\n"
     ]
    }
   ],
   "source": [
    "# Example of Bitwise NOT\n",
    "a = 5  # binary: 0101\n",
    "\n",
    "print(~a)  # result: 1010 (in 2's complement form, -6 in decimal)\n"
   ]
  },
  {
   "cell_type": "markdown",
   "id": "e7f4d10b",
   "metadata": {},
   "source": [
    "## Bitwise Left Shift (`<<`)\n",
    "\n",
    "The bitwise left shift operator shifts the bits of the operand to the left by the number of positions specified. It is equivalent to multiplying the number by 2 raised to the power of the number of positions shifted."
   ]
  },
  {
   "cell_type": "code",
   "execution_count": 7,
   "id": "ea15d0cd",
   "metadata": {},
   "outputs": [
    {
     "name": "stdout",
     "output_type": "stream",
     "text": [
      "10\n",
      "20\n"
     ]
    }
   ],
   "source": [
    "# Example of Bitwise Left Shift\n",
    "a = 5  # binary: 0101\n",
    "\n",
    "print(a << 1)  # result: 1010 (10 in decimal)\n",
    "print(a << 2)  # result: 10100 (20 in decimal)\n"
   ]
  },
  {
   "cell_type": "markdown",
   "id": "c005e391",
   "metadata": {},
   "source": [
    "## Bitwise Right Shift (`>>`)\n",
    "\n",
    "The bitwise right shift operator shifts the bits of the operand to the right by the number of positions specified. It is equivalent to dividing the number by 2 raised to the power of the number of positions shifted, and discarding any remainder."
   ]
  },
  {
   "cell_type": "code",
   "execution_count": 8,
   "id": "8448e0da",
   "metadata": {},
   "outputs": [
    {
     "name": "stdout",
     "output_type": "stream",
     "text": [
      "10\n",
      "5\n"
     ]
    }
   ],
   "source": [
    "# Example of Bitwise Right Shift\n",
    "a = 20  # binary: 10100\n",
    "\n",
    "print(a >> 1)  # result: 1010 (10 in decimal)\n",
    "print(a >> 2)  # result: 0101 (5 in decimal)\n"
   ]
  },
  {
   "cell_type": "markdown",
   "id": "4f242dfc",
   "metadata": {},
   "source": [
    "## Bitwise Complement (`~`)\n",
    "\n",
    "The bitwise complement operator flips all the bits in the binary representation of the number. In Python, the result is computed as `-(x+1)`."
   ]
  },
  {
   "cell_type": "code",
   "execution_count": 9,
   "id": "fc025a74",
   "metadata": {},
   "outputs": [
    {
     "name": "stdout",
     "output_type": "stream",
     "text": [
      "-6\n"
     ]
    }
   ],
   "source": [
    "# Example of Bitwise Complement\n",
    "a = 5  # binary: 0101\n",
    "\n",
    "print(~a)  # result: -6 (in 2's complement form, 1010 in binary)\n"
   ]
  },
  {
   "cell_type": "markdown",
   "id": "90a4a400",
   "metadata": {},
   "source": [
    "# Industry Use Cases\n",
    "\n",
    "1. **Data Security**: Membership operators are used to verify user permissions and roles.\n",
    "2. **Network Programming**: Bitwise operations are essential in network programming for manipulating IP addresses and subnet masks.\n",
    "3. **Graphics Programming**: Bitwise operations are used in graphics programming for color manipulation and image processing.\n",
    "4. **Embedded Systems**: Bitwise operations are heavily used in embedded systems for hardware control and register manipulation.\n",
    "5. **Cryptography**: Bitwise operations are fundamental in cryptographic algorithms for encryption and decryption processes.\n",
    "6. **Compression Algorithms**: Bitwise operations are used in data compression algorithms to manipulate individual bits and bytes efficiently.\n",
    "7. **Digital Signal Processing**: Bitwise operations are used in DSP algorithms for filtering, encoding, and decoding signals.\n"
   ]
  },
  {
   "cell_type": "code",
   "execution_count": null,
   "id": "d1186092-2ef1-4afa-9d42-4e48fc819fd3",
   "metadata": {},
   "outputs": [],
   "source": []
  },
  {
   "cell_type": "markdown",
   "id": "ccc12be3-f379-4fdd-9fba-03532f4c5c4a",
   "metadata": {},
   "source": [
    "\n",
    "### Questions\n",
    "\n",
    "1\\. What is the purpose of the `in` operator in Python?\n",
    "\n",
    "2\\. How does the `not in` operator work in Python?\n",
    "\n",
    "3\\. Write a code snippet to check if the letter 'a' is in the string 'banana'.\n",
    "\n",
    "4\\. What is the difference between `&` and `|` operators in Python?\n",
    "\n",
    "5\\. Write a code snippet to demonstrate the use of the bitwise XOR operator.\n",
    "\n",
    "6\\. How does the bitwise NOT operator (`~`) function in Python?\n",
    "\n",
    "7\\. What is the result of the expression `5 << 2`?\n",
    "\n",
    "8\\. Write a code snippet to perform a bitwise right shift on the number 32 by 3 positions.\n",
    "\n",
    "9\\. Explain a real-world scenario where bitwise operations are used.\n",
    "\n",
    "10\\. How can membership operators be used in data security?"
   ]
  },
  {
   "cell_type": "markdown",
   "id": "f293a590-4ac7-427c-ad0f-c84c76df1842",
   "metadata": {
    "jp-MarkdownHeadingCollapsed": true
   },
   "source": [
    "# Answers"
   ]
  },
  {
   "cell_type": "markdown",
   "id": "cf10d88c-55a6-47f4-959b-ca4453d4cfbc",
   "metadata": {},
   "source": [
    "\n",
    "\n",
    "## Answers\n",
    "\n",
    "1\\. **What is the purpose of the `in` operator in Python?**\n",
    "\n",
    "   - The `in` operator is used to check if a value exists in a sequence (such as a string, list, tuple, or set). It returns `True` if the value is found, otherwise it returns `False`.\n",
    "\n",
    "2\\. **How does the `not in` operator work in Python?**\n",
    "\n",
    "   - The `not in` operator is used to check if a value does not exist in a sequence. It returns `True` if the value is not found, otherwise it returns `False`.\n",
    "\n",
    "3\\. **Write a code snippet to check if the letter 'a' is in the string 'banana'.**\n",
    "\n",
    "   ```python\n",
    "\n",
    "   string = 'banana'\n",
    "\n",
    "   print('a' in string)  # True\n",
    "\n",
    "   ```\n",
    "\n",
    "4\\. **What is the difference between `&` and `|` operators in Python?**\n",
    "\n",
    "   - The `&` operator (bitwise AND) compares each bit of two numbers and returns a new number whose bits are set to 1 only if both corresponding bits of the operands are 1. The `|` operator (bitwise OR) compares each bit of two numbers and returns a new number whose bits are set to 1 if at least one of the corresponding bits of the operands is 1.\n",
    "\n",
    "5\\. **Write a code snippet to demonstrate the use of the bitwise XOR operator.**\n",
    "\n",
    "   ```python\n",
    "\n",
    "   a = 5  # binary: 0101\n",
    "\n",
    "   b = 3  # binary: 0011\n",
    "\n",
    "   print(a ^ b)  # result: 0110 (6 in decimal)\n",
    "\n",
    "   ```\n",
    "\n",
    "6\\. **How does the bitwise NOT operator (`~`) function in Python?**\n",
    "\n",
    "   - The bitwise NOT operator inverts all the bits in the binary representation of the number. In Python, the result is computed as `-(x + 1)`, effectively flipping all the bits and adding 1 to the original number's negative form.\n",
    "\n",
    "7\\. **What is the result of the expression `5 << 2`?**\n",
    "\n",
    "   - The result of `5 << 2` is 20. The binary representation of 5 is `0101`. Shifting left by 2 positions gives `10100`, which is 20 in decimal.\n",
    "\n",
    "8\\. **Write a code snippet to perform a bitwise right shift on the number 32 by 3 positions.**\n",
    "\n",
    "   ```python\n",
    "\n",
    "   a = 32  # binary: 100000\n",
    "\n",
    "   print(a >> 3)  # result: 000100 (4 in decimal)\n",
    "\n",
    "   ```\n",
    "\n",
    "9\\. **Explain a real-world scenario where bitwise operations are used.**\n",
    "\n",
    "   - Bitwise operations are used in network programming for manipulating IP addresses and subnet masks. For example, applying a bitwise AND operation between an IP address and a subnet mask can determine the network portion of the address.\n",
    "\n",
    "10\\. **How can membership operators be used in data security?**\n",
    "\n",
    "    - Membership operators can be used to verify user permissions and roles. For example, checking if a user's role is present in a list of authorized roles before granting access to a resource.\n"
   ]
  },
  {
   "cell_type": "code",
   "execution_count": null,
   "id": "8e281299-0400-4c61-a084-1a6f4eda75c3",
   "metadata": {},
   "outputs": [],
   "source": []
  }
 ],
 "metadata": {
  "kernelspec": {
   "display_name": "base",
   "language": "python",
   "name": "python3"
  },
  "language_info": {
   "codemirror_mode": {
    "name": "ipython",
    "version": 3
   },
   "file_extension": ".py",
   "mimetype": "text/x-python",
   "name": "python",
   "nbconvert_exporter": "python",
   "pygments_lexer": "ipython3",
   "version": "3.13.2"
  }
 },
 "nbformat": 4,
 "nbformat_minor": 5
}
