{
 "cells": [
  {
   "cell_type": "markdown",
   "id": "54e69a44",
   "metadata": {},
   "source": [
    "# Slicing sequences (lists, strings, tuples)\n",
    "\n",
    "Python's slicing syntax allows you to extract portions of sequences. The syntax `[start:stop:step]` includes a step parameter, which determines the interval between elements in the resulting slice."
   ]
  },
  {
   "cell_type": "code",
   "execution_count": 20,
   "id": "dc1f1ca5",
   "metadata": {},
   "outputs": [],
   "source": [
    "s = 'python'"
   ]
  },
  {
   "cell_type": "code",
   "execution_count": null,
   "id": "7b9304b7-b95f-4ba3-83e1-84e93aaf86dd",
   "metadata": {},
   "outputs": [],
   "source": []
  },
  {
   "cell_type": "code",
   "execution_count": 2,
   "id": "975bcc80-bfb7-4280-8476-50e9e790e81d",
   "metadata": {},
   "outputs": [
    {
     "data": {
      "text/plain": [
       "'tho'"
      ]
     },
     "execution_count": 2,
     "metadata": {},
     "output_type": "execute_result"
    }
   ],
   "source": [
    "s [ -4:-1]"
   ]
  },
  {
   "cell_type": "code",
   "execution_count": null,
   "id": "29c94986-7cac-4b9a-b998-c0828748dc9b",
   "metadata": {},
   "outputs": [],
   "source": []
  },
  {
   "cell_type": "code",
   "execution_count": 3,
   "id": "8ec56395-cf36-4805-81a9-1bf583ee6b83",
   "metadata": {},
   "outputs": [
    {
     "data": {
      "text/plain": [
       "'ho'"
      ]
     },
     "execution_count": 3,
     "metadata": {},
     "output_type": "execute_result"
    }
   ],
   "source": [
    "s[-3:-1]"
   ]
  },
  {
   "cell_type": "code",
   "execution_count": 4,
   "id": "0d9e6e78-a054-4f76-8933-4be4fb8ca87c",
   "metadata": {},
   "outputs": [
    {
     "data": {
      "text/plain": [
       "'python'"
      ]
     },
     "execution_count": 4,
     "metadata": {},
     "output_type": "execute_result"
    }
   ],
   "source": [
    "s[:1000000000]"
   ]
  },
  {
   "cell_type": "code",
   "execution_count": 5,
   "id": "f3816594-e1a8-49a1-86e8-e5bd7c54ada9",
   "metadata": {},
   "outputs": [
    {
     "data": {
      "text/plain": [
       "''"
      ]
     },
     "execution_count": 5,
     "metadata": {},
     "output_type": "execute_result"
    }
   ],
   "source": [
    "s[100:10000]"
   ]
  },
  {
   "cell_type": "code",
   "execution_count": 6,
   "id": "e583e328-4d77-4a38-a4bc-1511adfe8a0a",
   "metadata": {},
   "outputs": [
    {
     "data": {
      "text/plain": [
       "''"
      ]
     },
     "execution_count": 6,
     "metadata": {},
     "output_type": "execute_result"
    }
   ],
   "source": [
    "s[-2:-6]"
   ]
  },
  {
   "cell_type": "code",
   "execution_count": 7,
   "id": "dee00998-6f33-4763-a192-ea96a88b029d",
   "metadata": {},
   "outputs": [
    {
     "data": {
      "text/plain": [
       "'python'"
      ]
     },
     "execution_count": 7,
     "metadata": {},
     "output_type": "execute_result"
    }
   ],
   "source": [
    "s"
   ]
  },
  {
   "cell_type": "code",
   "execution_count": 8,
   "id": "c999a37c-6d01-4f76-b237-8525a8e63caf",
   "metadata": {},
   "outputs": [
    {
     "data": {
      "text/plain": [
       "'pto'"
      ]
     },
     "execution_count": 8,
     "metadata": {},
     "output_type": "execute_result"
    }
   ],
   "source": [
    "s[0:len(s):2]"
   ]
  },
  {
   "cell_type": "code",
   "execution_count": null,
   "id": "5ec840fe-81e4-4729-ab72-f5eac6b2bdb1",
   "metadata": {},
   "outputs": [],
   "source": []
  },
  {
   "cell_type": "code",
   "execution_count": 9,
   "id": "9501ba6f-5a1e-4f56-b5f0-40955e48dac6",
   "metadata": {},
   "outputs": [
    {
     "data": {
      "text/plain": [
       "'python'"
      ]
     },
     "execution_count": 9,
     "metadata": {},
     "output_type": "execute_result"
    }
   ],
   "source": [
    "s"
   ]
  },
  {
   "cell_type": "code",
   "execution_count": 10,
   "id": "3d095a9b-dd1e-49d3-8ff5-4a8d8f6a3f0c",
   "metadata": {},
   "outputs": [
    {
     "data": {
      "text/plain": [
       "'pytho'"
      ]
     },
     "execution_count": 10,
     "metadata": {},
     "output_type": "execute_result"
    }
   ],
   "source": [
    "s[0:5]"
   ]
  },
  {
   "cell_type": "code",
   "execution_count": 11,
   "id": "904ad373-33f9-4578-8e1e-98635a99cd15",
   "metadata": {},
   "outputs": [
    {
     "data": {
      "text/plain": [
       "'pytho'"
      ]
     },
     "execution_count": 11,
     "metadata": {},
     "output_type": "execute_result"
    }
   ],
   "source": [
    "s[0:5:1]"
   ]
  },
  {
   "cell_type": "code",
   "execution_count": 12,
   "id": "9e5372c7-ae27-4c6d-9a4e-c8e2ed1f39c2",
   "metadata": {},
   "outputs": [
    {
     "data": {
      "text/plain": [
       "'pto'"
      ]
     },
     "execution_count": 12,
     "metadata": {},
     "output_type": "execute_result"
    }
   ],
   "source": [
    "s[0:5:2]"
   ]
  },
  {
   "cell_type": "code",
   "execution_count": null,
   "id": "c71330be-b67c-4750-970d-49022d2394ca",
   "metadata": {},
   "outputs": [],
   "source": []
  },
  {
   "cell_type": "code",
   "execution_count": 13,
   "id": "c662926a-232d-4efa-8c37-a758230b6d67",
   "metadata": {},
   "outputs": [
    {
     "data": {
      "text/plain": [
       "''"
      ]
     },
     "execution_count": 13,
     "metadata": {},
     "output_type": "execute_result"
    }
   ],
   "source": [
    "s[5:0]"
   ]
  },
  {
   "cell_type": "code",
   "execution_count": 14,
   "id": "4a2292e0-9d51-4456-b4c4-fecf7905fdce",
   "metadata": {},
   "outputs": [
    {
     "data": {
      "text/plain": [
       "''"
      ]
     },
     "execution_count": 14,
     "metadata": {},
     "output_type": "execute_result"
    }
   ],
   "source": [
    "s[5:0:3]"
   ]
  },
  {
   "cell_type": "code",
   "execution_count": null,
   "id": "0f7f24d9-1f24-4377-b11e-438c7a439ea4",
   "metadata": {},
   "outputs": [],
   "source": []
  },
  {
   "cell_type": "code",
   "execution_count": 15,
   "id": "b6356c68-4be7-4ede-acd2-8f1097828efa",
   "metadata": {},
   "outputs": [
    {
     "data": {
      "text/plain": [
       "'nohty'"
      ]
     },
     "execution_count": 15,
     "metadata": {},
     "output_type": "execute_result"
    }
   ],
   "source": [
    "s[5:0:-1]"
   ]
  },
  {
   "cell_type": "code",
   "execution_count": 16,
   "id": "bad3ba10-b238-49d9-9b41-9aaa30341c7b",
   "metadata": {},
   "outputs": [
    {
     "data": {
      "text/plain": [
       "'nhy'"
      ]
     },
     "execution_count": 16,
     "metadata": {},
     "output_type": "execute_result"
    }
   ],
   "source": [
    "s[5:0:-2]"
   ]
  },
  {
   "cell_type": "code",
   "execution_count": 17,
   "id": "2f0a697b-091b-412a-bfa5-07edc7ff38c2",
   "metadata": {},
   "outputs": [
    {
     "data": {
      "text/plain": [
       "'pyt'"
      ]
     },
     "execution_count": 17,
     "metadata": {},
     "output_type": "execute_result"
    }
   ],
   "source": [
    "s[-6:3]"
   ]
  },
  {
   "cell_type": "code",
   "execution_count": 18,
   "id": "938af7b4-8975-4f7a-b67b-1264fd11d85e",
   "metadata": {},
   "outputs": [
    {
     "data": {
      "text/plain": [
       "('p', 'h')"
      ]
     },
     "execution_count": 18,
     "metadata": {},
     "output_type": "execute_result"
    }
   ],
   "source": [
    "s[-6],s[3]"
   ]
  },
  {
   "cell_type": "code",
   "execution_count": 19,
   "id": "48e6f9ad-33c0-48db-84ee-55ffb7c1eb45",
   "metadata": {},
   "outputs": [
    {
     "data": {
      "text/plain": [
       "'pt'"
      ]
     },
     "execution_count": 19,
     "metadata": {},
     "output_type": "execute_result"
    }
   ],
   "source": [
    "s[-6:3:2]"
   ]
  },
  {
   "cell_type": "code",
   "execution_count": null,
   "id": "620c5ff2-4ff9-4cbd-a860-14105ecd1b47",
   "metadata": {},
   "outputs": [],
   "source": []
  }
 ],
 "metadata": {
  "kernelspec": {
   "display_name": "base",
   "language": "python",
   "name": "python3"
  },
  "language_info": {
   "codemirror_mode": {
    "name": "ipython",
    "version": 3
   },
   "file_extension": ".py",
   "mimetype": "text/x-python",
   "name": "python",
   "nbconvert_exporter": "python",
   "pygments_lexer": "ipython3",
   "version": "3.13.2"
  }
 },
 "nbformat": 4,
 "nbformat_minor": 5
}
