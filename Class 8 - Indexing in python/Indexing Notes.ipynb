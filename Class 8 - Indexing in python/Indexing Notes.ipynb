{
 "cells": [
  {
   "cell_type": "markdown",
   "metadata": {},
   "source": [
    "# Indexing in Python"
   ]
  },
  {
   "cell_type": "markdown",
   "metadata": {},
   "source": [
    "In Python, sequences like strings are stored in continuous memory locations. We can access individual elements (characters of a string) using indexing. Each character in the memory location is assigned an index which starts from 0. Programmers count from 0 and the last element has the index `len(sequence) - 1`."
   ]
  },
  {
   "cell_type": "code",
   "execution_count": 1,
   "metadata": {},
   "outputs": [
    {
     "name": "stdout",
     "output_type": "stream",
     "text": [
      "p\n",
      "h\n",
      "n\n"
     ]
    }
   ],
   "source": [
    "# Example of indexing in Python\n",
    "text = 'python'\n",
    "print(text[0])  # Output: 'p'\n",
    "print(text[3])  # Output: 'h'\n",
    "print(text[5])  # Output: 'n'\n",
    "#print(text[6])  # This will raise an IndexError as there is no index 6"
   ]
  },
  {
   "cell_type": "markdown",
   "metadata": {},
   "source": [
    "Python also allows negative indexing, which begins from the end of the string. The index `-1` is the last character, `-2` is the second last, and so on."
   ]
  },
  {
   "cell_type": "code",
   "execution_count": 2,
   "metadata": {},
   "outputs": [
    {
     "name": "stdout",
     "output_type": "stream",
     "text": [
      "n\n",
      "o\n",
      "p\n"
     ]
    }
   ],
   "source": [
    "# Example of negative indexing\n",
    "print(text[-1])  # Output: 'n'\n",
    "print(text[-2])  # Output: 'o'\n",
    "print(text[-6])  # Output: 'p'\n",
    "#print(text[-7])  # This will raise an IndexError as there is no index -7"
   ]
  },
  {
   "cell_type": "markdown",
   "metadata": {},
   "source": [
    "# Important Points about Indexing\n",
    "- Indexing starts from 0.\n",
    "- Negative indexing starts from -1 (the last character).\n",
    "- Trying to access an index that does not exist will raise an `IndexError`."
   ]
  },
  {
   "cell_type": "code",
   "execution_count": 3,
   "metadata": {},
   "outputs": [
    {
     "name": "stdout",
     "output_type": "stream",
     "text": [
      "e\n",
      "o\n",
      "o\n",
      "h\n"
     ]
    }
   ],
   "source": [
    "# Additional examples\n",
    "word = 'hello'\n",
    "\n",
    "# Accessing with positive indexes\n",
    "print(word[1])  # Output: 'e'\n",
    "print(word[4])  # Output: 'o'\n",
    "\n",
    "# Accessing with negative indexes\n",
    "print(word[-1])  # Output: 'o'\n",
    "print(word[-5])  # Output: 'h'\n"
   ]
  },
  {
   "cell_type": "markdown",
   "metadata": {},
   "source": [
    "## Industry Use Cases\n",
    "- **String Manipulation:** Indexing is fundamental in tasks like parsing data, searching, and modifying strings.\n",
    "- **Data Processing:** In data analysis, indexing is used to access specific elements of datasets.\n",
    "- **Web Development:** Indexing is used to manipulate and display text content dynamically."
   ]
  },
  {
   "cell_type": "markdown",
   "metadata": {},
   "source": [
    "# Questions\n",
    "\n",
    "1. What is the index of the first character in a string?\n",
    "2. How can you access the last character of a string using indexing?\n",
    "3. What error is raised if you try to access an index that is out of range?\n",
    "4. Write a code snippet to print the second character of a string.\n",
    "5. Write a code snippet to print the second last character of a string.\n",
    "6. Explain the difference between positive and negative indexing.\n",
    "7. Write a code snippet to demonstrate accessing elements in a string using both positive and negative indexing."
   ]
  },
  {
   "cell_type": "code",
   "execution_count": 4,
   "metadata": {},
   "outputs": [
    {
     "name": "stdout",
     "output_type": "stream",
     "text": [
      "n\n",
      "y\n",
      "o\n",
      "a\n",
      "l\n"
     ]
    }
   ],
   "source": [
    "# Answers\n",
    "\n",
    "# 1. What is the index of the first character in a string?\n",
    "first_index = 0\n",
    "\n",
    "# 2. How can you access the last character of a string using indexing?\n",
    "last_character = text[-1]\n",
    "print(last_character)  # Output: 'n'\n",
    "\n",
    "# 3. What error is raised if you try to access an index that is out of range?\n",
    "# IndexError is raised.\n",
    "\n",
    "# 4. Write a code snippet to print the second character of a string.\n",
    "print(text[1])  # Output: 'y'\n",
    "\n",
    "# 5. Write a code snippet to print the second last character of a string.\n",
    "print(text[-2])  # Output: 'o'\n",
    "\n",
    "# 6. Explain the difference between positive and negative indexing.\n",
    "# Positive indexing starts from the beginning (index 0) and goes to the end (index len-1).\n",
    "# Negative indexing starts from the end (index -1) and goes to the beginning (index -len).\n",
    "\n",
    "# 7. Write a code snippet to demonstrate accessing elements in a string using both positive and negative indexing.\n",
    "word = 'example'\n",
    "print(word[2])   # Output: 'a'\n",
    "print(word[-2])  # Output: 'l'\n"
   ]
  }
 ],
 "metadata": {
  "kernelspec": {
   "display_name": "base",
   "language": "python",
   "name": "python3"
  },
  "language_info": {
   "codemirror_mode": {
    "name": "ipython",
    "version": 3
   },
   "file_extension": ".py",
   "mimetype": "text/x-python",
   "name": "python",
   "nbconvert_exporter": "python",
   "pygments_lexer": "ipython3",
   "version": "3.13.2"
  }
 },
 "nbformat": 4,
 "nbformat_minor": 4
}
