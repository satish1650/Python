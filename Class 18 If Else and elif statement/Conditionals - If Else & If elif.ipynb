{
 "cells": [
  {
   "cell_type": "code",
   "execution_count": 1,
   "id": "ae4b5772-17fb-42a1-85c1-75df19f260df",
   "metadata": {},
   "outputs": [],
   "source": [
    "\n",
    "LoggedIn = False"
   ]
  },
  {
   "cell_type": "code",
   "execution_count": 2,
   "id": "093e0f06-d1e4-4c89-9ea9-85e82a58269d",
   "metadata": {},
   "outputs": [
    {
     "name": "stdout",
     "output_type": "stream",
     "text": [
      "I am here\n",
      "Please go\n",
      "Still share this series\n",
      "I am out\n"
     ]
    }
   ],
   "source": [
    "print(\"I am here\")\n",
    "\n",
    "if (LoggedIn):\n",
    "    print(\"Welcome Back\")\n",
    "    print(\"Helo Python is awesome\")\n",
    "else:\n",
    "    print(\"Please go\")\n",
    "    print(\"Still share this series\")\n",
    "\n",
    "print(\"I am out\")"
   ]
  },
  {
   "cell_type": "code",
   "execution_count": null,
   "id": "ad712b30-b47d-4a1c-9959-d801cc311ceb",
   "metadata": {},
   "outputs": [],
   "source": []
  },
  {
   "cell_type": "code",
   "execution_count": null,
   "id": "6822b047-2b1f-412c-a445-9ca2a7448fe0",
   "metadata": {},
   "outputs": [],
   "source": []
  },
  {
   "cell_type": "code",
   "execution_count": 3,
   "id": "d1718e3d-658e-462c-bce2-c84c5d69d4e5",
   "metadata": {},
   "outputs": [],
   "source": [
    "num = int(input(\"enter a num\"))"
   ]
  },
  {
   "cell_type": "code",
   "execution_count": null,
   "id": "2635ca27",
   "metadata": {},
   "outputs": [],
   "source": [
    "enter a num 100"
   ]
  },
  {
   "cell_type": "code",
   "execution_count": 27,
   "id": "1204e58e-9c4c-4d93-9193-27427a57c8f0",
   "metadata": {},
   "outputs": [
    {
     "name": "stdout",
     "output_type": "stream",
     "text": [
      "greater than 10\n"
     ]
    }
   ],
   "source": [
    "if(num<10):\n",
    "    print(\"less than 10\")\n",
    "else:\n",
    "    print(\"greater than 10\")"
   ]
  },
  {
   "cell_type": "code",
   "execution_count": null,
   "id": "2fe2d117-b049-4336-8bcb-afaf99afd733",
   "metadata": {},
   "outputs": [],
   "source": []
  },
  {
   "cell_type": "code",
   "execution_count": null,
   "id": "aaff5e40-1fe2-45b9-a978-a8777c3ad29c",
   "metadata": {},
   "outputs": [],
   "source": []
  },
  {
   "cell_type": "code",
   "execution_count": null,
   "id": "7c335f5a-f0bf-417d-8344-926362a2b331",
   "metadata": {},
   "outputs": [],
   "source": []
  },
  {
   "cell_type": "code",
   "execution_count": 4,
   "id": "6e0820ae-4bd2-4c9e-acd7-29f1924a03c7",
   "metadata": {},
   "outputs": [],
   "source": [
    "charInp = input(\"Enter a character\")"
   ]
  },
  {
   "cell_type": "code",
   "execution_count": null,
   "id": "c9087838",
   "metadata": {},
   "outputs": [],
   "source": [
    "Enter a character 8"
   ]
  },
  {
   "cell_type": "code",
   "execution_count": 49,
   "id": "6f96f0da-77a6-4cfd-95d7-408c06cd24e8",
   "metadata": {},
   "outputs": [
    {
     "name": "stdout",
     "output_type": "stream",
     "text": [
      "its a number\n"
     ]
    }
   ],
   "source": [
    "if (charInp >= 'a' and charInp <='z'):\n",
    "    print(\"its a small char\")\n",
    "    #print(\"another statement\")\n",
    "elif (charInp >= 'A' and charInp <='Z'):\n",
    "    print(\"Its a capital\")\n",
    "elif (charInp >= '0' and charInp <='9'):\n",
    "    print(\"its a number\")   \n",
    "else :\n",
    "    print(\"its a special symbol\")"
   ]
  },
  {
   "cell_type": "code",
   "execution_count": 5,
   "id": "44228f1b-8f17-4137-883c-3ec0bd6796f5",
   "metadata": {},
   "outputs": [
    {
     "data": {
      "text/plain": [
       "56"
      ]
     },
     "execution_count": 5,
     "metadata": {},
     "output_type": "execute_result"
    }
   ],
   "source": [
    "ord(charInp)"
   ]
  },
  {
   "cell_type": "code",
   "execution_count": null,
   "id": "2be2a836-4e12-479c-81fc-5bccb68e671e",
   "metadata": {},
   "outputs": [],
   "source": []
  },
  {
   "cell_type": "code",
   "execution_count": null,
   "id": "83acb034-0c84-43ea-967c-11e67c91427a",
   "metadata": {},
   "outputs": [],
   "source": []
  },
  {
   "cell_type": "raw",
   "id": "0ff50ca9-22e3-46f0-a8b0-abde8fc9cdd8",
   "metadata": {},
   "source": [
    "Q. Write a program to accept percentage from the user and display the grade according to the\n",
    "following criteria:\n",
    "Marks\n",
    "A  -  Marks  > 90\n",
    "B  -  Marks >= 80 and Marks<= 90\n",
    "C  -  Marks >= 60 and Marks< 80\n",
    "D  -  Marks below 60\n"
   ]
  },
  {
   "cell_type": "code",
   "execution_count": 17,
   "id": "d34a3fb9-e929-4151-ab94-74e3e4ee3cf6",
   "metadata": {},
   "outputs": [],
   "source": [
    "perc = int(input(\"enter a perc %\"))"
   ]
  },
  {
   "cell_type": "code",
   "execution_count": 18,
   "id": "2fd071a5-f884-4571-839a-8ab31f87fd88",
   "metadata": {},
   "outputs": [
    {
     "name": "stdout",
     "output_type": "stream",
     "text": [
      "B\n"
     ]
    }
   ],
   "source": [
    "if(perc > 90):\n",
    "    print(\"A\")\n",
    "elif(perc >=80 and perc <=90):\n",
    "    print(\"B\")\n",
    "elif(perc >=80 and perc <=90):\n",
    "    print(\"B2\")\n",
    "elif(perc >=60 and perc <= 80):\n",
    "    print(\"B\")\n",
    "elif(perc < 60 and perc > 0):\n",
    "    print(\"B\")\n",
    "else:\n",
    "    print(\"invalid Percentage\")"
   ]
  },
  {
   "cell_type": "code",
   "execution_count": null,
   "id": "29f29abf",
   "metadata": {},
   "outputs": [],
   "source": [
    "enter a perc % -5\n",
    "\n",
    "Output:\n",
    "invalid Percentage\n",
    "\n",
    "enter a perc % 90\n",
    "\n",
    "Output:\n",
    "B\n",
    "\n",
    "enter a perc % 95\n",
    "\n",
    "Output:\n",
    "A\n",
    "\n",
    "enter a perc % 56\n",
    "\n",
    "Output:\n",
    "B"
   ]
  }
 ],
 "metadata": {
  "kernelspec": {
   "display_name": "Python 3",
   "language": "python",
   "name": "python3"
  },
  "language_info": {
   "codemirror_mode": {
    "name": "ipython",
    "version": 3
   },
   "file_extension": ".py",
   "mimetype": "text/x-python",
   "name": "python",
   "nbconvert_exporter": "python",
   "pygments_lexer": "ipython3",
   "version": "3.12.11"
  }
 },
 "nbformat": 4,
 "nbformat_minor": 5
}
